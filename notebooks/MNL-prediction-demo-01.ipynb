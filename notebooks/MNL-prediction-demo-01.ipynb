{
 "cells": [
  {
   "cell_type": "markdown",
   "metadata": {},
   "source": [
    "## MNL prediction demo\n",
    "\n",
    "Sam Maurer, July 2017\n",
    "\n",
    "Pyton 3.6\n",
    "\n",
    "### Summary\n",
    "\n",
    "This notebook demonstrates how to fit a model using the ChoiceModels interface and then use the UrbanSim MNL functions to generate predictions. \n",
    "\n",
    "Eventually, a prediction interface will be incorporated into the `MultinomialLogitResults` object, but it's not there yet. \n",
    "\n",
    "This demo uses the estimation data that's set up in the `Data-prep-01` notebook."
   ]
  },
  {
   "cell_type": "code",
   "execution_count": 24,
   "metadata": {
    "collapsed": true
   },
   "outputs": [],
   "source": [
    "import numpy as np\n",
    "import pandas as pd\n",
    "\n",
    "from patsy import dmatrix\n",
    "\n",
    "from choicemodels import mnl  # could also import form urbansim.urbanchoice\n",
    "from choicemodels import MultinomialLogit\n",
    "from choicemodels.tools import MergedChoiceTable"
   ]
  },
  {
   "cell_type": "code",
   "execution_count": 2,
   "metadata": {
    "collapsed": true
   },
   "outputs": [],
   "source": [
    "# Suppress deprecation warnings\n",
    "import warnings; warnings.simplefilter('ignore')"
   ]
  },
  {
   "cell_type": "code",
   "execution_count": null,
   "metadata": {
    "collapsed": true
   },
   "outputs": [],
   "source": []
  },
  {
   "cell_type": "markdown",
   "metadata": {},
   "source": [
    "### Load data from disk"
   ]
  },
  {
   "cell_type": "code",
   "execution_count": 8,
   "metadata": {
    "collapsed": false
   },
   "outputs": [
    {
     "name": "stdout",
     "output_type": "stream",
     "text": [
      "1566\n",
      "                   city  home_density  work_density  school_density\n",
      "full_tract_id                                                      \n",
      "6.001400e+09   BERKELEY     13.437961     13.130867       13.511570\n",
      "6.001400e+09    OAKLAND     11.089638      4.248928        0.894794\n",
      "6.001400e+09    OAKLAND     28.878399      7.671554        0.000000\n"
     ]
    }
   ],
   "source": [
    "tracts = pd.read_csv('../data/tracts.csv').set_index('full_tract_id')\n",
    "tracts = tracts.loc[(tracts.home_density > 0) | (tracts.work_density > 0) | (tracts.school_density > 0)]\n",
    "\n",
    "print(tracts.shape[0])\n",
    "print(tracts.head(3))"
   ]
  },
  {
   "cell_type": "code",
   "execution_count": 10,
   "metadata": {
    "collapsed": false
   },
   "outputs": [
    {
     "name": "stdout",
     "output_type": "stream",
     "text": [
      "35787\n",
      "              full_tract_id  mode  trip_distance_miles\n",
      "place_id                                              \n",
      "1.031985e+10   6.095252e+09   6.0            13.428271\n",
      "1.031985e+10   6.095252e+09   5.0             5.125960\n",
      "1.033586e+10   6.085512e+09   6.0           156.370628\n"
     ]
    }
   ],
   "source": [
    "trips = pd.read_csv('../data/trips.csv').set_index('place_id')\n",
    "trips = trips.loc[trips.trip_distance_miles.notnull()]\n",
    "\n",
    "print(trips.shape[0])\n",
    "print(trips.head(3))"
   ]
  },
  {
   "cell_type": "code",
   "execution_count": null,
   "metadata": {
    "collapsed": true
   },
   "outputs": [],
   "source": []
  },
  {
   "cell_type": "markdown",
   "metadata": {},
   "source": [
    "### Set up estimation data\n",
    "\n",
    "Each observed trip is a realized choice of a particular destination census tract. We can randomly sample alternative census tracts to build a model of destination choice.\n",
    "\n",
    "We'll divide the trips into a training set and a testing set, fit an MNL model using the training data, use it to generate predicted choices for the testing data, and compare the predicted to the actual choices."
   ]
  },
  {
   "cell_type": "code",
   "execution_count": 20,
   "metadata": {
    "collapsed": false
   },
   "outputs": [
    {
     "name": "stdout",
     "output_type": "stream",
     "text": [
      "(100000, 9)\n",
      "(3473400, 9)\n"
     ]
    }
   ],
   "source": [
    "training_observations = trips.iloc[:1000]\n",
    "training = MergedChoiceTable(observations = training_observations,\n",
    "                             alternatives = tracts,\n",
    "                             chosen_alternatives = training_observations.full_tract_id,\n",
    "                             sample_size = 100)\n",
    "\n",
    "testing_observations = trips.iloc[1000:]\n",
    "testing = MergedChoiceTable(observations = testing_observations,\n",
    "                            alternatives = tracts,\n",
    "                            chosen_alternatives = testing_observations.full_tract_id,\n",
    "                            sample_size = 100)\n",
    "\n",
    "print(training.to_frame().shape)\n",
    "print(testing.to_frame().shape)"
   ]
  },
  {
   "cell_type": "code",
   "execution_count": null,
   "metadata": {
    "collapsed": true
   },
   "outputs": [],
   "source": []
  },
  {
   "cell_type": "markdown",
   "metadata": {},
   "source": [
    "### Fit a model using the training observations"
   ]
  },
  {
   "cell_type": "code",
   "execution_count": 17,
   "metadata": {
    "collapsed": false
   },
   "outputs": [
    {
     "name": "stdout",
     "output_type": "stream",
     "text": [
      "                  CHOICEMODELS ESTIMATION RESULTS                  \n",
      "===================================================================\n",
      "Dep. Var.:                chosen   No. Observations:               \n",
      "Model:         Multinomial Logit   Df Residuals:                   \n",
      "Method:       Maximum Likelihood   Df Model:                       \n",
      "Date:                              Pseudo R-squ.:                  \n",
      "Time:                              Pseudo R-bar-squ.:              \n",
      "AIC:                               Log-Likelihood:       -4,511.057\n",
      "BIC:                               LL-Null:              -4,605.170\n",
      "===================================================================\n",
      "                    coef   std err         z     P>|z|   Conf. Int.\n",
      "-------------------------------------------------------------------\n",
      "home_density      0.0113     0.002     6.034                       \n",
      "work_density      0.0115     0.001    14.265                       \n",
      "school_density    0.0067     0.004     1.851                       \n",
      "===================================================================\n",
      "CPU times: user 322 ms, sys: 58.5 ms, total: 380 ms\n",
      "Wall time: 194 ms\n"
     ]
    }
   ],
   "source": [
    "%%time\n",
    "model_expression = \"home_density + work_density + school_density - 1\"\n",
    "\n",
    "model = MultinomialLogit(data = training.to_frame(), \n",
    "                         observation_id_col = training.observation_id_col, \n",
    "                         choice_col = training.choice_col,\n",
    "                         model_expression = model_expression)\n",
    "\n",
    "results = model.fit()\n",
    "print(results)"
   ]
  },
  {
   "cell_type": "code",
   "execution_count": null,
   "metadata": {
    "collapsed": true
   },
   "outputs": [],
   "source": []
  },
  {
   "cell_type": "markdown",
   "metadata": {},
   "source": [
    "### Predict destination choices for the testing observations\n",
    "\n",
    "We'll use the UrbanSim MNL functions directly, because this hasn't been integrated into the ChoiceModels results classes yet. https://github.com/UDST/choicemodels/blob/master/choicemodels/mnl.py#L536"
   ]
  },
  {
   "cell_type": "code",
   "execution_count": 18,
   "metadata": {
    "collapsed": false
   },
   "outputs": [
    {
     "name": "stdout",
     "output_type": "stream",
     "text": [
      "0    0.011281\n",
      "1    0.011497\n",
      "2    0.006688\n",
      "Name: Coefficient, dtype: float64\n"
     ]
    }
   ],
   "source": [
    "# Pull the coefs out of the results object (the PyLogit syntax would differ)\n",
    "\n",
    "coefs = results.get_raw_results()['fit_parameters']['Coefficient']\n",
    "print(coefs)"
   ]
  },
  {
   "cell_type": "code",
   "execution_count": 32,
   "metadata": {
    "collapsed": false
   },
   "outputs": [
    {
     "name": "stdout",
     "output_type": "stream",
     "text": [
      "(3473400, 3)\n",
      "               home_density  work_density  school_density\n",
      "full_tract_id                                            \n",
      "6.097151e+09      10.659461      6.868701        7.160030\n",
      "6.013302e+09       6.119812      3.841224        1.087662\n",
      "6.055202e+09      37.176294      4.003031       15.517876\n"
     ]
    }
   ],
   "source": [
    "# The data columns for prediction need to align with the coefficients; \n",
    "# you can do this manually or with patsy, as here\n",
    "\n",
    "data = testing.to_frame().set_index('full_tract_id')  # identify alternatives by their id\n",
    "\n",
    "testing_df = dmatrix(model_expression, data=data, return_type='dataframe')\n",
    "print(testing_df.shape)\n",
    "print(testing_df.head(3))"
   ]
  },
  {
   "cell_type": "code",
   "execution_count": 30,
   "metadata": {
    "collapsed": false
   },
   "outputs": [
    {
     "name": "stdout",
     "output_type": "stream",
     "text": [
      "(34734,)\n",
      "[31  1 84]\n"
     ]
    }
   ],
   "source": [
    "# Simulate a destination choice for each testing observation\n",
    "\n",
    "choices = mnl.mnl_simulate(testing_df, coefs, numalts=100, returnprobs=False)\n",
    "\n",
    "print(choices.shape)\n",
    "print(choices[:3])"
   ]
  },
  {
   "cell_type": "code",
   "execution_count": null,
   "metadata": {
    "collapsed": true
   },
   "outputs": [],
   "source": [
    "# But that function seems to identify choices by position rather than by id,\n",
    "# which is inconvenient... "
   ]
  },
  {
   "cell_type": "code",
   "execution_count": null,
   "metadata": {
    "collapsed": true
   },
   "outputs": [],
   "source": []
  },
  {
   "cell_type": "code",
   "execution_count": null,
   "metadata": {
    "collapsed": true
   },
   "outputs": [],
   "source": []
  },
  {
   "cell_type": "code",
   "execution_count": null,
   "metadata": {
    "collapsed": true
   },
   "outputs": [],
   "source": []
  },
  {
   "cell_type": "markdown",
   "metadata": {},
   "source": [
    "### How does UrbanSim generate household location choices?\n",
    "\n",
    "These three class methods collectively set up the choosers and alternatives according to various parameters like the sample size, prediction filters, \"probability mode,\" and \"choice mode\" (aggregate or individual):\n",
    "\n",
    "- `urbansim.models.MNLDiscreteChocieModel.probabilities()` \n",
    "- `urbansim.models.MNLDiscreteChocieModel.summed_probabilities()` \n",
    "- `urbansim.models.MNLDiscreteChocieModel.predict()` \n",
    "\n",
    "https://github.com/UDST/urbansim/blob/master/urbansim/models/dcm.py#L474\n",
    "\n",
    "Then this lower-level function generates a table of probabilities for each alternative, which is passed back to the `MNLDiscreteChoiceModel` class for further processing:\n",
    "\n",
    "- `urbansim.urbanchoice.mnl.mnl_simulate()`\n",
    "\n",
    "https://github.com/UDST/urbansim/blob/master/urbansim/urbanchoice/mnl.py#L121"
   ]
  },
  {
   "cell_type": "code",
   "execution_count": null,
   "metadata": {
    "collapsed": true
   },
   "outputs": [],
   "source": []
  },
  {
   "cell_type": "code",
   "execution_count": null,
   "metadata": {
    "collapsed": true
   },
   "outputs": [],
   "source": []
  },
  {
   "cell_type": "code",
   "execution_count": null,
   "metadata": {
    "collapsed": true
   },
   "outputs": [],
   "source": []
  },
  {
   "cell_type": "code",
   "execution_count": null,
   "metadata": {
    "collapsed": true
   },
   "outputs": [],
   "source": []
  }
 ],
 "metadata": {
  "kernelspec": {
   "display_name": "Python 3",
   "language": "python",
   "name": "python3"
  },
  "language_info": {
   "codemirror_mode": {
    "name": "ipython",
    "version": 3
   },
   "file_extension": ".py",
   "mimetype": "text/x-python",
   "name": "python",
   "nbconvert_exporter": "python",
   "pygments_lexer": "ipython3",
   "version": "3.6.0"
  }
 },
 "nbformat": 4,
 "nbformat_minor": 2
}
