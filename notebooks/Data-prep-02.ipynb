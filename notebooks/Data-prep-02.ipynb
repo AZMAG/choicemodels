{
 "cells": [
  {
   "cell_type": "markdown",
   "metadata": {},
   "source": [
    "# Data prep for estimating models\n",
    "\n",
    "Sam Maurer, August 2017 | Python 3.6\n",
    "\n",
    "Original version June 2017  \n",
    "Updated Aug 2017 (v02) to fix int/float issues\n",
    "\n",
    "This notebook generates the data tables that are used the model estimation demos. For more about the California Household Travel Survey source data, you can refer to the \"CHTS-exploration\" notebook."
   ]
  },
  {
   "cell_type": "code",
   "execution_count": 1,
   "metadata": {
    "collapsed": true
   },
   "outputs": [],
   "source": [
    "import numpy as np\n",
    "import pandas as pd\n",
    "import zipfile"
   ]
  },
  {
   "cell_type": "code",
   "execution_count": null,
   "metadata": {
    "collapsed": true
   },
   "outputs": [],
   "source": []
  },
  {
   "cell_type": "markdown",
   "metadata": {},
   "source": [
    "## Load raw CHTS tables\n",
    "\n",
    "This requires the file named caltrans_full_survey.zip. You can download it by following the instructions in the \"data\" directory."
   ]
  },
  {
   "cell_type": "code",
   "execution_count": 2,
   "metadata": {
    "collapsed": true
   },
   "outputs": [],
   "source": [
    "z = zipfile.ZipFile('../data/caltrans_full_survey.zip')"
   ]
  },
  {
   "cell_type": "code",
   "execution_count": 3,
   "metadata": {
    "collapsed": false
   },
   "outputs": [
    {
     "data": {
      "text/plain": [
       "42426"
      ]
     },
     "execution_count": 3,
     "metadata": {},
     "output_type": "execute_result"
    }
   ],
   "source": [
    "households = pd.read_csv(z.open('caltrans_full_survey/survey_households.csv'), low_memory=False)\n",
    "len(households)"
   ]
  },
  {
   "cell_type": "code",
   "execution_count": 4,
   "metadata": {
    "collapsed": false
   },
   "outputs": [
    {
     "data": {
      "text/plain": [
       "109113"
      ]
     },
     "execution_count": 4,
     "metadata": {},
     "output_type": "execute_result"
    }
   ],
   "source": [
    "persons = pd.read_csv(z.open('caltrans_full_survey/survey_person.csv'), low_memory=False)\n",
    "len(persons)"
   ]
  },
  {
   "cell_type": "code",
   "execution_count": 5,
   "metadata": {
    "collapsed": false
   },
   "outputs": [
    {
     "data": {
      "text/plain": [
       "460524"
      ]
     },
     "execution_count": 5,
     "metadata": {},
     "output_type": "execute_result"
    }
   ],
   "source": [
    "places = pd.read_csv(z.open('caltrans_full_survey/survey_place.csv'), low_memory=False)\n",
    "len(places)"
   ]
  },
  {
   "cell_type": "code",
   "execution_count": 6,
   "metadata": {
    "collapsed": false
   },
   "outputs": [
    {
     "data": {
      "text/plain": [
       "604711"
      ]
     },
     "execution_count": 6,
     "metadata": {},
     "output_type": "execute_result"
    }
   ],
   "source": [
    "activities = pd.read_csv(z.open('caltrans_full_survey/survey_activity.csv'), low_memory=False)\n",
    "len(activities)"
   ]
  },
  {
   "cell_type": "code",
   "execution_count": null,
   "metadata": {
    "collapsed": true
   },
   "outputs": [],
   "source": []
  },
  {
   "cell_type": "markdown",
   "metadata": {},
   "source": [
    "## Clean up the places table and generate tract identifiers"
   ]
  },
  {
   "cell_type": "code",
   "execution_count": 7,
   "metadata": {
    "collapsed": false
   },
   "outputs": [
    {
     "name": "stdout",
     "output_type": "stream",
     "text": [
      "460516\n"
     ]
    }
   ],
   "source": [
    "# Discard places with missing identifiers, and convert ID components to ints. \n",
    "# (Some identifiers are stored as floats in the source table, but the \n",
    "# \"CHTS-exploration\" notebook confirms that the decimal vlaues don't encode anything.)\n",
    "\n",
    "places.dropna(subset=['state_id','county_id','tract_id','city'], inplace=True)\n",
    "\n",
    "places['state_id'] = places.state_id.astype(int)\n",
    "places['county_id'] = places.county_id.astype(int)\n",
    "places['tract_id'] = places.tract_id.astype(int)\n",
    "\n",
    "print(len(places))"
   ]
  },
  {
   "cell_type": "code",
   "execution_count": 8,
   "metadata": {
    "collapsed": false
   },
   "outputs": [
    {
     "name": "stdout",
     "output_type": "stream",
     "text": [
      "460514\n"
     ]
    }
   ],
   "source": [
    "# Other missing values are encoded as nines; discard those as well\n",
    "\n",
    "places.drop((places.tract_id == 999999) | \n",
    "            (places.county_id == 999) | \n",
    "            (places.state_id == 99), inplace=True)\n",
    "\n",
    "print(len(places))"
   ]
  },
  {
   "cell_type": "code",
   "execution_count": 9,
   "metadata": {
    "collapsed": false
   },
   "outputs": [
    {
     "name": "stdout",
     "output_type": "stream",
     "text": [
      "2    6\n",
      "3    0\n",
      "4    5\n",
      "Name: mode, dtype: int64\n"
     ]
    }
   ],
   "source": [
    "# Clean up other data fields\n",
    "\n",
    "# Replace null travel mode with zero and encode as int (mode seems to be a protected\n",
    "# keyword, so we have to use places['mode'] rather than places.mode)\n",
    "\n",
    "places['mode'] = places['mode'].fillna(0).astype(int)\n",
    "\n",
    "print(places['mode'].head(3))"
   ]
  },
  {
   "cell_type": "code",
   "execution_count": 10,
   "metadata": {
    "collapsed": false
   },
   "outputs": [
    {
     "name": "stdout",
     "output_type": "stream",
     "text": [
      "6098941414\n",
      "6\n",
      "98\n"
     ]
    }
   ],
   "source": [
    "# Define functions to move back and forth between full numerical tract ID and its components\n",
    "\n",
    "def full_tract_id(state_id, county_id, tract_id):\n",
    "    return state_id * 10**9 + county_id * 10**6 + tract_id\n",
    "\n",
    "def state_id(full_tract_id):\n",
    "    return full_tract_id // 10**9\n",
    "\n",
    "def county_id(full_tract_id):\n",
    "    _county_tract = np.fmod(full_tract_id, 10**9)\n",
    "    return _county_tract // 10**6\n",
    "\n",
    "print(full_tract_id(6, 98, 941414))\n",
    "print(state_id(6098141414))\n",
    "print(county_id(6098141414))"
   ]
  },
  {
   "cell_type": "code",
   "execution_count": 11,
   "metadata": {
    "collapsed": false
   },
   "outputs": [
    {
     "name": "stdout",
     "output_type": "stream",
     "text": [
      "   state_id  county_id  tract_id     city  full_tract_id\n",
      "2         6         95    252202  VALLEJO     6095252202\n",
      "3         6         95    252202  VALLEJO     6095252202\n",
      "4         6         95    251902  VALLEJO     6095251902\n"
     ]
    }
   ],
   "source": [
    "# Generate full tract identifiers\n",
    "\n",
    "places['full_tract_id'] = full_tract_id(places.state_id, places.county_id, places.tract_id)\n",
    "\n",
    "print(places[['state_id','county_id','tract_id','city','full_tract_id']].head(3))"
   ]
  },
  {
   "cell_type": "code",
   "execution_count": null,
   "metadata": {
    "collapsed": true
   },
   "outputs": [],
   "source": []
  },
  {
   "cell_type": "markdown",
   "metadata": {},
   "source": [
    "## Build a master table of census tracts"
   ]
  },
  {
   "cell_type": "code",
   "execution_count": 12,
   "metadata": {
    "collapsed": false
   },
   "outputs": [
    {
     "name": "stdout",
     "output_type": "stream",
     "text": [
      "9310\n",
      "                     city\n",
      "full_tract_id            \n",
      "1015000800       ANNISTON\n",
      "1101001500     MONTGOMERY\n",
      "1161400100        SEVILLA\n",
      "2020001000      ANCHORAGE\n",
      "2020001100      ANCHORAGE\n"
     ]
    }
   ],
   "source": [
    "# Generate a master list of census tracts, keeping the city name most commonly \n",
    "# associated with each tract\n",
    "\n",
    "tracts = places[['full_tract_id','city']].groupby('full_tract_id').\\\n",
    "         agg(lambda x:x.value_counts().index[0])\n",
    "\n",
    "print(tracts.shape[0])\n",
    "print(tracts.head())"
   ]
  },
  {
   "cell_type": "code",
   "execution_count": 13,
   "metadata": {
    "collapsed": false
   },
   "outputs": [
    {
     "name": "stdout",
     "output_type": "stream",
     "text": [
      "1583\n",
      "                   city\n",
      "full_tract_id          \n",
      "6001008309      TIJUANA\n",
      "6001400100     BERKELEY\n",
      "6001400200      OAKLAND\n",
      "6001400300      OAKLAND\n",
      "6001400400      OAKLAND\n"
     ]
    }
   ],
   "source": [
    "# Limit to the 9-county San Francisco Bay Area\n",
    "\n",
    "tracts = tracts[(state_id(tracts.index).isin([6])) & \n",
    "                (county_id(tracts.index).\\\n",
    "                 isin([1, 13, 41, 55, 75, 81, 85, 95, 97]))].copy()\n",
    "\n",
    "print(tracts.shape[0])\n",
    "print(tracts.head())"
   ]
  },
  {
   "cell_type": "code",
   "execution_count": 14,
   "metadata": {
    "collapsed": false
   },
   "outputs": [
    {
     "name": "stdout",
     "output_type": "stream",
     "text": [
      "85    371\n",
      "1     360\n",
      "13    207\n",
      "75    195\n",
      "81    158\n",
      "97     99\n",
      "95     97\n",
      "41     55\n",
      "55     41\n",
      "Name: full_tract_id, dtype: int64\n"
     ]
    }
   ],
   "source": [
    "print(county_id(tracts.index).value_counts())"
   ]
  },
  {
   "cell_type": "code",
   "execution_count": null,
   "metadata": {
    "collapsed": true
   },
   "outputs": [],
   "source": []
  },
  {
   "cell_type": "markdown",
   "metadata": {},
   "source": [
    "## Calculate some tract-level covariates\n",
    "\n",
    "Residential density, school/employment density"
   ]
  },
  {
   "cell_type": "code",
   "execution_count": 15,
   "metadata": {
    "collapsed": true
   },
   "outputs": [],
   "source": [
    "# Note: the `home_tract_id` in the households table is already a full 11-digit\n",
    "# identifier, with the same format that we generated for the places table.\n",
    "# Same with `empl_tract_id` and `school_tract_id` in the persons table."
   ]
  },
  {
   "cell_type": "code",
   "execution_count": 16,
   "metadata": {
    "collapsed": false
   },
   "outputs": [],
   "source": [
    "# Residential density = sum of weighted household sizes by census tract of home\n",
    "\n",
    "households['_weighted_persons_count'] = households.persons_count * households.hhwgt\n",
    "\n",
    "home_density = households.groupby('home_tract_id')._weighted_persons_count.sum().\\\n",
    "        rename('home_density').to_frame()"
   ]
  },
  {
   "cell_type": "code",
   "execution_count": 17,
   "metadata": {
    "collapsed": false
   },
   "outputs": [],
   "source": [
    "# Employment density = sum of person weights by census tract of work location\n",
    "\n",
    "work_density = persons.groupby('empl_tract_id').perwgt.sum().\\\n",
    "        rename('work_density').to_frame()"
   ]
  },
  {
   "cell_type": "code",
   "execution_count": 18,
   "metadata": {
    "collapsed": false
   },
   "outputs": [],
   "source": [
    "# School density = sum of person weights by census tract of school location\n",
    "\n",
    "school_density = persons.groupby('school_tract_id').perwgt.sum().\\\n",
    "        rename('school_density').to_frame()"
   ]
  },
  {
   "cell_type": "code",
   "execution_count": 19,
   "metadata": {
    "collapsed": false
   },
   "outputs": [
    {
     "name": "stdout",
     "output_type": "stream",
     "text": [
      "                   city  home_density  work_density  school_density\n",
      "full_tract_id                                                      \n",
      "6001008309      TIJUANA      0.000000      0.000000        0.000000\n",
      "6001400100     BERKELEY     13.437961     13.130867       13.511570\n",
      "6001400200      OAKLAND     11.089638      4.248928        0.894794\n",
      "6001400300      OAKLAND     28.878399      7.671554        0.000000\n",
      "6001400400      OAKLAND     16.884910      4.063805        8.150402\n"
     ]
    }
   ],
   "source": [
    "# Merge these into the census tracts table, only keeping Bay Area tracts\n",
    "\n",
    "tracts = pd.merge(tracts, home_density, how='left', left_index=True, right_index=True)\n",
    "tracts = pd.merge(tracts, work_density, how='left', left_index=True, right_index=True)\n",
    "tracts = pd.merge(tracts, school_density, how='left', left_index=True, right_index=True)\n",
    "tracts = tracts.fillna(0)  # fill missing values with zero\n",
    "\n",
    "print(tracts.head())"
   ]
  },
  {
   "cell_type": "code",
   "execution_count": null,
   "metadata": {
    "collapsed": true
   },
   "outputs": [],
   "source": []
  },
  {
   "cell_type": "markdown",
   "metadata": {},
   "source": [
    "## Generate a table of trips\n",
    "\n",
    "For now, this is a table of places visited for non-school, non-work activities"
   ]
  },
  {
   "cell_type": "code",
   "execution_count": 20,
   "metadata": {
    "collapsed": true
   },
   "outputs": [],
   "source": [
    "# - trip destinations are in `places.full_tract_id` (sometimes missing)\n",
    "# - trip purposes are in `activities.purpose`, and we want 23 thru 38\n",
    "# - places and acitivities are linked by `sampno`, `perno`, `plano`, and there \n",
    "#   can be multiple activities per place"
   ]
  },
  {
   "cell_type": "code",
   "execution_count": 21,
   "metadata": {
    "collapsed": false
   },
   "outputs": [
    {
     "name": "stdout",
     "output_type": "stream",
     "text": [
      "10417660312\n"
     ]
    }
   ],
   "source": [
    "# Function to generate a single unique ID for places\n",
    "\n",
    "def place_id(sampno, perno, plano):\n",
    "    return sampno * 10**4 + perno * 10**2 + plano\n",
    "\n",
    "print(place_id(1041766, 3, 12))"
   ]
  },
  {
   "cell_type": "code",
   "execution_count": 22,
   "metadata": {
    "collapsed": true
   },
   "outputs": [],
   "source": [
    "# Add place_id to places table and activities table\n",
    "\n",
    "places['place_id'] = place_id(places.sampno, places.perno, places.plano)\n",
    "activities['place_id'] = place_id(activities.sampno, activities.perno, activities.plano)"
   ]
  },
  {
   "cell_type": "code",
   "execution_count": 23,
   "metadata": {
    "collapsed": false
   },
   "outputs": [],
   "source": [
    "# Get list of places that have a secondary activity\n",
    "\n",
    "_secondary_activity_places = activities.loc[activities.purpose.isin(range(23, 38+1)),\n",
    "                                            'place_id'].drop_duplicates()"
   ]
  },
  {
   "cell_type": "code",
   "execution_count": 24,
   "metadata": {
    "collapsed": false
   },
   "outputs": [
    {
     "name": "stdout",
     "output_type": "stream",
     "text": [
      "147004\n",
      "             full_tract_id  mode  trip_distance_miles\n",
      "place_id                                             \n",
      "10319850202     6095251902     5             5.125960\n",
      "10320360102     6073017051     5             3.619056\n",
      "10320360104     6073009304     5            19.351620\n",
      "10320360105     6073008511     5             6.451126\n",
      "10320360202     6073020211     6            10.466616\n"
     ]
    }
   ],
   "source": [
    "# Generate a table of those places with some covariates\n",
    "\n",
    "trips = places.loc[places.place_id.isin(_secondary_activity_places) &\n",
    "                   places.full_tract_id.notnull(),\n",
    "                  ['place_id', 'full_tract_id', 'mode', \n",
    "                   'trip_distance_miles']].set_index('place_id')\n",
    "\n",
    "print(trips.shape[0])\n",
    "print(trips.head())"
   ]
  },
  {
   "cell_type": "code",
   "execution_count": 25,
   "metadata": {
    "collapsed": false
   },
   "outputs": [
    {
     "name": "stdout",
     "output_type": "stream",
     "text": [
      "36764\n",
      "             full_tract_id  mode  trip_distance_miles\n",
      "place_id                                             \n",
      "10319850202     6095251902     5             5.125960\n",
      "10335860102     6085511915     6           156.370628\n",
      "10335860103     6085512027     6             1.615535\n",
      "10335860104     6085512027     6             0.375708\n",
      "10335860105     6085511915     6             0.894730\n"
     ]
    }
   ],
   "source": [
    "# Limit to destinations in the 9-county San Francisco Bay Area\n",
    "\n",
    "trips = trips[(state_id(trips.full_tract_id).isin([6])) & \n",
    "              (county_id(trips.full_tract_id).\\\n",
    "               isin([1, 13, 41, 55, 75, 81, 85, 95, 97]))].copy()\n",
    "\n",
    "print(trips.shape[0])\n",
    "print(trips.head())"
   ]
  },
  {
   "cell_type": "code",
   "execution_count": null,
   "metadata": {
    "collapsed": true
   },
   "outputs": [],
   "source": []
  },
  {
   "cell_type": "markdown",
   "metadata": {},
   "source": [
    "## Save estimaton data to disk"
   ]
  },
  {
   "cell_type": "code",
   "execution_count": 26,
   "metadata": {
    "collapsed": true
   },
   "outputs": [],
   "source": [
    "tracts.to_csv('../data/tracts_v02.csv')"
   ]
  },
  {
   "cell_type": "code",
   "execution_count": 27,
   "metadata": {
    "collapsed": true
   },
   "outputs": [],
   "source": [
    "trips.to_csv('../data/trips_v02.csv')"
   ]
  },
  {
   "cell_type": "code",
   "execution_count": null,
   "metadata": {
    "collapsed": true
   },
   "outputs": [],
   "source": []
  },
  {
   "cell_type": "code",
   "execution_count": null,
   "metadata": {
    "collapsed": true
   },
   "outputs": [],
   "source": [
    "# TO DO\n",
    "# - for a mode choice model, could probably generate average travel times between\n",
    "#   tracts just from the observed data"
   ]
  },
  {
   "cell_type": "code",
   "execution_count": null,
   "metadata": {
    "collapsed": true
   },
   "outputs": [],
   "source": []
  },
  {
   "cell_type": "code",
   "execution_count": null,
   "metadata": {
    "collapsed": true
   },
   "outputs": [],
   "source": []
  }
 ],
 "metadata": {
  "kernelspec": {
   "display_name": "Python 3",
   "language": "python",
   "name": "python3"
  },
  "language_info": {
   "codemirror_mode": {
    "name": "ipython",
    "version": 3
   },
   "file_extension": ".py",
   "mimetype": "text/x-python",
   "name": "python",
   "nbconvert_exporter": "python",
   "pygments_lexer": "ipython3",
   "version": "3.6.0"
  }
 },
 "nbformat": 4,
 "nbformat_minor": 2
}
