{
 "cells": [
  {
   "cell_type": "markdown",
   "metadata": {},
   "source": [
    "# Sampling correction for large choice sets"
   ]
  },
  {
   "cell_type": "markdown",
   "metadata": {},
   "source": [
    "Sam Maurer, Dec. 1, 2016\n",
    "\n",
    "1. Replicate synthetic data from Guevara & Ben-Akiva 2013\n",
    "2. Do MNL with and without sampling correction\n",
    "3. Check whether parameter estimates deviate from true values\n",
    "4. Extend to Mixed Logit"
   ]
  },
  {
   "cell_type": "code",
   "execution_count": null,
   "metadata": {
    "collapsed": true
   },
   "outputs": [],
   "source": []
  },
  {
   "cell_type": "markdown",
   "metadata": {
    "collapsed": true
   },
   "source": [
    "## 1. Generate synthetic data set"
   ]
  },
  {
   "cell_type": "markdown",
   "metadata": {},
   "source": [
    "- numobs (N) = 1000 observations\n",
    "- numalts (J) = 1000 alternatives for all observations (choiceset_n = choiceset, C_n = C)\n",
    "- X = single attribute distributed Uniform(-2,1) for the first 500 alternatives and Uniform(-1,2) for the second half\n",
    "- beta = generic linear taste coefficient, distributed Normal(mu=1.5, sigma=0.8) across the 1000 observations\n",
    "- systematic utility = beta * X\n",
    "- epsilon = error term distributed ExtremeValue(0,1)\n",
    "- random utility = beta * X + epsilon\n",
    "\n",
    "Utility of alternative i for agent n:\n",
    "$$ U_{in} = V_{in} + \\varepsilon_{in} = \\beta_n x_{i} + \\varepsilon_{in} $$\n",
    "\n",
    "Probability that agent n will choose alternative i:\n",
    "$$ L_n(i \\mid \\beta_n, x_n,C_n) = \\frac {e^{V_{in}}} {\\sum_{j \\epsilon C_n} e^{V_{jn}}} $$"
   ]
  },
  {
   "cell_type": "code",
   "execution_count": null,
   "metadata": {
    "collapsed": true
   },
   "outputs": [],
   "source": []
  },
  {
   "cell_type": "code",
   "execution_count": 43,
   "metadata": {
    "collapsed": true
   },
   "outputs": [],
   "source": [
    "import numpy as np\n",
    "import pandas as pd\n",
    "\n",
    "# Set a seed so that the random numbers will be reproducible\n",
    "np.random.seed(12)"
   ]
  },
  {
   "cell_type": "markdown",
   "metadata": {},
   "source": [
    "### Generate attributes x1, x2 for each of numalts (J) alternatives"
   ]
  },
  {
   "cell_type": "code",
   "execution_count": 134,
   "metadata": {
    "collapsed": false
   },
   "outputs": [],
   "source": [
    "# For now, J << 1000 alternatives to speed up runtimes\n",
    "numalts = 50\n",
    "\n",
    "def rand(len, min, max):\n",
    "    \"\"\" Generate `len` random floats uniformly distributed from `min` to `max` \"\"\"\n",
    "    return (max - min) * np.random.rand(len) + min\n",
    "\n",
    "# Attribute x is uniformly distributed over [-2, 1] for half the alternatives\n",
    "# and over [-1, 2] for the other half, as in Guevara & Ben-Akiva\n",
    "\n",
    "# X = np.concatenate((rand(numalts/2, -2, 1), rand(numalts/2, -1, 2)))\n",
    "\n",
    "# Or, attribute x is uniformly distributed over [0, 10] for half the alternatives\n",
    "# and over [100, 110] for the other half, to induce bias in estimation\n",
    "\n",
    "X = np.concatenate((rand(numalts/2, 0, 10), rand(numalts/2, 100, 110)))"
   ]
  },
  {
   "cell_type": "code",
   "execution_count": 135,
   "metadata": {
    "collapsed": true
   },
   "outputs": [
    {
     "name": "stdout",
     "output_type": "stream",
     "text": [
      "               0\n",
      "count  25.000000\n",
      "mean    5.782730\n",
      "std     2.903692\n",
      "min     0.233499\n",
      "25%     3.436553\n",
      "50%     6.561771\n",
      "75%     7.527760\n",
      "max     9.956289\n",
      "                0\n",
      "count   25.000000\n",
      "mean   105.373296\n",
      "std      3.202724\n",
      "min    100.563383\n",
      "25%    102.109451\n",
      "50%    105.497276\n",
      "75%    108.062617\n",
      "max    109.884905\n"
     ]
    }
   ],
   "source": [
    "print pd.DataFrame(X[:numalts/2]).describe()\n",
    "print pd.DataFrame(X[numalts/2:]).describe()"
   ]
  },
  {
   "cell_type": "markdown",
   "metadata": {},
   "source": [
    "### Generate taste coefficient beta for each of numobs (N) agents "
   ]
  },
  {
   "cell_type": "code",
   "execution_count": 57,
   "metadata": {
    "collapsed": false
   },
   "outputs": [],
   "source": [
    "# For regular MNL, use a single value instead of a distribution as \n",
    "# Guevara & Ben-Akiva used for the mixture model\n",
    "\n",
    "numobs = 1000  # agents/observations\n",
    "\n",
    "beta = np.zeros(1000) + 1.5\n",
    "# beta = 0.8 * np.random.randn(numobs) + 1.5"
   ]
  },
  {
   "cell_type": "code",
   "execution_count": null,
   "metadata": {
    "collapsed": false
   },
   "outputs": [],
   "source": [
    "print pd.DataFrame(beta).describe()"
   ]
  },
  {
   "cell_type": "markdown",
   "metadata": {},
   "source": [
    "### Simulate a choice from numalts (J) alternatives for each of numobs (N) agents"
   ]
  },
  {
   "cell_type": "code",
   "execution_count": 136,
   "metadata": {
    "collapsed": false
   },
   "outputs": [
    {
     "name": "stdout",
     "output_type": "stream",
     "text": [
      "1000\n",
      "50\n"
     ]
    }
   ],
   "source": [
    "# Generate a utility matrix for N agents choosing among J alternatives\n",
    "\n",
    "U = [[beta[n]*x + np.random.gumbel() for x in X] for n in range(numobs)]\n",
    "   \n",
    "print len(U)\n",
    "print len(U[0])"
   ]
  },
  {
   "cell_type": "code",
   "execution_count": 137,
   "metadata": {
    "collapsed": false
   },
   "outputs": [
    {
     "name": "stdout",
     "output_type": "stream",
     "text": [
      "1000\n",
      "[28, 32, 33, 33, 33, 43, 32, 43, 32, 37]\n"
     ]
    }
   ],
   "source": [
    "# Each agent chooses the alternative with highest utility\n",
    "\n",
    "choices = [np.argmax(a) for a in U]\n",
    "\n",
    "print len(choices)\n",
    "print choices[:10]"
   ]
  },
  {
   "cell_type": "markdown",
   "metadata": {
    "collapsed": true
   },
   "source": [
    "#### Now we have data:\n",
    "\n",
    "- N agents/observations with true taste coefficients in array \"`beta`\"\n",
    "- J alternatives with single attributes in array \"`X`\"\n",
    "- N choice outcomes in array \"`choices`\""
   ]
  },
  {
   "cell_type": "code",
   "execution_count": null,
   "metadata": {
    "collapsed": false
   },
   "outputs": [],
   "source": []
  },
  {
   "cell_type": "code",
   "execution_count": null,
   "metadata": {
    "collapsed": true
   },
   "outputs": [],
   "source": []
  },
  {
   "cell_type": "markdown",
   "metadata": {},
   "source": [
    "## 2. Estimate beta without sampling, using PyLogit MNL"
   ]
  },
  {
   "cell_type": "code",
   "execution_count": 49,
   "metadata": {
    "collapsed": true
   },
   "outputs": [],
   "source": [
    "import pylogit\n",
    "from collections import OrderedDict"
   ]
  },
  {
   "cell_type": "code",
   "execution_count": 174,
   "metadata": {
    "collapsed": false
   },
   "outputs": [],
   "source": [
    "# Set up the estimation dataset in long format\n",
    "\n",
    "d = [[n, i, int(choices[n]==i), X[i]] for n in range(numobs) for i in range(numalts)]\n",
    "df = pd.DataFrame(d, columns=['obs_id', 'alt_id', 'chosen', 'x'])"
   ]
  },
  {
   "cell_type": "code",
   "execution_count": 97,
   "metadata": {
    "collapsed": true
   },
   "outputs": [
    {
     "name": "stdout",
     "output_type": "stream",
     "text": [
      "   obs_id  alt_id  chosen         x\n",
      "0       0       0       0  1.699728\n",
      "1       0       1       0  2.530486\n",
      "2       0       2       0  7.104747\n",
      "3       0       3       0  5.721117\n",
      "4       0       4       0  6.125892 \n",
      "\n",
      "             obs_id        alt_id        chosen             x\n",
      "count  50000.000000  50000.000000  50000.000000  50000.000000\n",
      "mean     499.500000     24.500000      0.020000     55.555265\n",
      "std      288.677877     14.431014      0.140001     50.140919\n",
      "min        0.000000      0.000000      0.000000      1.611696\n",
      "25%      249.750000     12.000000      0.000000      6.127162\n",
      "50%      499.500000     24.500000      0.000000     54.888537\n",
      "75%      749.250000     37.000000      0.000000    105.748896\n",
      "max      999.000000     49.000000      1.000000    109.778827\n"
     ]
    }
   ],
   "source": [
    "print df.head(), '\\n'\n",
    "print df.describe()"
   ]
  },
  {
   "cell_type": "code",
   "execution_count": 168,
   "metadata": {
    "collapsed": false
   },
   "outputs": [],
   "source": [
    "# Set up reusable model spec\n",
    "\n",
    "spec = OrderedDict([('x', 'all_same')])\n",
    "labels = OrderedDict([('x', 'beta_x')])"
   ]
  },
  {
   "cell_type": "code",
   "execution_count": 172,
   "metadata": {
    "collapsed": true
   },
   "outputs": [],
   "source": [
    "# Set up reusable code to estimate a model\n",
    "\n",
    "def estimate_model(init_val):\n",
    "    \"\"\"\n",
    "    Initialize and fit a model, returning it as an object. Will use the \n",
    "    current values of `df`, `spec`, and `labels`.\n",
    "    \"\"\"\n",
    "    m = pylogit.create_choice_model(data = df, \n",
    "                                    alt_id_col = 'alt_id', \n",
    "                                    obs_id_col = 'obs_id', \n",
    "                                    choice_col = 'chosen', \n",
    "                                    specification = spec, \n",
    "                                    model_type = \"MNL\", \n",
    "                                    names = labels)\n",
    "\n",
    "    m.fit_mle(init_vals = np.array([init_val]))\n",
    "    return m"
   ]
  },
  {
   "cell_type": "code",
   "execution_count": 175,
   "metadata": {
    "collapsed": false
   },
   "outputs": [
    {
     "name": "stdout",
     "output_type": "stream",
     "text": [
      "Log-likelihood at zero: -3,912.0230\n",
      "Initial Log-likelihood: -1,823.3647\n",
      "Estimation Time: 0.17 seconds.\n",
      "Final log-likelihood: -1,813.8248\n",
      "                     Multinomial Logit Model Regression Results                    \n",
      "===================================================================================\n",
      "Dep. Variable:                      chosen   No. Observations:                1,000\n",
      "Model:             Multinomial Logit Model   Df Residuals:                      999\n",
      "Method:                                MLE   Df Model:                            1\n",
      "Date:                     Sun, 11 Dec 2016   Pseudo R-squ.:                   0.536\n",
      "Time:                             19:42:20   Pseudo R-bar-squ.:               0.536\n",
      "converged:                            True   Log-Likelihood:             -1,813.825\n",
      "                                             LL-Null:                    -3,912.023\n",
      "==============================================================================\n",
      "                 coef    std err          z      P>|z|      [95.0% Conf. Int.]\n",
      "------------------------------------------------------------------------------\n",
      "beta_x         1.4422      0.060     24.067      0.000         1.325     1.560\n",
      "==============================================================================\n",
      "CPU times: user 8.37 s, sys: 15.4 s, total: 23.7 s\n",
      "Wall time: 15.1 s\n"
     ]
    }
   ],
   "source": [
    "%%time\n",
    "m = estimate_model(init_val = 1.2)\n",
    "print m.get_statsmodels_summary()"
   ]
  },
  {
   "cell_type": "markdown",
   "metadata": {},
   "source": [
    "This looks good: it's very close to the true beta of 1.5"
   ]
  },
  {
   "cell_type": "code",
   "execution_count": null,
   "metadata": {
    "collapsed": true
   },
   "outputs": [],
   "source": []
  },
  {
   "cell_type": "code",
   "execution_count": null,
   "metadata": {
    "collapsed": true
   },
   "outputs": [],
   "source": []
  },
  {
   "cell_type": "markdown",
   "metadata": {},
   "source": [
    "## 3a. Estimate beta with random sampling of alternatives\n",
    "\n",
    "This should produce an unbiased estimate of beta"
   ]
  },
  {
   "cell_type": "code",
   "execution_count": null,
   "metadata": {
    "collapsed": true
   },
   "outputs": [],
   "source": [
    "# In the estimation dataset, for each observation include a row for the\n",
    "# chosen alternative, plus K-1 other alternatives sampled randomly\n",
    "# without replacement, where K < J.\n",
    "\n",
    "# Some more notation:\n",
    "# - true choice set C = range(J)\n",
    "# - restricted choice set D_n is a subset of C, where len(D_n) = K"
   ]
  },
  {
   "cell_type": "code",
   "execution_count": 154,
   "metadata": {
    "collapsed": false
   },
   "outputs": [
    {
     "name": "stdout",
     "output_type": "stream",
     "text": [
      "[ 3 12 13 28 38]\n"
     ]
    }
   ],
   "source": [
    "# TO DO - rewrite to use sampling weights\n",
    "\n",
    "def alts(obs_id, C, K):\n",
    "    \"\"\"\n",
    "    This function generates a restricted choice set D for a particular\n",
    "    observation. Expects list `C` of alternatives to sample from (either\n",
    "    the full choice set or a stratrum), int `K` alternatives to sample,\n",
    "    and list `choices` of the alt_id chosen for each obs_id. Returns list \n",
    "    of K alt_id's including the chosen one.\n",
    "    \"\"\"\n",
    "    chosen = choices[obs_id]  # id of chosen alternative\n",
    "    unchosen = [i for i in C if chosen != i]  # id's of unchosen alts\n",
    "    sample_unchosen = np.random.choice(unchosen, size=K-1, replace=False).tolist()\n",
    "    return np.sort([chosen] + sample_unchosen)\n",
    "    \n",
    "print alts(0, range(numalts), 5)"
   ]
  },
  {
   "cell_type": "code",
   "execution_count": 176,
   "metadata": {
    "collapsed": false
   },
   "outputs": [],
   "source": [
    "# Set up the estimation dataset, which can use the same spec as earlier\n",
    "\n",
    "C = range(numalts)  # choice set to sample from\n",
    "K = 10\n",
    "\n",
    "d = [[n, i, int(choices[n]==i), X[i]] for n in range(numobs) for i in alts(n, C, K)]\n",
    "df = pd.DataFrame(d, columns=['obs_id', 'alt_id', 'chosen', 'x'])"
   ]
  },
  {
   "cell_type": "code",
   "execution_count": 146,
   "metadata": {
    "collapsed": true
   },
   "outputs": [
    {
     "name": "stdout",
     "output_type": "stream",
     "text": [
      "   obs_id  alt_id  chosen           x\n",
      "0       0       2       0    8.730367\n",
      "1       0      11       0    2.855760\n",
      "2       0      18       0    9.956289\n",
      "3       0      28       1  108.045363\n",
      "4       0      30       0  105.386425 \n",
      "\n",
      "             obs_id       alt_id        chosen             x\n",
      "count  10000.000000  10000.00000  10000.000000  10000.000000\n",
      "mean     499.500000     25.51300      0.100000     60.170736\n",
      "std      288.689425     14.29645      0.300015     50.009368\n",
      "min        0.000000      0.00000      0.000000      0.233499\n",
      "25%      249.750000     13.00000      0.000000      6.797005\n",
      "50%      499.500000     27.00000      0.000000    100.970300\n",
      "75%      749.250000     37.00000      0.000000    106.140668\n",
      "max      999.000000     49.00000      1.000000    109.884905\n"
     ]
    }
   ],
   "source": [
    "print df.head(), '\\n'\n",
    "print df.describe()"
   ]
  },
  {
   "cell_type": "code",
   "execution_count": 177,
   "metadata": {
    "collapsed": false
   },
   "outputs": [
    {
     "name": "stdout",
     "output_type": "stream",
     "text": [
      "Log-likelihood at zero: -2,302.5851\n",
      "Initial Log-likelihood: -585.5314\n",
      "Estimation Time: 0.01 seconds.\n",
      "Final log-likelihood: -578.0528\n",
      "                     Multinomial Logit Model Regression Results                    \n",
      "===================================================================================\n",
      "Dep. Variable:                      chosen   No. Observations:                1,000\n",
      "Model:             Multinomial Logit Model   Df Residuals:                      999\n",
      "Method:                                MLE   Df Model:                            1\n",
      "Date:                     Sun, 11 Dec 2016   Pseudo R-squ.:                   0.749\n",
      "Time:                             19:42:57   Pseudo R-bar-squ.:               0.749\n",
      "converged:                            True   Log-Likelihood:               -578.053\n",
      "                                             LL-Null:                    -2,302.585\n",
      "==============================================================================\n",
      "                 coef    std err          z      P>|z|      [95.0% Conf. Int.]\n",
      "------------------------------------------------------------------------------\n",
      "beta_x         1.4855      0.081     18.243      0.000         1.326     1.645\n",
      "==============================================================================\n",
      "CPU times: user 594 ms, sys: 380 ms, total: 974 ms\n",
      "Wall time: 657 ms\n"
     ]
    }
   ],
   "source": [
    "%%time\n",
    "m = estimate_model(init_val = 1.2)\n",
    "print m.get_statsmodels_summary()"
   ]
  },
  {
   "cell_type": "markdown",
   "metadata": {},
   "source": [
    "### Run 1000x with different samples of alternatives"
   ]
  },
  {
   "cell_type": "code",
   "execution_count": 178,
   "metadata": {
    "collapsed": false
   },
   "outputs": [
    {
     "name": "stdout",
     "output_type": "stream",
     "text": [
      "CPU times: user 1min 33s, sys: 38 s, total: 2min 11s\n",
      "Wall time: 1min 14s\n"
     ]
    }
   ],
   "source": [
    "%%time\n",
    "%%capture\n",
    "\n",
    "beta = []\n",
    "C = range(numalts)\n",
    "K = 10\n",
    "\n",
    "for i in range(100):\n",
    "    d = [[n, i, int(choices[n]==i), X[i]] for n in range(numobs) for i in alts(n, C, K)]\n",
    "    df = pd.DataFrame(d, columns=['obs_id', 'alt_id', 'chosen', 'x'])\n",
    "    m = estimate_model(init_val = 1.2)\n",
    "    beta.append(m.params.beta_x)"
   ]
  },
  {
   "cell_type": "code",
   "execution_count": 179,
   "metadata": {
    "collapsed": false
   },
   "outputs": [
    {
     "name": "stdout",
     "output_type": "stream",
     "text": [
      "count    100.000000\n",
      "mean       1.453900\n",
      "std        0.042923\n",
      "min        1.371329\n",
      "25%        1.426357\n",
      "50%        1.450013\n",
      "75%        1.484759\n",
      "max        1.557182\n",
      "dtype: float64\n"
     ]
    }
   ],
   "source": [
    "print pd.Series(beta).describe()"
   ]
  },
  {
   "cell_type": "markdown",
   "metadata": {},
   "source": [
    "Looks unbiased, as expected. It's very close to the true beta of 1.5"
   ]
  },
  {
   "cell_type": "code",
   "execution_count": null,
   "metadata": {
    "collapsed": true
   },
   "outputs": [],
   "source": []
  },
  {
   "cell_type": "code",
   "execution_count": null,
   "metadata": {
    "collapsed": true
   },
   "outputs": [],
   "source": []
  },
  {
   "cell_type": "markdown",
   "metadata": {
    "collapsed": true
   },
   "source": [
    "## 3b. Estimate beta with over-sampling of *irrelevant* alternatives\n",
    "\n",
    "This should produce a biased estimate of beta, until we add a correction to the estimation procedure"
   ]
  },
  {
   "cell_type": "code",
   "execution_count": 187,
   "metadata": {
    "collapsed": false
   },
   "outputs": [],
   "source": [
    "# Recall that half the values of x are in the range [0, 10] and half are\n",
    "# in the range [100, 110]. The taste coefficient is positive, so the first\n",
    "# set of alternatives is much less relevant than the second set. \n",
    "\n",
    "C = range(numalts/2)  # alternatives to sample from\n",
    "K = 10\n",
    "\n",
    "d = [[n, i, int(choices[n]==i), X[i]] for n in range(numobs) for i in alts(n, C, K)]\n",
    "df = pd.DataFrame(d, columns=['obs_id', 'alt_id', 'chosen', 'x'])"
   ]
  },
  {
   "cell_type": "code",
   "execution_count": 188,
   "metadata": {
    "collapsed": false
   },
   "outputs": [
    {
     "name": "stdout",
     "output_type": "stream",
     "text": [
      "   obs_id  alt_id  chosen         x\n",
      "0       0       1       0  7.427010\n",
      "1       0       3       0  9.930585\n",
      "2       0       5       0  3.436553\n",
      "3       0       9       0  6.558043\n",
      "4       0      11       0  2.855760 \n",
      "\n",
      "             obs_id        alt_id        chosen             x\n",
      "count  10000.000000  10000.000000  10000.000000  10000.000000\n",
      "mean     499.500000     14.463900      0.100000     16.177211\n",
      "std      288.689425     10.195033      0.300015     31.248750\n",
      "min        0.000000      0.000000      0.000000      0.233499\n",
      "25%      249.750000      6.000000      0.000000      3.436553\n",
      "50%      499.500000     13.000000      0.000000      6.797005\n",
      "75%      749.250000     20.000000      0.000000      8.371036\n",
      "max      999.000000     45.000000      1.000000    109.884905\n"
     ]
    }
   ],
   "source": [
    "print df.head(), '\\n'\n",
    "print df.describe()"
   ]
  },
  {
   "cell_type": "code",
   "execution_count": 189,
   "metadata": {
    "collapsed": false,
    "scrolled": true
   },
   "outputs": [
    {
     "name": "stdout",
     "output_type": "stream",
     "text": [
      "Log-likelihood at zero: -2,302.5851\n",
      "Initial Log-likelihood: 0.0000\n",
      "Estimation Time: 0.00 seconds.\n",
      "Final log-likelihood: 0.0000\n",
      "                     Multinomial Logit Model Regression Results                    \n",
      "===================================================================================\n",
      "Dep. Variable:                      chosen   No. Observations:                1,000\n",
      "Model:             Multinomial Logit Model   Df Residuals:                      999\n",
      "Method:                                MLE   Df Model:                            1\n",
      "Date:                     Sun, 11 Dec 2016   Pseudo R-squ.:                   1.000\n",
      "Time:                             20:00:33   Pseudo R-bar-squ.:               1.000\n",
      "converged:                            True   Log-Likelihood:                  0.000\n",
      "                                             LL-Null:                    -2,302.585\n",
      "==============================================================================\n",
      "                 coef    std err          z      P>|z|      [95.0% Conf. Int.]\n",
      "------------------------------------------------------------------------------\n",
      "beta_x         1.5000        nan        nan        nan           nan       nan\n",
      "==============================================================================\n",
      "CPU times: user 635 ms, sys: 373 ms, total: 1.01 s\n",
      "Wall time: 674 ms\n"
     ]
    }
   ],
   "source": [
    "%%time\n",
    "m = estimate_model(init_val = 1.5)\n",
    "print m.get_statsmodels_summary()"
   ]
  },
  {
   "cell_type": "code",
   "execution_count": null,
   "metadata": {
    "collapsed": true
   },
   "outputs": [],
   "source": []
  },
  {
   "cell_type": "code",
   "execution_count": null,
   "metadata": {
    "collapsed": true
   },
   "outputs": [],
   "source": []
  },
  {
   "cell_type": "code",
   "execution_count": null,
   "metadata": {
    "collapsed": true
   },
   "outputs": [],
   "source": []
  },
  {
   "cell_type": "code",
   "execution_count": null,
   "metadata": {
    "collapsed": true
   },
   "outputs": [],
   "source": []
  },
  {
   "cell_type": "code",
   "execution_count": null,
   "metadata": {
    "collapsed": true
   },
   "outputs": [],
   "source": []
  },
  {
   "cell_type": "code",
   "execution_count": null,
   "metadata": {
    "collapsed": true
   },
   "outputs": [],
   "source": []
  },
  {
   "cell_type": "code",
   "execution_count": null,
   "metadata": {
    "collapsed": true
   },
   "outputs": [],
   "source": []
  },
  {
   "cell_type": "code",
   "execution_count": null,
   "metadata": {
    "collapsed": true
   },
   "outputs": [],
   "source": []
  },
  {
   "cell_type": "code",
   "execution_count": null,
   "metadata": {
    "collapsed": true
   },
   "outputs": [],
   "source": []
  },
  {
   "cell_type": "markdown",
   "metadata": {},
   "source": [
    "## 5. MNL with sampling correction"
   ]
  },
  {
   "cell_type": "markdown",
   "metadata": {},
   "source": [
    "Utility of alternative j:\n",
    "$$ V_{j} = \\beta x_{j} $$\n",
    "\n",
    "With sampling, we have to account for the restricted choice set (from Eq 6 in Guevara & Ben-Akiva 2013):\n",
    "\n",
    "$$ V_j = \\beta x_j + \\ln \\pi(D \\mid j) $$\n",
    "\n",
    "Where pi is the conditional probability that we would construct the choice set D given that alternative j was chosen. This goes into the likelihood function in both the numerator and denominator.\n",
    "\n",
    "$$ L_n = \\frac {exp(\\beta x_i + \\ln \\pi(D_n \\mid i))} {\\sum_{j \\epsilon D_n} exp(\\beta x_j + \\ln \\pi(D_n \\mid j))} $$\n",
    "\n",
    "How to calculate pi? From the original formulation of this in McFadden 1978: \"Suppose D is comprized of i plus a sample of alternatives from the set C\\\\{i}, obtained by considering each element of this set independently, and including it with probability p. Then, the probability of D will depend solely on the number of elements K it contains.\"\n",
    "\n",
    "$$ \\pi(D) = p^{K-1} (1 - p)^{J-K} $$\n",
    "\n",
    "(?? Without replacement, i think it should be the n-choose-k binomial coefficient, where n=J-1 and k=K-1)\n",
    "\n",
    "$$ \\pi(D) = {n \\choose k} = \\frac {(K-1)!(J-K)!} {(J-1)!} $$\n"
   ]
  },
  {
   "cell_type": "code",
   "execution_count": null,
   "metadata": {
    "collapsed": false
   },
   "outputs": [],
   "source": [
    "# Add a column in the estimation data for the constant\n",
    "\n",
    "d = [[n, i, int(C[n]==i), X[i], 1] for n in range(N) for i in alts(n)]\n",
    "\n",
    "df = pd.DataFrame(d, columns=['obs_id', 'alt_id', 'choice', 'x', 'const'])\n",
    "\n",
    "print df.head(), '\\n'\n",
    "print df.describe()"
   ]
  },
  {
   "cell_type": "code",
   "execution_count": null,
   "metadata": {
    "collapsed": true
   },
   "outputs": [],
   "source": [
    "spec2 = OrderedDict([\n",
    "        ('x', [range(J)]),\n",
    "        ('const', [range(J)])\n",
    "    ])\n",
    "\n",
    "labels2 = OrderedDict([\n",
    "        ('x', ['beta_x']),\n",
    "        ('const', ['constant'])\n",
    "    ])"
   ]
  },
  {
   "cell_type": "code",
   "execution_count": null,
   "metadata": {
    "collapsed": false
   },
   "outputs": [],
   "source": [
    "# Try binomial formula\n",
    "\n",
    "j=3\n",
    "k=2\n",
    "\n",
    "fact = np.math.factorial\n",
    "\n",
    "float(fact(k-1)*fact(j-k))/fact(j-1)"
   ]
  },
  {
   "cell_type": "code",
   "execution_count": null,
   "metadata": {
    "collapsed": false
   },
   "outputs": [],
   "source": [
    "%%time\n",
    "m = pylogit.create_choice_model(data = df, \n",
    "                                alt_id_col = 'alt_id', \n",
    "                                obs_id_col = 'obs_id', \n",
    "                                choice_col = 'choice', \n",
    "                                specification = spec2, \n",
    "                                model_type = \"MNL\", \n",
    "                                names = labels2)\n",
    "\n",
    "# p = float(K-1)/(J-1)\n",
    "# const = np.log(p**(K-1) * (1-p)**(J-K))\n",
    "\n",
    "const = np.log(float(fact(K-1)*fact(J-K))/fact(J-1))\n",
    "\n",
    "# Add an initial value for the constant and constrain it to that\n",
    "m.fit_mle(init_vals = np.array([0, const]), \n",
    "          constrained_pos=[1])\n",
    "\n",
    "print m.get_statsmodels_summary()"
   ]
  },
  {
   "cell_type": "markdown",
   "metadata": {},
   "source": [
    "### Run 1000x with different samples"
   ]
  },
  {
   "cell_type": "code",
   "execution_count": null,
   "metadata": {
    "collapsed": true
   },
   "outputs": [],
   "source": [
    "# try binomial formula\n",
    "const = np.log(float(fact(K-1)*fact(J-K))/fact(J-1))\n",
    "\n",
    "def estimate_beta_with_correction():\n",
    "    d = [[n, i, int(C[n]==i), X[i], 1] for n in range(N) for i in alts(n)]\n",
    "    df = pd.DataFrame(d, columns=['obs_id', 'alt_id', 'choice', 'x', 'const'])\n",
    "    m = pylogit.create_choice_model(df, 'alt_id', 'obs_id', 'choice', spec2, 'MNL', names=labels2)\n",
    "    m.fit_mle(init_vals = np.array([0, const]), constrained_pos=[1])\n",
    "    return m.params.beta_x"
   ]
  },
  {
   "cell_type": "code",
   "execution_count": null,
   "metadata": {
    "collapsed": false
   },
   "outputs": [],
   "source": [
    "%%time\n",
    "%%capture\n",
    "\n",
    "beta = []\n",
    "for i in range(1000):\n",
    "    beta.append(estimate_beta_with_correction())"
   ]
  },
  {
   "cell_type": "code",
   "execution_count": null,
   "metadata": {
    "collapsed": false
   },
   "outputs": [],
   "source": [
    "print pd.Series(beta).describe()"
   ]
  },
  {
   "cell_type": "code",
   "execution_count": null,
   "metadata": {
    "collapsed": true
   },
   "outputs": [],
   "source": []
  },
  {
   "cell_type": "code",
   "execution_count": null,
   "metadata": {
    "collapsed": true
   },
   "outputs": [],
   "source": []
  },
  {
   "cell_type": "code",
   "execution_count": null,
   "metadata": {
    "collapsed": false
   },
   "outputs": [],
   "source": []
  },
  {
   "cell_type": "code",
   "execution_count": null,
   "metadata": {
    "collapsed": true
   },
   "outputs": [],
   "source": []
  },
  {
   "cell_type": "code",
   "execution_count": null,
   "metadata": {
    "collapsed": true
   },
   "outputs": [],
   "source": []
  },
  {
   "cell_type": "code",
   "execution_count": null,
   "metadata": {
    "collapsed": true
   },
   "outputs": [],
   "source": []
  },
  {
   "cell_type": "code",
   "execution_count": null,
   "metadata": {
    "collapsed": true
   },
   "outputs": [],
   "source": []
  },
  {
   "cell_type": "code",
   "execution_count": null,
   "metadata": {
    "collapsed": true
   },
   "outputs": [],
   "source": []
  }
 ],
 "metadata": {
  "kernelspec": {
   "display_name": "Python 2",
   "language": "python",
   "name": "python2"
  },
  "language_info": {
   "codemirror_mode": {
    "name": "ipython",
    "version": 2
   },
   "file_extension": ".py",
   "mimetype": "text/x-python",
   "name": "python",
   "nbconvert_exporter": "python",
   "pygments_lexer": "ipython2",
   "version": "2.7.11"
  }
 },
 "nbformat": 4,
 "nbformat_minor": 0
}
