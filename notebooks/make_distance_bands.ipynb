{
 "cells": [
  {
   "cell_type": "code",
   "execution_count": 1,
   "metadata": {},
   "outputs": [
    {
     "name": "stderr",
     "output_type": "stream",
     "text": [
      "C:\\Anaconda\\envs\\py2\\lib\\site-packages\\statsmodels\\compat\\pandas.py:56: FutureWarning: The pandas.core.datetools module is deprecated and will be removed in a future version. Please use the pandas.tseries module instead.\n",
      "  from pandas.core import datetools\n"
     ]
    }
   ],
   "source": [
    "import pandas as pd\n",
    "from choicemodels.tools import distancematrix as dm\n",
    "\n",
    "# define distance bands in meters\n",
    "distances = [0, 5000, 10000, 20000, 1000000]\n",
    "\n",
    "# specify input/output file locations\n",
    "distance_matrix_file = '../data/bay_tracts_distance_matrix.csv'\n",
    "distance_bands_file = '../data/bay_tracts_distance_bands.csv'"
   ]
  },
  {
   "cell_type": "code",
   "execution_count": 2,
   "metadata": {},
   "outputs": [
    {
     "data": {
      "text/html": [
       "<div>\n",
       "<style>\n",
       "    .dataframe thead tr:only-child th {\n",
       "        text-align: right;\n",
       "    }\n",
       "\n",
       "    .dataframe thead th {\n",
       "        text-align: left;\n",
       "    }\n",
       "\n",
       "    .dataframe tbody tr th {\n",
       "        vertical-align: top;\n",
       "    }\n",
       "</style>\n",
       "<table border=\"1\" class=\"dataframe\">\n",
       "  <thead>\n",
       "    <tr style=\"text-align: right;\">\n",
       "      <th></th>\n",
       "      <th>06001400100</th>\n",
       "      <th>06001400200</th>\n",
       "      <th>06001400300</th>\n",
       "      <th>06001400400</th>\n",
       "      <th>06001400500</th>\n",
       "    </tr>\n",
       "  </thead>\n",
       "  <tbody>\n",
       "    <tr>\n",
       "      <th>06001400100</th>\n",
       "      <td>0</td>\n",
       "      <td>2659</td>\n",
       "      <td>3595</td>\n",
       "      <td>3111</td>\n",
       "      <td>3579</td>\n",
       "    </tr>\n",
       "    <tr>\n",
       "      <th>06001400200</th>\n",
       "      <td>2659</td>\n",
       "      <td>0</td>\n",
       "      <td>944</td>\n",
       "      <td>692</td>\n",
       "      <td>1332</td>\n",
       "    </tr>\n",
       "    <tr>\n",
       "      <th>06001400300</th>\n",
       "      <td>3595</td>\n",
       "      <td>944</td>\n",
       "      <td>0</td>\n",
       "      <td>887</td>\n",
       "      <td>1262</td>\n",
       "    </tr>\n",
       "    <tr>\n",
       "      <th>06001400400</th>\n",
       "      <td>3111</td>\n",
       "      <td>692</td>\n",
       "      <td>887</td>\n",
       "      <td>0</td>\n",
       "      <td>640</td>\n",
       "    </tr>\n",
       "    <tr>\n",
       "      <th>06001400500</th>\n",
       "      <td>3579</td>\n",
       "      <td>1332</td>\n",
       "      <td>1262</td>\n",
       "      <td>640</td>\n",
       "      <td>0</td>\n",
       "    </tr>\n",
       "  </tbody>\n",
       "</table>\n",
       "</div>"
      ],
      "text/plain": [
       "             06001400100  06001400200  06001400300  06001400400  06001400500\n",
       "06001400100            0         2659         3595         3111         3579\n",
       "06001400200         2659            0          944          692         1332\n",
       "06001400300         3595          944            0          887         1262\n",
       "06001400400         3111          692          887            0          640\n",
       "06001400500         3579         1332         1262          640            0"
      ]
     },
     "execution_count": 2,
     "metadata": {},
     "output_type": "execute_result"
    }
   ],
   "source": [
    "# keep the row labels as string to preserve preceding zeros in tract IDs\n",
    "dtypes = {0:str}\n",
    "dist_matrix = pd.read_csv(distance_matrix_file, dtype=dtypes)\n",
    "dist_matrix = dist_matrix.set_index('Unnamed: 0')\n",
    "dist_matrix.index.name = None\n",
    "dist_matrix.iloc[:5, :5]"
   ]
  },
  {
   "cell_type": "code",
   "execution_count": 3,
   "metadata": {},
   "outputs": [
    {
     "name": "stdout",
     "output_type": "stream",
     "text": [
      "Wall time: 3.95 s\n"
     ]
    }
   ],
   "source": [
    "%%time\n",
    "db = dm.distance_bands(dist_matrix, distances)"
   ]
  },
  {
   "cell_type": "code",
   "execution_count": 4,
   "metadata": {},
   "outputs": [
    {
     "data": {
      "text/plain": [
       "06001400100  1    [06001400100, 06001400200, 06001400300, 060014...\n",
       "             2    [06001400800, 06001400900, 06001401000, 060014...\n",
       "             3    [06001406100, 06001407200, 06001407300, 060014...\n",
       "             4    [06001430101, 06001430200, 06001430300, 060014...\n",
       "06001400200  1    [06001400100, 06001400200, 06001400300, 060014...\n",
       "             2    [06001401700, 06001401800, 06001402200, 060014...\n",
       "             3    [06001407300, 06001408100, 06001408200, 060014...\n",
       "             4    [06001430101, 06001430200, 06001430300, 060014...\n",
       "06001400300  1    [06001400100, 06001400200, 06001400300, 060014...\n",
       "             2    [06001401700, 06001401800, 06001402200, 060014...\n",
       "             3    [06001408100, 06001408200, 06001408300, 060014...\n",
       "             4    [06001430101, 06001430200, 06001430300, 060014...\n",
       "06001400400  1    [06001400100, 06001400200, 06001400300, 060014...\n",
       "             2    [06001401700, 06001401800, 06001402200, 060014...\n",
       "             3    [06001407300, 06001407500, 06001408100, 060014...\n",
       "             4    [06001430101, 06001430200, 06001430300, 060014...\n",
       "06001400500  1    [06001400100, 06001400200, 06001400300, 060014...\n",
       "             2    [06001401700, 06001401800, 06001402200, 060014...\n",
       "             3    [06001407300, 06001407400, 06001407500, 060014...\n",
       "             4    [06001430101, 06001430200, 06001430300, 060014...\n",
       "dtype: object"
      ]
     },
     "execution_count": 4,
     "metadata": {},
     "output_type": "execute_result"
    }
   ],
   "source": [
    "db.head(20)"
   ]
  },
  {
   "cell_type": "code",
   "execution_count": 5,
   "metadata": {},
   "outputs": [],
   "source": [
    "# save to csv for now... should store in database\n",
    "db.to_csv(distance_bands_file, index=True, encoding='utf-8')"
   ]
  },
  {
   "cell_type": "code",
   "execution_count": null,
   "metadata": {
    "collapsed": true
   },
   "outputs": [],
   "source": []
  }
 ],
 "metadata": {
  "kernelspec": {
   "display_name": "Python 2",
   "language": "python",
   "name": "python2"
  },
  "language_info": {
   "codemirror_mode": {
    "name": "ipython",
    "version": 2
   },
   "file_extension": ".py",
   "mimetype": "text/x-python",
   "name": "python",
   "nbconvert_exporter": "python",
   "pygments_lexer": "ipython2",
   "version": "2.7.13"
  }
 },
 "nbformat": 4,
 "nbformat_minor": 2
}
