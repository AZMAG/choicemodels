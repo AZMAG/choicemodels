{
 "cells": [
  {
   "cell_type": "code",
   "execution_count": 1,
   "metadata": {},
   "outputs": [
    {
     "name": "stderr",
     "output_type": "stream",
     "text": [
      "C:\\Anaconda\\envs\\cm\\lib\\site-packages\\statsmodels\\compat\\pandas.py:56: FutureWarning: The pandas.core.datetools module is deprecated and will be removed in a future version. Please use the pandas.tseries module instead.\n",
      "  from pandas.core import datetools\n"
     ]
    }
   ],
   "source": [
    "import pandas as pd, numpy as np\n",
    "from choicemodels.tools import distancematrix as dm\n",
    "\n",
    "# define distance bands in meters\n",
    "distances = [0, 3000, 10000, 20000, np.inf]\n",
    "\n",
    "# specify input/output file locations\n",
    "distance_matrix_file = '../data/bay_tracts_distance_matrix.csv'\n",
    "distance_bands_file = '../data/bay_tracts_distance_bands.csv'"
   ]
  },
  {
   "cell_type": "code",
   "execution_count": 2,
   "metadata": {},
   "outputs": [
    {
     "data": {
      "text/plain": [
       "from         to         \n",
       "06001400100  06001400100       0\n",
       "             06001400200    2659\n",
       "             06001400300    3595\n",
       "             06001400400    3111\n",
       "             06001400500    3579\n",
       "Name: distance, dtype: int64"
      ]
     },
     "execution_count": 2,
     "metadata": {},
     "output_type": "execute_result"
    }
   ],
   "source": [
    "# keep to and from geography IDs as string to preserve preceding zeros in tract IDs\n",
    "dtypes = {0:str, 1:str}\n",
    "dist_matrix = pd.read_csv(distance_matrix_file, header=None, dtype=dtypes, encoding='utf-8')\n",
    "dist_matrix = dist_matrix.rename(columns={0:'from', 1:'to', 2:'distance'})\n",
    "dist_matrix = dist_matrix.set_index(['from', 'to'])\n",
    "dist_vector = dist_matrix['distance']\n",
    "dist_vector.head()"
   ]
  },
  {
   "cell_type": "code",
   "execution_count": 3,
   "metadata": {},
   "outputs": [
    {
     "name": "stdout",
     "output_type": "stream",
     "text": [
      "Wall time: 4.17 s\n"
     ]
    }
   ],
   "source": [
    "%%time\n",
    "db = dm.distance_bands(dist_vector, distances)"
   ]
  },
  {
   "cell_type": "code",
   "execution_count": 4,
   "metadata": {},
   "outputs": [
    {
     "data": {
      "text/plain": [
       "06001400100  0    [06001400100, 06001400200, 06001404300, 060014...\n",
       "             1    [06001400300, 06001400400, 06001400500, 060014...\n",
       "             2    [06001406100, 06001407200, 06001407300, 060014...\n",
       "             3    [06001430101, 06001430200, 06001430300, 060014...\n",
       "06001400200  0    [06001400100, 06001400200, 06001400300, 060014...\n",
       "             1    [06001401300, 06001401400, 06001401500, 060014...\n",
       "             2    [06001407300, 06001408100, 06001408200, 060014...\n",
       "             3    [06001430101, 06001430200, 06001430300, 060014...\n",
       "06001400300  0    [06001400200, 06001400300, 06001400400, 060014...\n",
       "             1    [06001400100, 06001401500, 06001401600, 060014...\n",
       "             2    [06001408100, 06001408200, 06001408300, 060014...\n",
       "             3    [06001430101, 06001430200, 06001430300, 060014...\n",
       "06001400400  0    [06001400200, 06001400300, 06001400400, 060014...\n",
       "             1    [06001400100, 06001401300, 06001401400, 060014...\n",
       "             2    [06001407300, 06001407500, 06001408100, 060014...\n",
       "             3    [06001430101, 06001430200, 06001430300, 060014...\n",
       "06001400500  0    [06001400200, 06001400300, 06001400400, 060014...\n",
       "             1    [06001400100, 06001401300, 06001401400, 060014...\n",
       "             2    [06001407300, 06001407400, 06001407500, 060014...\n",
       "             3    [06001430101, 06001430200, 06001430300, 060014...\n",
       "dtype: object"
      ]
     },
     "execution_count": 4,
     "metadata": {},
     "output_type": "execute_result"
    }
   ],
   "source": [
    "db.head(20)"
   ]
  },
  {
   "cell_type": "code",
   "execution_count": 5,
   "metadata": {
    "collapsed": true
   },
   "outputs": [],
   "source": [
    "# save to csv for now... should store in database\n",
    "db.to_csv(distance_bands_file, index=True, encoding='utf-8')"
   ]
  },
  {
   "cell_type": "code",
   "execution_count": null,
   "metadata": {
    "collapsed": true
   },
   "outputs": [],
   "source": []
  }
 ],
 "metadata": {
  "kernelspec": {
   "display_name": "Python 2",
   "language": "python",
   "name": "python2"
  },
  "language_info": {
   "codemirror_mode": {
    "name": "ipython",
    "version": 2
   },
   "file_extension": ".py",
   "mimetype": "text/x-python",
   "name": "python",
   "nbconvert_exporter": "python",
   "pygments_lexer": "ipython2",
   "version": "2.7.13"
  }
 },
 "nbformat": 4,
 "nbformat_minor": 2
}
