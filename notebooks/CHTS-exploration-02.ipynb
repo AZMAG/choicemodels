{
 "cells": [
  {
   "cell_type": "markdown",
   "metadata": {},
   "source": [
    "# Exploring the public CHTS data\n",
    "\n",
    "Sam Maurer, August 2017 | Python 3.6\n",
    "\n",
    "Original version June 2017 (v01)  \n",
    "Updated Aug 2017 (v02) to look into data type issues in the raw data"
   ]
  },
  {
   "cell_type": "code",
   "execution_count": 1,
   "metadata": {
    "collapsed": true
   },
   "outputs": [],
   "source": [
    "%matplotlib inline\n",
    "\n",
    "import matplotlib\n",
    "import numpy as np\n",
    "import pandas as pd\n",
    "import zipfile"
   ]
  },
  {
   "cell_type": "code",
   "execution_count": 2,
   "metadata": {
    "collapsed": false
   },
   "outputs": [],
   "source": [
    "# See ../data/README.md for instructions about how to get the data\n",
    "\n",
    "z = zipfile.ZipFile('../data/caltrans_full_survey.zip')"
   ]
  },
  {
   "cell_type": "markdown",
   "metadata": {},
   "source": [
    "## Households\n",
    "\n",
    "Households that participated in the travel diary survey"
   ]
  },
  {
   "cell_type": "code",
   "execution_count": 3,
   "metadata": {
    "collapsed": false
   },
   "outputs": [
    {
     "data": {
      "text/plain": [
       "42426"
      ]
     },
     "execution_count": 3,
     "metadata": {},
     "output_type": "execute_result"
    }
   ],
   "source": [
    "households = pd.read_csv(z.open('caltrans_full_survey/survey_households.csv'), low_memory=False)\n",
    "\n",
    "len(households)"
   ]
  },
  {
   "cell_type": "code",
   "execution_count": 4,
   "metadata": {
    "collapsed": false
   },
   "outputs": [
    {
     "data": {
      "text/plain": [
       "9715"
      ]
     },
     "execution_count": 4,
     "metadata": {},
     "output_type": "execute_result"
    }
   ],
   "source": [
    "# Limit to the Bay Area\n",
    "\n",
    "households_ba = households[households.home_county_id.isin([1, 13, 41, 55, 75, 81, 85, 95, 97])]\n",
    "\n",
    "len(households_ba)"
   ]
  },
  {
   "cell_type": "code",
   "execution_count": 5,
   "metadata": {
    "collapsed": false
   },
   "outputs": [
    {
     "data": {
      "text/plain": [
       "SAN FRANCISCO    1076\n",
       "SAN JOSE          939\n",
       "OAKLAND           459\n",
       "SANTA ROSA        321\n",
       "BERKELEY          251\n",
       "NAPA              228\n",
       "PALO ALTO         218\n",
       "SUNNYVALE         200\n",
       "SAN MATEO         197\n",
       "FREMONT           177\n",
       "WALNUT CREEK      173\n",
       "REDWOOD CITY      170\n",
       "FAIRFIELD         159\n",
       "CONCORD           158\n",
       "SAN RAFAEL        158\n",
       "Name: home_city, dtype: int64"
      ]
     },
     "execution_count": 5,
     "metadata": {},
     "output_type": "execute_result"
    }
   ],
   "source": [
    "# Top home locations\n",
    "\n",
    "households_ba.home_city.value_counts()[:15]"
   ]
  },
  {
   "cell_type": "code",
   "execution_count": 6,
   "metadata": {
    "collapsed": false
   },
   "outputs": [
    {
     "data": {
      "text/plain": [
       "count    42421.000000\n",
       "mean         2.571462\n",
       "std          1.373733\n",
       "min          1.000000\n",
       "25%          2.000000\n",
       "50%          2.000000\n",
       "75%          3.000000\n",
       "max          8.000000\n",
       "Name: persons_count, dtype: float64"
      ]
     },
     "execution_count": 6,
     "metadata": {},
     "output_type": "execute_result"
    }
   ],
   "source": [
    "households.persons_count.describe()"
   ]
  },
  {
   "cell_type": "code",
   "execution_count": 7,
   "metadata": {
    "collapsed": false
   },
   "outputs": [
    {
     "data": {
      "text/plain": [
       "count    42421.000000\n",
       "mean         0.999955\n",
       "std          0.704667\n",
       "min          0.003498\n",
       "25%          0.447392\n",
       "50%          0.915924\n",
       "75%          1.376790\n",
       "max          5.400840\n",
       "Name: hhwgt, dtype: float64"
      ]
     },
     "execution_count": 7,
     "metadata": {},
     "output_type": "execute_result"
    }
   ],
   "source": [
    "households.hhwgt.describe()"
   ]
  },
  {
   "cell_type": "code",
   "execution_count": 8,
   "metadata": {
    "collapsed": false
   },
   "outputs": [
    {
     "data": {
      "text/plain": [
       "count    42421.000000\n",
       "mean       293.007784\n",
       "std        206.482227\n",
       "min          1.025146\n",
       "25%        131.095416\n",
       "50%        268.385115\n",
       "75%        403.428487\n",
       "max       1582.559559\n",
       "Name: exphhwgt, dtype: float64"
      ]
     },
     "execution_count": 8,
     "metadata": {},
     "output_type": "execute_result"
    }
   ],
   "source": [
    "households.exphhwgt.describe()"
   ]
  },
  {
   "cell_type": "code",
   "execution_count": 9,
   "metadata": {
    "collapsed": false
   },
   "outputs": [
    {
     "data": {
      "text/plain": [
       "count    4.242100e+04\n",
       "mean     6.056293e+09\n",
       "std      2.944557e+07\n",
       "min      6.001400e+09\n",
       "25%      6.037207e+09\n",
       "50%      6.059042e+09\n",
       "75%      6.079011e+09\n",
       "max      6.115041e+09\n",
       "Name: home_tract_id, dtype: float64"
      ]
     },
     "execution_count": 9,
     "metadata": {},
     "output_type": "execute_result"
    }
   ],
   "source": [
    "households.home_tract_id.describe()"
   ]
  },
  {
   "cell_type": "code",
   "execution_count": null,
   "metadata": {
    "collapsed": false
   },
   "outputs": [],
   "source": []
  },
  {
   "cell_type": "markdown",
   "metadata": {},
   "source": [
    "## Persons"
   ]
  },
  {
   "cell_type": "code",
   "execution_count": 10,
   "metadata": {
    "collapsed": false
   },
   "outputs": [
    {
     "data": {
      "text/plain": [
       "109113"
      ]
     },
     "execution_count": 10,
     "metadata": {},
     "output_type": "execute_result"
    }
   ],
   "source": [
    "persons = pd.read_csv(z.open('caltrans_full_survey/survey_person.csv'), low_memory=False)\n",
    "\n",
    "len(persons)"
   ]
  },
  {
   "cell_type": "code",
   "execution_count": 11,
   "metadata": {
    "collapsed": false
   },
   "outputs": [
    {
     "name": "stdout",
     "output_type": "stream",
     "text": [
      "    sampno  perno travel_date  gender  relation  education  race1\n",
      "0  7128119      1  2013-01-27       1         1          6    1.0\n",
      "1  7128119      3  2013-01-27       2         3          1    1.0\n",
      "2  7128138      1  2012-11-05       2         1          5    1.0\n",
      "3  7128262      1  2012-12-21       2         1          1    1.0\n",
      "4  7128262      3  2012-12-21       2         3          2    1.0\n",
      "5  7128262      2  2012-12-21       1         2          1    1.0\n",
      "6  7128288      2  2013-01-22       1         3          3    1.0\n",
      "7  7128288      1  2013-01-22       2         1          5    1.0\n",
      "8  7128316      1  2012-12-29       2         1          4    1.0\n",
      "9  7128372      1  2012-12-29       2         1          6    1.0\n"
     ]
    }
   ],
   "source": [
    "print(persons[['sampno', 'perno', 'travel_date', 'gender', 'relation', \n",
    "               'education', 'race1']].head(10))"
   ]
  },
  {
   "cell_type": "code",
   "execution_count": 12,
   "metadata": {
    "collapsed": false
   },
   "outputs": [
    {
     "data": {
      "text/plain": [
       "count    108776.000000\n",
       "mean          3.233838\n",
       "std           2.954577\n",
       "min           0.000000\n",
       "25%           1.000000\n",
       "50%           2.000000\n",
       "75%           5.000000\n",
       "max          33.000000\n",
       "Name: person_trips, dtype: float64"
      ]
     },
     "execution_count": 12,
     "metadata": {},
     "output_type": "execute_result"
    }
   ],
   "source": [
    "# What is `person_trips`? -- not sure, but it looks related to the `tripno` field\n",
    "\n",
    "persons.person_trips.describe()"
   ]
  },
  {
   "cell_type": "code",
   "execution_count": 13,
   "metadata": {
    "collapsed": false
   },
   "outputs": [
    {
     "data": {
      "text/plain": [
       "count    4.311100e+04\n",
       "mean     6.241008e+09\n",
       "std      3.120183e+09\n",
       "min      2.614000e+03\n",
       "25%      6.037238e+09\n",
       "50%      6.059064e+09\n",
       "75%      6.079011e+09\n",
       "max      1.000000e+11\n",
       "Name: empl_tract_id, dtype: float64"
      ]
     },
     "execution_count": 13,
     "metadata": {},
     "output_type": "execute_result"
    }
   ],
   "source": [
    "persons.empl_tract_id.describe()"
   ]
  },
  {
   "cell_type": "code",
   "execution_count": 14,
   "metadata": {
    "collapsed": false
   },
   "outputs": [
    {
     "data": {
      "text/plain": [
       "count     109113\n",
       "unique         2\n",
       "top        False\n",
       "freq       66002\n",
       "Name: empl_tract_id, dtype: object"
      ]
     },
     "execution_count": 14,
     "metadata": {},
     "output_type": "execute_result"
    }
   ],
   "source": [
    "persons.empl_tract_id.notnull().describe()"
   ]
  },
  {
   "cell_type": "code",
   "execution_count": 15,
   "metadata": {
    "collapsed": false
   },
   "outputs": [
    {
     "data": {
      "text/plain": [
       "count    2.543800e+04\n",
       "mean     6.342777e+09\n",
       "std      3.678070e+09\n",
       "min      4.005001e+09\n",
       "25%      6.037233e+09\n",
       "50%      6.059063e+09\n",
       "75%      6.079010e+09\n",
       "max      1.000000e+11\n",
       "Name: school_tract_id, dtype: float64"
      ]
     },
     "execution_count": 15,
     "metadata": {},
     "output_type": "execute_result"
    }
   ],
   "source": [
    "persons.school_tract_id.describe()"
   ]
  },
  {
   "cell_type": "code",
   "execution_count": 16,
   "metadata": {
    "collapsed": false
   },
   "outputs": [
    {
     "data": {
      "text/plain": [
       "count     109113\n",
       "unique         2\n",
       "top        False\n",
       "freq       83675\n",
       "Name: school_tract_id, dtype: object"
      ]
     },
     "execution_count": 16,
     "metadata": {},
     "output_type": "execute_result"
    }
   ],
   "source": [
    "persons.school_tract_id.notnull().describe()"
   ]
  },
  {
   "cell_type": "code",
   "execution_count": 17,
   "metadata": {
    "collapsed": false
   },
   "outputs": [
    {
     "data": {
      "text/plain": [
       "count    109113.000000\n",
       "mean          0.999999\n",
       "std           0.962373\n",
       "min           0.000568\n",
       "25%           0.322230\n",
       "50%           0.717519\n",
       "75%           1.329846\n",
       "max           5.060089\n",
       "Name: perwgt, dtype: float64"
      ]
     },
     "execution_count": 17,
     "metadata": {},
     "output_type": "execute_result"
    }
   ],
   "source": [
    "persons.perwgt.describe()"
   ]
  },
  {
   "cell_type": "code",
   "execution_count": null,
   "metadata": {
    "collapsed": true
   },
   "outputs": [],
   "source": []
  },
  {
   "cell_type": "markdown",
   "metadata": {},
   "source": [
    "## Places\n",
    "\n",
    "Each record represents a single visit to a place"
   ]
  },
  {
   "cell_type": "code",
   "execution_count": 18,
   "metadata": {
    "collapsed": false
   },
   "outputs": [
    {
     "data": {
      "text/plain": [
       "460524"
      ]
     },
     "execution_count": 18,
     "metadata": {},
     "output_type": "execute_result"
    }
   ],
   "source": [
    "places = pd.read_csv(z.open('caltrans_full_survey/survey_place.csv'), low_memory=False)\n",
    "\n",
    "len(places)"
   ]
  },
  {
   "cell_type": "code",
   "execution_count": 19,
   "metadata": {
    "collapsed": false
   },
   "outputs": [
    {
     "name": "stdout",
     "output_type": "stream",
     "text": [
      "Index(['sampno', 'perno', 'plano', 'vehno', 'tripno', 'place_name',\n",
      "       'travel_date', 'arr_time', 'dep_time', 'mode', 'trip_distance_miles',\n",
      "       'air_trip_distance_miles', 'tripdistanceflag', 'prev_trip_duration_min',\n",
      "       'act_dur', 'act_cnt', 'block_id', 'tract_id', 'county_id', 'state_id',\n",
      "       'place_primarycity', 'city', 'zipcode', 'state', 'parked_loc_type',\n",
      "       'parked_other_loc_type', 'parked_address', 'parked_minutes',\n",
      "       'parked_payed', 'parked_amount_payed', 'parked_unit', 'parked_pay_type',\n",
      "       'parked_other_pay_type', 'parked_paymen_ne', 'got_out_vehicle',\n",
      "       'transit_system', 'transit_system_other', 'perwgt', 'expperwgt', 'tcf',\n",
      "       'tcfperwgt', 'exptcfperwgt', 'tottr', 'hhmem', 'lon', 'lat',\n",
      "       'non_hh_members', 'route', 'per1', 'per2', 'per3', 'per4', 'per5',\n",
      "       'geom'],\n",
      "      dtype='object')\n"
     ]
    }
   ],
   "source": [
    "print(places.columns)"
   ]
  },
  {
   "cell_type": "code",
   "execution_count": 20,
   "metadata": {
    "collapsed": false
   },
   "outputs": [
    {
     "name": "stdout",
     "output_type": "stream",
     "text": [
      "b'1031985,1,1,,,REDACTED,2012-05-01,03:00:00,08:00:00,,,,,,340.0,3.0,REDACTED,252202.0,95.0,6.0,VALLEJO,VALLEJO,94591,CA,,,REDACTED,,,,,,,,,,,0.052086,17.647568,,,,,,REDACTED,REDACTED,,,,,,,,REDACTED\\r\\n'\n",
      "b'1031985,1,2,97.0,1.0,REDACTED,2012-05-01,09:00:00,12:00:00,6.0,13.428271,7.647539,,22.0,231.0,1.0,REDACTED,252108.0,95.0,6.0,BENICIA,BENICIA,94510,CA,,,REDACTED,,,,,,,,1.0,,,0.052086,17.647568,0.969788,0.050512,17.114408,2.0,0.0,REDACTED,REDACTED,1.0,,,,,,,REDACTED\\r\\n'\n"
     ]
    }
   ],
   "source": [
    "# Print some raw data to make sure the pandas type inferences are reasonable\n",
    "\n",
    "with z.open('caltrans_full_survey/survey_place.csv', 'r') as f:\n",
    "    _ = f.readline()  # discard column headers\n",
    "    print(f.readline())\n",
    "    print(f.readline())"
   ]
  },
  {
   "cell_type": "code",
   "execution_count": 21,
   "metadata": {
    "collapsed": false
   },
   "outputs": [
    {
     "data": {
      "text/plain": [
       "117345"
      ]
     },
     "execution_count": 21,
     "metadata": {},
     "output_type": "execute_result"
    }
   ],
   "source": [
    "# Filter for places visited by people who live in the Bay Area (may want to do use a\n",
    "# different filter depending on the application)\n",
    "\n",
    "places_ba = places[places.sampno.isin(households_ba.sampno)]\n",
    "\n",
    "len(places_ba)"
   ]
  },
  {
   "cell_type": "code",
   "execution_count": 22,
   "metadata": {
    "collapsed": false
   },
   "outputs": [
    {
     "name": "stdout",
     "output_type": "stream",
     "text": [
      "      sampno  perno  plano  tripno\n",
      "0    1031985      1      1     NaN\n",
      "1    1031985      1      2     1.0\n",
      "2    1031985      1      3     2.0\n",
      "3    1031985      2      1     NaN\n",
      "4    1031985      2      2     1.0\n",
      "5    1031985      2      3     2.0\n",
      "118  1033944      1      1     NaN\n",
      "119  1033944      1      2     1.0\n",
      "120  1033944      1      3     2.0\n",
      "121  1033944      1      4     3.0\n"
     ]
    }
   ],
   "source": [
    "# Is there a unique identifier?\n",
    "\n",
    "# Might need to use combination of `sampno` (household), `perno` (person within hh),\n",
    "# `plano` (place within person's travel diary)\n",
    "\n",
    "# What's `tripno`? (\"unlinked trip ID\" - maybe representing transfer between modes)\n",
    "\n",
    "print(places_ba[['sampno', 'perno', 'plano', 'tripno']].head(10))"
   ]
  },
  {
   "cell_type": "code",
   "execution_count": 23,
   "metadata": {
    "collapsed": false
   },
   "outputs": [
    {
     "data": {
      "text/plain": [
       "117345"
      ]
     },
     "execution_count": 23,
     "metadata": {},
     "output_type": "execute_result"
    }
   ],
   "source": [
    "# Is every combination of `sampno`, `perno`, `plano` unique? -- Yes\n",
    "\n",
    "len(places_ba.groupby(['sampno', 'perno', 'plano']))"
   ]
  },
  {
   "cell_type": "code",
   "execution_count": 24,
   "metadata": {
    "collapsed": false
   },
   "outputs": [
    {
     "data": {
      "text/plain": [
       "93406"
      ]
     },
     "execution_count": 24,
     "metadata": {},
     "output_type": "execute_result"
    }
   ],
   "source": [
    "# How many places have a `tripno`? -- about 80%\n",
    "\n",
    "places_ba.tripno.count()"
   ]
  },
  {
   "cell_type": "code",
   "execution_count": 25,
   "metadata": {
    "collapsed": false
   },
   "outputs": [
    {
     "data": {
      "text/plain": [
       "117345"
      ]
     },
     "execution_count": 25,
     "metadata": {},
     "output_type": "execute_result"
    }
   ],
   "source": [
    "# Is the `tripno` ever repeated? -- No\n",
    "\n",
    "len(places_ba.groupby(['sampno', 'perno', 'plano', 'tripno']))"
   ]
  },
  {
   "cell_type": "code",
   "execution_count": 26,
   "metadata": {
    "collapsed": false
   },
   "outputs": [
    {
     "data": {
      "text/plain": [
       "count    93406.000000\n",
       "mean         3.817185\n",
       "std          2.841705\n",
       "min          1.000000\n",
       "25%          2.000000\n",
       "50%          3.000000\n",
       "75%          5.000000\n",
       "max         32.000000\n",
       "Name: tripno, dtype: float64"
      ]
     },
     "execution_count": 26,
     "metadata": {},
     "output_type": "execute_result"
    }
   ],
   "source": [
    "places_ba.tripno.describe()"
   ]
  },
  {
   "cell_type": "code",
   "execution_count": 27,
   "metadata": {
    "collapsed": false
   },
   "outputs": [
    {
     "data": {
      "text/plain": [
       "0    REDACTED\n",
       "1    REDACTED\n",
       "2    REDACTED\n",
       "3    REDACTED\n",
       "4    REDACTED\n",
       "Name: place_name, dtype: object"
      ]
     },
     "execution_count": 27,
     "metadata": {},
     "output_type": "execute_result"
    }
   ],
   "source": [
    "# Can we see the place names? -- No\n",
    "\n",
    "places_ba.place_name.head()"
   ]
  },
  {
   "cell_type": "code",
   "execution_count": 28,
   "metadata": {
    "collapsed": false
   },
   "outputs": [
    {
     "data": {
      "text/plain": [
       "SAN FRANCISCO    15680\n",
       "SAN JOSE         11414\n",
       "OAKLAND           5455\n",
       "SANTA ROSA        3441\n",
       "BERKELEY          3185\n",
       "PALO ALTO         2664\n",
       "SUNNYVALE         2440\n",
       "SAN MATEO         2190\n",
       "NAPA              2160\n",
       "FREMONT           2126\n",
       "REDWOOD CITY      2067\n",
       "MOUNTAIN VIEW     1948\n",
       "WALNUT CREEK      1896\n",
       "SANTA CLARA       1816\n",
       "CONCORD           1800\n",
       "Name: city, dtype: int64"
      ]
     },
     "execution_count": 28,
     "metadata": {},
     "output_type": "execute_result"
    }
   ],
   "source": [
    "places_ba.city.value_counts().head(15)"
   ]
  },
  {
   "cell_type": "code",
   "execution_count": 29,
   "metadata": {
    "collapsed": false
   },
   "outputs": [
    {
     "data": {
      "image/png": "[encoded data removed]",
      "text/plain": [
       "<matplotlib.figure.Figure at 0x10c4d7ef0>"
      ]
     },
     "metadata": {},
     "output_type": "display_data"
    }
   ],
   "source": [
    "places_ba.trip_distance_miles.plot.hist(bins=20, range=(0,15));"
   ]
  },
  {
   "cell_type": "code",
   "execution_count": 30,
   "metadata": {
    "collapsed": false
   },
   "outputs": [
    {
     "data": {
      "text/plain": [
       "2296"
      ]
     },
     "execution_count": 30,
     "metadata": {},
     "output_type": "execute_result"
    }
   ],
   "source": [
    "# Most detailed spatial identifier in public data is tract_id\n",
    "\n",
    "# How many different tracts are visited?\n",
    "places_ba.tract_id.unique().shape[0]"
   ]
  },
  {
   "cell_type": "code",
   "execution_count": 31,
   "metadata": {
    "collapsed": false
   },
   "outputs": [
    {
     "data": {
      "text/plain": [
       "9715"
      ]
     },
     "execution_count": 31,
     "metadata": {},
     "output_type": "execute_result"
    }
   ],
   "source": [
    "# How many different households?\n",
    "places_ba.sampno.unique().shape[0]"
   ]
  },
  {
   "cell_type": "code",
   "execution_count": 32,
   "metadata": {
    "collapsed": false
   },
   "outputs": [
    {
     "data": {
      "text/plain": [
       "23939"
      ]
     },
     "execution_count": 32,
     "metadata": {},
     "output_type": "execute_result"
    }
   ],
   "source": [
    "# How many different people?\n",
    "len(places_ba.groupby(['sampno','perno']))"
   ]
  },
  {
   "cell_type": "code",
   "execution_count": 33,
   "metadata": {
    "collapsed": false
   },
   "outputs": [
    {
     "name": "stdout",
     "output_type": "stream",
     "text": [
      "    sampno  perno  plano  tract_id  county_id  state_id\n",
      "0  1031985      1      1  252202.0       95.0       6.0\n",
      "1  1031985      1      2  252108.0       95.0       6.0\n",
      "2  1031985      1      3  252202.0       95.0       6.0\n"
     ]
    }
   ],
   "source": [
    "# How are the ID's encoded?\n",
    "\n",
    "print(places_ba[['sampno','perno','plano','tract_id','county_id','state_id']].head(3))"
   ]
  },
  {
   "cell_type": "code",
   "execution_count": 34,
   "metadata": {
    "collapsed": false
   },
   "outputs": [
    {
     "name": "stdout",
     "output_type": "stream",
     "text": [
      "       tract_id  county_id  state_id\n",
      "count  117344.0   117344.0  117344.0\n",
      "mean        0.0        0.0       0.0\n",
      "std         0.0        0.0       0.0\n",
      "min         0.0        0.0       0.0\n",
      "25%         0.0        0.0       0.0\n",
      "50%         0.0        0.0       0.0\n",
      "75%         0.0        0.0       0.0\n",
      "max         0.0        0.0       0.0\n"
     ]
    }
   ],
   "source": [
    "# Do the floating point decimals encode anything, or is it just a mistake in the source\n",
    "# data that they're not all stored as ints? (Looks like a mistake, and my guess is it\n",
    "# happened because int columns can't have missing values in certain database systems.)\n",
    "\n",
    "asfloat = places_ba[['tract_id','county_id','state_id']].dropna()\n",
    "asint = places_ba[['tract_id','county_id','state_id']].dropna().astype(int)\n",
    "\n",
    "print((asfloat - asint).describe())"
   ]
  },
  {
   "cell_type": "code",
   "execution_count": 35,
   "metadata": {
    "collapsed": false
   },
   "outputs": [
    {
     "name": "stdout",
     "output_type": "stream",
     "text": [
      "mode    23939\n",
      "dtype: int64\n",
      "               mode\n",
      "count  93406.000000\n",
      "mean       5.279147\n",
      "std        4.039473\n",
      "min        1.000000\n",
      "25%        5.000000\n",
      "50%        5.000000\n",
      "75%        6.000000\n",
      "max       29.000000\n"
     ]
    }
   ],
   "source": [
    "# What does the travel mode data look like? We can replace null values with zero\n",
    "\n",
    "print(places_ba[['mode']].isnull().sum())\n",
    "print(places_ba[['mode']].describe())"
   ]
  },
  {
   "cell_type": "code",
   "execution_count": null,
   "metadata": {
    "collapsed": true
   },
   "outputs": [],
   "source": []
  },
  {
   "cell_type": "code",
   "execution_count": null,
   "metadata": {
    "collapsed": true
   },
   "outputs": [],
   "source": []
  },
  {
   "cell_type": "markdown",
   "metadata": {},
   "source": [
    "## Census identifiers"
   ]
  },
  {
   "cell_type": "code",
   "execution_count": 36,
   "metadata": {
    "collapsed": true
   },
   "outputs": [],
   "source": [
    "# Suppress scientific notation\n",
    "\n",
    "pd.set_option('display.float_format', lambda x: '%.0f' % x)"
   ]
  },
  {
   "cell_type": "code",
   "execution_count": 37,
   "metadata": {
    "collapsed": false
   },
   "outputs": [
    {
     "name": "stdout",
     "output_type": "stream",
     "text": [
      "6912\n",
      "14388\n"
     ]
    }
   ],
   "source": [
    "# Is the mapping between census tracts and city names consistent? -- No\n",
    "\n",
    "print(places.tract_id.drop_duplicates().shape[0])\n",
    "print(places[['tract_id', 'city']].drop_duplicates().shape[0])"
   ]
  },
  {
   "cell_type": "code",
   "execution_count": 38,
   "metadata": {
    "collapsed": false
   },
   "outputs": [
    {
     "data": {
      "text/plain": [
       "count   460519\n",
       "mean    191724\n",
       "std     242716\n",
       "min        100\n",
       "25%       5911\n",
       "50%      43317\n",
       "75%     402800\n",
       "max     999999\n",
       "Name: tract_id, dtype: float64"
      ]
     },
     "execution_count": 38,
     "metadata": {},
     "output_type": "execute_result"
    }
   ],
   "source": [
    "places.tract_id.describe()"
   ]
  },
  {
   "cell_type": "code",
   "execution_count": 39,
   "metadata": {
    "collapsed": false
   },
   "outputs": [
    {
     "data": {
      "text/plain": [
       "count   460519\n",
       "mean        58\n",
       "std         50\n",
       "min          1\n",
       "25%         37\n",
       "50%         59\n",
       "75%         79\n",
       "max        999\n",
       "Name: county_id, dtype: float64"
      ]
     },
     "execution_count": 39,
     "metadata": {},
     "output_type": "execute_result"
    }
   ],
   "source": [
    "places.county_id.describe()"
   ]
  },
  {
   "cell_type": "code",
   "execution_count": 40,
   "metadata": {
    "collapsed": false
   },
   "outputs": [
    {
     "data": {
      "text/plain": [
       "count   460523\n",
       "mean         6\n",
       "std          5\n",
       "min          1\n",
       "25%          6\n",
       "50%          6\n",
       "75%          6\n",
       "max         99\n",
       "Name: state_id, dtype: float64"
      ]
     },
     "execution_count": 40,
     "metadata": {},
     "output_type": "execute_result"
    }
   ],
   "source": [
    "places.state_id.describe()"
   ]
  },
  {
   "cell_type": "code",
   "execution_count": 41,
   "metadata": {
    "collapsed": false
   },
   "outputs": [
    {
     "data": {
      "text/plain": [
       "6     455641\n",
       "99      1064\n",
       "32       957\n",
       "41       454\n",
       "4        412\n",
       "Name: state_id, dtype: int64"
      ]
     },
     "execution_count": 41,
     "metadata": {},
     "output_type": "execute_result"
    }
   ],
   "source": [
    "places.state_id.value_counts().head(5)"
   ]
  },
  {
   "cell_type": "code",
   "execution_count": 42,
   "metadata": {
    "collapsed": false
   },
   "outputs": [],
   "source": [
    "# How to deal with this? I think `tract_id` is an integer representation\n",
    "# of the 4-digit tract ID within the couty plus the 2 digit suffix. \n",
    "\n",
    "# So the full unique identifier is `state_id` + `county_id` (3 digits) + `tract_id` (6 digits)\n",
    "\n",
    "places['_full_tract_id'] = places.state_id * 1e9 + places.county_id * 1e6 + places.tract_id\n",
    "\n",
    "# Presumably the all-9 entries reflect missing data, but documentation doesn't specify\n",
    "\n",
    "places.loc[(places.tract_id == 999999) |\n",
    "           (places.county_id == 999) |\n",
    "           (places.state_id == 99), '_full_tract_id'] = np.nan"
   ]
  },
  {
   "cell_type": "code",
   "execution_count": 43,
   "metadata": {
    "collapsed": false
   },
   "outputs": [
    {
     "name": "stdout",
     "output_type": "stream",
     "text": [
      "9098\n",
      "14194\n"
     ]
    }
   ],
   "source": [
    "print(places._full_tract_id.drop_duplicates().shape[0])\n",
    "print(places[['_full_tract_id', 'city']].drop_duplicates().shape[0])"
   ]
  },
  {
   "cell_type": "code",
   "execution_count": 44,
   "metadata": {
    "collapsed": false
   },
   "outputs": [
    {
     "data": {
      "text/plain": [
       "6115041100    14\n",
       "6091010000    12\n",
       "6027000800    11\n",
       "6107000100    10\n",
       "6097154303    10\n",
       "Name: _full_tract_id, dtype: int64"
      ]
     },
     "execution_count": 44,
     "metadata": {},
     "output_type": "execute_result"
    }
   ],
   "source": [
    "places[['_full_tract_id', 'city']].drop_duplicates().\\\n",
    "        _full_tract_id.value_counts().head(5)"
   ]
  },
  {
   "cell_type": "code",
   "execution_count": 45,
   "metadata": {
    "collapsed": false
   },
   "outputs": [
    {
     "name": "stdout",
     "output_type": "stream",
     "text": [
      "        _full_tract_id                   city\n",
      "3238        6115041100            BROWNSVILLE\n",
      "18952       6115041100             MARYSVILLE\n",
      "33913       6115041100         NORTH SAN JUAN\n",
      "44697       6115041100                DOBBINS\n",
      "44705       6115041100                   YUBA\n",
      "100194      6115041100                 BANGOR\n",
      "160254      6115041100           CAMPTONVILLE\n",
      "178724      6115041100      STRAWBERRY VALLEY\n",
      "271235      6115041100  CHALLENGE-BROWNSVILLE\n",
      "271250      6115041100           OREGON HOUSE\n",
      "300021      6115041100             FORBESTOWN\n",
      "317626      6115041100   CHALLENGE-BROWNSVILL\n",
      "402446      6115041100          BROWNS VALLEY\n",
      "403959      6115041100               RACKERBY\n"
     ]
    }
   ],
   "source": [
    "print(places[['_full_tract_id', 'city']].drop_duplicates().\\\n",
    "        loc[places._full_tract_id == 6115041100])"
   ]
  },
  {
   "cell_type": "markdown",
   "metadata": {
    "collapsed": true
   },
   "source": [
    "So, there are still many census tracts that correspond to more than one city. I think we probably just want to use the census tracts as our unit of analysis. \n",
    "\n",
    "For descriptive purposes we can map each census tract to its most common corresponding city."
   ]
  },
  {
   "cell_type": "code",
   "execution_count": 46,
   "metadata": {
    "collapsed": false
   },
   "outputs": [
    {
     "name": "stdout",
     "output_type": "stream",
     "text": [
      "                      city\n",
      "_full_tract_id            \n",
      "1015000800        ANNISTON\n",
      "1101001500      MONTGOMERY\n",
      "1161400100         SEVILLA\n",
      "2020001000       ANCHORAGE\n",
      "2020001100       ANCHORAGE\n"
     ]
    }
   ],
   "source": [
    "# Map each tract to its most common corresponding city\n",
    "\n",
    "tracts = places[['_full_tract_id', 'city']].groupby('_full_tract_id').\\\n",
    "        agg(lambda x:x.value_counts().index[0])\n",
    "    \n",
    "print(tracts.head())"
   ]
  },
  {
   "cell_type": "code",
   "execution_count": 47,
   "metadata": {
    "collapsed": false
   },
   "outputs": [
    {
     "name": "stdout",
     "output_type": "stream",
     "text": [
      "9098\n",
      "9097\n"
     ]
    }
   ],
   "source": [
    "print(places._full_tract_id.drop_duplicates().shape[0])\n",
    "print(tracts.shape[0])"
   ]
  },
  {
   "cell_type": "code",
   "execution_count": null,
   "metadata": {
    "collapsed": true
   },
   "outputs": [],
   "source": []
  },
  {
   "cell_type": "code",
   "execution_count": null,
   "metadata": {
    "collapsed": true
   },
   "outputs": [],
   "source": []
  },
  {
   "cell_type": "markdown",
   "metadata": {},
   "source": [
    "## Activities\n",
    "\n",
    "\"The activity reported is for a single travel day and contains the highest level of detail about the survey participants' travel purpose\" (data dictionary)\n",
    "\n",
    "So, there can be multiple \"activities\" at each \"place\" visited as part of a trip."
   ]
  },
  {
   "cell_type": "code",
   "execution_count": 48,
   "metadata": {
    "collapsed": false
   },
   "outputs": [
    {
     "data": {
      "text/plain": [
       "604711"
      ]
     },
     "execution_count": 48,
     "metadata": {},
     "output_type": "execute_result"
    }
   ],
   "source": [
    "activities = pd.read_csv(z.open('caltrans_full_survey/survey_activity.csv'), low_memory=False)\n",
    "\n",
    "len(activities)"
   ]
  },
  {
   "cell_type": "code",
   "execution_count": 49,
   "metadata": {
    "collapsed": false
   },
   "outputs": [
    {
     "data": {
      "text/plain": [
       "157011"
      ]
     },
     "execution_count": 49,
     "metadata": {},
     "output_type": "execute_result"
    }
   ],
   "source": [
    "# TO DO - fix to reflect households\n",
    "\n",
    "activities_ba = activities[activities.county_id.isin([1, 13, 41, 55, 75, 81, 85, 95, 97])]\n",
    "\n",
    "len(activities_ba)"
   ]
  },
  {
   "cell_type": "code",
   "execution_count": 50,
   "metadata": {
    "collapsed": false
   },
   "outputs": [
    {
     "name": "stdout",
     "output_type": "stream",
     "text": [
      "     sampno  perno  plano  actno  tripno\n",
      "1   1041766      3      1      1     nan\n",
      "4   1051203      1      9      1       8\n",
      "8   1065929      1      1      1     nan\n",
      "14  1097949      1      1      1     nan\n",
      "22  1124271      1      5      1       4\n",
      "27  1126030      2      1      1     nan\n",
      "30  1127449      2      1      1     nan\n",
      "32  1127626      1      1      1     nan\n",
      "35  1128657      1      1      1     nan\n",
      "37  1129482      1      1      1     nan\n"
     ]
    }
   ],
   "source": [
    "# What do the identifiers look like? \n",
    "\n",
    "print(activities_ba[['sampno', 'perno', 'plano', 'actno', 'tripno']].head(10))"
   ]
  },
  {
   "cell_type": "code",
   "execution_count": 51,
   "metadata": {
    "collapsed": false
   },
   "outputs": [
    {
     "name": "stdout",
     "output_type": "stream",
     "text": [
      "118271\n",
      "118271\n",
      "117345\n"
     ]
    }
   ],
   "source": [
    "# Each place occurs in the activities table at least once\n",
    "\n",
    "print((activities_ba.actno == 1).sum())  # number of activities with id 1\n",
    "\n",
    "print(len(activities_ba.groupby(['sampno', 'perno', 'plano'])))  # unique places referenced\n",
    "\n",
    "print(len(places_ba))  # records in places table"
   ]
  },
  {
   "cell_type": "code",
   "execution_count": 52,
   "metadata": {
    "collapsed": false
   },
   "outputs": [
    {
     "data": {
      "text/plain": [
       "count    604711\n",
       "mean    2624572\n",
       "std     1695612\n",
       "min     1031985\n",
       "25%     1662824\n",
       "50%     1979173\n",
       "75%     2797238\n",
       "max     7212388\n",
       "Name: sampno, dtype: float64"
      ]
     },
     "execution_count": 52,
     "metadata": {},
     "output_type": "execute_result"
    }
   ],
   "source": [
    "activities.sampno.describe()"
   ]
  },
  {
   "cell_type": "code",
   "execution_count": 53,
   "metadata": {
    "collapsed": false
   },
   "outputs": [
    {
     "data": {
      "text/plain": [
       "count   604711\n",
       "mean         2\n",
       "std          1\n",
       "min          1\n",
       "25%          1\n",
       "50%          2\n",
       "75%          3\n",
       "max          8\n",
       "Name: perno, dtype: float64"
      ]
     },
     "execution_count": 53,
     "metadata": {},
     "output_type": "execute_result"
    }
   ],
   "source": [
    "activities.perno.describe()"
   ]
  },
  {
   "cell_type": "code",
   "execution_count": 54,
   "metadata": {
    "collapsed": false
   },
   "outputs": [
    {
     "data": {
      "text/plain": [
       "count   604711\n",
       "mean         3\n",
       "std          3\n",
       "min          1\n",
       "25%          1\n",
       "50%          3\n",
       "75%          5\n",
       "max         34\n",
       "Name: plano, dtype: float64"
      ]
     },
     "execution_count": 54,
     "metadata": {},
     "output_type": "execute_result"
    }
   ],
   "source": [
    "activities.plano.describe()"
   ]
  },
  {
   "cell_type": "code",
   "execution_count": null,
   "metadata": {
    "collapsed": true
   },
   "outputs": [],
   "source": []
  },
  {
   "cell_type": "markdown",
   "metadata": {},
   "source": [
    "## Trips\n",
    "\n",
    "What's the correct way to aggregate places into trips?\n",
    "\n",
    "It seems like each person recorded their travel for a single day as a sequence of places visited, without explicit classification into trips or tours. So that's up to us to do by applying whatever rules seem appropriate. \n",
    "\n",
    "Probably it's not even possible to identify tours with certainty from the anonymized data, because the place names and precise locations are redacted."
   ]
  },
  {
   "cell_type": "code",
   "execution_count": 55,
   "metadata": {
    "collapsed": false
   },
   "outputs": [
    {
     "data": {
      "text/plain": [
       "sampno   perno\n",
       "1031985  1         3\n",
       "         2         3\n",
       "1033944  1        16\n",
       "1035274  1         8\n",
       "         2         6\n",
       "1037952  1         3\n",
       "         2         1\n",
       "1039620  1         5\n",
       "         2         5\n",
       "1041076  1         4\n",
       "Name: plano, dtype: int64"
      ]
     },
     "execution_count": 55,
     "metadata": {},
     "output_type": "execute_result"
    }
   ],
   "source": [
    "# Dig into `tripno` some more\n",
    "\n",
    "places_ba.groupby(['sampno', 'perno']).plano.max().head(10)"
   ]
  },
  {
   "cell_type": "code",
   "execution_count": 56,
   "metadata": {
    "collapsed": false
   },
   "outputs": [
    {
     "data": {
      "text/plain": [
       "count   19512\n",
       "mean        1\n",
       "std         0\n",
       "min         1\n",
       "25%         1\n",
       "50%         1\n",
       "75%         1\n",
       "max         1\n",
       "dtype: float64"
      ]
     },
     "execution_count": 56,
     "metadata": {},
     "output_type": "execute_result"
    }
   ],
   "source": [
    "# Do any respondents have multiple trip sequences? -- No!\n",
    "\n",
    "plano_counts = places_ba.groupby(['sampno', 'perno']).plano.max()\n",
    "tripno_counts = places_ba.groupby(['sampno', 'perno']).tripno.max()\n",
    "\n",
    "(plano_counts - tripno_counts).describe()"
   ]
  },
  {
   "cell_type": "code",
   "execution_count": 57,
   "metadata": {
    "collapsed": false
   },
   "outputs": [
    {
     "data": {
      "text/plain": [
       "count   93406\n",
       "mean        1\n",
       "std         0\n",
       "min         1\n",
       "25%         1\n",
       "50%         1\n",
       "75%         1\n",
       "max         1\n",
       "dtype: float64"
      ]
     },
     "execution_count": 57,
     "metadata": {},
     "output_type": "execute_result"
    }
   ],
   "source": [
    "(places_ba.plano - places_ba.tripno).describe()"
   ]
  },
  {
   "cell_type": "code",
   "execution_count": 58,
   "metadata": {
    "collapsed": false
   },
   "outputs": [
    {
     "data": {
      "text/html": [
       "<div>\n",
       "<style>\n",
       "    .dataframe thead tr:only-child th {\n",
       "        text-align: right;\n",
       "    }\n",
       "\n",
       "    .dataframe thead th {\n",
       "        text-align: left;\n",
       "    }\n",
       "\n",
       "    .dataframe tbody tr th {\n",
       "        vertical-align: top;\n",
       "    }\n",
       "</style>\n",
       "<table border=\"1\" class=\"dataframe\">\n",
       "  <thead>\n",
       "    <tr style=\"text-align: right;\">\n",
       "      <th></th>\n",
       "      <th>travel_date</th>\n",
       "      <th>arr_time</th>\n",
       "      <th>dep_time</th>\n",
       "      <th>tract_id</th>\n",
       "      <th>city</th>\n",
       "      <th>mode</th>\n",
       "      <th>trip_distance_miles</th>\n",
       "      <th>prev_trip_duration_min</th>\n",
       "      <th>act_dur</th>\n",
       "    </tr>\n",
       "  </thead>\n",
       "  <tbody>\n",
       "    <tr>\n",
       "      <th>152</th>\n",
       "      <td>2012-07-17</td>\n",
       "      <td>03:00:00</td>\n",
       "      <td>10:00:00</td>\n",
       "      <td>509000</td>\n",
       "      <td>SUNNYVALE</td>\n",
       "      <td>nan</td>\n",
       "      <td>nan</td>\n",
       "      <td>nan</td>\n",
       "      <td>425</td>\n",
       "    </tr>\n",
       "    <tr>\n",
       "      <th>153</th>\n",
       "      <td>2012-07-17</td>\n",
       "      <td>10:00:00</td>\n",
       "      <td>10:00:00</td>\n",
       "      <td>509000</td>\n",
       "      <td>SUNNYVALE</td>\n",
       "      <td>5</td>\n",
       "      <td>1</td>\n",
       "      <td>10</td>\n",
       "      <td>30</td>\n",
       "    </tr>\n",
       "    <tr>\n",
       "      <th>154</th>\n",
       "      <td>2012-07-17</td>\n",
       "      <td>11:00:00</td>\n",
       "      <td>11:00:00</td>\n",
       "      <td>508504</td>\n",
       "      <td>SUNNYVALE</td>\n",
       "      <td>5</td>\n",
       "      <td>2</td>\n",
       "      <td>15</td>\n",
       "      <td>1</td>\n",
       "    </tr>\n",
       "    <tr>\n",
       "      <th>155</th>\n",
       "      <td>2012-07-17</td>\n",
       "      <td>11:00:00</td>\n",
       "      <td>11:00:00</td>\n",
       "      <td>508504</td>\n",
       "      <td>SUNNYVALE</td>\n",
       "      <td>1</td>\n",
       "      <td>0</td>\n",
       "      <td>5</td>\n",
       "      <td>9</td>\n",
       "    </tr>\n",
       "    <tr>\n",
       "      <th>156</th>\n",
       "      <td>2012-07-17</td>\n",
       "      <td>11:00:00</td>\n",
       "      <td>13:00:00</td>\n",
       "      <td>508504</td>\n",
       "      <td>SUNNYVALE</td>\n",
       "      <td>1</td>\n",
       "      <td>0</td>\n",
       "      <td>5</td>\n",
       "      <td>105</td>\n",
       "    </tr>\n",
       "    <tr>\n",
       "      <th>157</th>\n",
       "      <td>2012-07-17</td>\n",
       "      <td>13:00:00</td>\n",
       "      <td>14:00:00</td>\n",
       "      <td>509000</td>\n",
       "      <td>SUNNYVALE</td>\n",
       "      <td>5</td>\n",
       "      <td>2</td>\n",
       "      <td>10</td>\n",
       "      <td>60</td>\n",
       "    </tr>\n",
       "    <tr>\n",
       "      <th>158</th>\n",
       "      <td>2012-07-17</td>\n",
       "      <td>14:00:00</td>\n",
       "      <td>15:00:00</td>\n",
       "      <td>500100</td>\n",
       "      <td>SAN JOSE</td>\n",
       "      <td>5</td>\n",
       "      <td>8</td>\n",
       "      <td>20</td>\n",
       "      <td>25</td>\n",
       "    </tr>\n",
       "    <tr>\n",
       "      <th>159</th>\n",
       "      <td>2012-07-17</td>\n",
       "      <td>15:00:00</td>\n",
       "      <td>02:00:00</td>\n",
       "      <td>509000</td>\n",
       "      <td>SUNNYVALE</td>\n",
       "      <td>5</td>\n",
       "      <td>9</td>\n",
       "      <td>20</td>\n",
       "      <td>699</td>\n",
       "    </tr>\n",
       "  </tbody>\n",
       "</table>\n",
       "</div>"
      ],
      "text/plain": [
       "    travel_date  arr_time  dep_time  tract_id       city  mode  \\\n",
       "152  2012-07-17  03:00:00  10:00:00    509000  SUNNYVALE   nan   \n",
       "153  2012-07-17  10:00:00  10:00:00    509000  SUNNYVALE     5   \n",
       "154  2012-07-17  11:00:00  11:00:00    508504  SUNNYVALE     5   \n",
       "155  2012-07-17  11:00:00  11:00:00    508504  SUNNYVALE     1   \n",
       "156  2012-07-17  11:00:00  13:00:00    508504  SUNNYVALE     1   \n",
       "157  2012-07-17  13:00:00  14:00:00    509000  SUNNYVALE     5   \n",
       "158  2012-07-17  14:00:00  15:00:00    500100   SAN JOSE     5   \n",
       "159  2012-07-17  15:00:00  02:00:00    509000  SUNNYVALE     5   \n",
       "\n",
       "     trip_distance_miles  prev_trip_duration_min  act_dur  \n",
       "152                  nan                     nan      425  \n",
       "153                    1                      10       30  \n",
       "154                    2                      15        1  \n",
       "155                    0                       5        9  \n",
       "156                    0                       5      105  \n",
       "157                    2                      10       60  \n",
       "158                    8                      20       25  \n",
       "159                    9                      20      699  "
      ]
     },
     "execution_count": 58,
     "metadata": {},
     "output_type": "execute_result"
    }
   ],
   "source": [
    "# What does a sequence of places look like?\n",
    "\n",
    "varlist = ['travel_date', 'arr_time', 'dep_time', 'tract_id', 'city', 'mode', \n",
    "           'trip_distance_miles', 'prev_trip_duration_min', 'act_dur']\n",
    "\n",
    "places_ba.loc[(places_ba.sampno == 1035274) & (places_ba.perno == 1), varlist]"
   ]
  },
  {
   "cell_type": "markdown",
   "metadata": {},
   "source": [
    "So, it looks like the key to identifying trip/tour semantics involves looking at the trip purposes in the activities table. Transfers are noted as a particular purpose, and those trip legs need to be aggregated together. \n",
    "\n",
    "The first and last activities of the day probably take place at home, but we can't verify using the public data.\n",
    "\n",
    "It looks like the arrival and departure times, and trip durations, are approximate based on people's recollections, but distances are precise because they come from the Google Maps interface."
   ]
  },
  {
   "cell_type": "code",
   "execution_count": null,
   "metadata": {
    "collapsed": true
   },
   "outputs": [],
   "source": []
  },
  {
   "cell_type": "markdown",
   "metadata": {},
   "source": [
    "## Travel modes"
   ]
  },
  {
   "cell_type": "code",
   "execution_count": 59,
   "metadata": {
    "collapsed": false
   },
   "outputs": [
    {
     "data": {
      "text/plain": [
       "5     50139\n",
       "6     18632\n",
       "1     15924\n",
       "2      2244\n",
       "15     1635\n",
       "24     1444\n",
       "7       566\n",
       "26      459\n",
       "8       299\n",
       "25      293\n",
       "Name: mode, dtype: int64"
      ]
     },
     "execution_count": 59,
     "metadata": {},
     "output_type": "execute_result"
    }
   ],
   "source": [
    "# What are the travel modes?\n",
    "\n",
    "places_ba['mode'].value_counts().head(10)"
   ]
  },
  {
   "cell_type": "markdown",
   "metadata": {},
   "source": [
    "FROM DATA DICTIONARY\n",
    "\n",
    "Travel mode:\n",
    "\n",
    "- 1- Walk; \n",
    "- 2- Bike; \n",
    "- 3- Wheelchair/mobility scooter; \n",
    "- 4- Other non-motorized; \n",
    "- 5- Auto/van/truck driver; \n",
    "- 6- Auto/van/truck passenger; \n",
    "- 7- Carpool/vanpool; \n",
    "- 8- Motorcycle/scooter/moped; \n",
    "- 9- Taxi/hired car/limo; \n",
    "- 10- Rental car/vehicle; \n",
    "- 11- Private shuttle (Super shuttle, employer, hotel, etc.); \n",
    "- 12- Greyhound bus; \n",
    "- 13- Plane; \n",
    "- 14- Other private transit; \n",
    "- 15- Local bus, rapid bus; \n",
    "- 16- Express bus/commuter bus (AC Transbay, Golden Gate Transit, etc.); \n",
    "- 17- Premium bus (Metro Orange/Silver Line); \n",
    "- 18- School bus; \n",
    "- 19- Public transit shuttle (DASH, Emery Go Round, etc.); \n",
    "- 20- AirBART/LAX FlyAway; \n",
    "- 21- Dial-a-ride/paratransit (access services, etc.); \n",
    "- 22- Amtrak bus; \n",
    "- 23- Other bus; \n",
    "- 24- BART, Metro Red/Purple Line; \n",
    "- 25- ACE, Amtrak, Cal- train, Coaster, Metrolink; \n",
    "- 26- Metro Blue/Green/Gold Line, Muni Metro, Sacramento Light Rail, San Diego Sprinter/Trolley/Orange/ Blue/Green, VTA light rail; \n",
    "- 27- Streetcar/cable car, \n",
    "- 28- Other rail; \n",
    "- 29- Ferry/boat; \n",
    "- 99- RF"
   ]
  },
  {
   "cell_type": "code",
   "execution_count": null,
   "metadata": {
    "collapsed": true
   },
   "outputs": [],
   "source": []
  },
  {
   "cell_type": "markdown",
   "metadata": {},
   "source": [
    "## Trip purposes"
   ]
  },
  {
   "cell_type": "code",
   "execution_count": 60,
   "metadata": {
    "collapsed": false
   },
   "outputs": [
    {
     "data": {
      "text/plain": [
       "1     47241\n",
       "2     16700\n",
       "21     9523\n",
       "9      9151\n",
       "27     8583\n",
       "22     7250\n",
       "8      6151\n",
       "7      5792\n",
       "37     5040\n",
       "31     4737\n",
       "39     3484\n",
       "17     3105\n",
       "25     3039\n",
       "34     2701\n",
       "29     2541\n",
       "Name: purpose, dtype: int64"
      ]
     },
     "execution_count": 60,
     "metadata": {},
     "output_type": "execute_result"
    }
   ],
   "source": [
    "# What are the trip purposes?\n",
    "\n",
    "activities_ba.purpose.value_counts().head(15)"
   ]
  },
  {
   "cell_type": "markdown",
   "metadata": {
    "collapsed": true
   },
   "source": [
    "FROM DATA DICTIONARY\n",
    "\n",
    "[Somewhere there's a `ptype` key indicating categories of purposes, probably based on the home/ work/ school locations, but I can't find it in these data tables.]\n",
    "\n",
    "Activity purpose: \n",
    "\n",
    "[These look like activities at home]\n",
    "\n",
    "- 1- Personal activities (sleeping, personal care, leisure, chores); \n",
    "- 2- Preparing meals/eating; \n",
    "- 3- Hosting visitors/entertaining guests; \n",
    "- 4- Exercise (with or without equipment)/playing sports; \n",
    "- 5- Study/schoolwork; \n",
    "- 6- Work for pay at home using telecommunications equipment; \n",
    "- 7- Using computer/telephone/cell or smart phone, or other communications device for personal activities; \n",
    "- 8- All other activities at home; \n",
    "\n",
    "[These look like activites at work]\n",
    "\n",
    "- 9- Work/job duties; \n",
    "- 10- Training; \n",
    "- 11- Meals at work; \n",
    "- 12- Work-sponsored social activities (holiday/birthday celebrations, etc.); \n",
    "- 13- Non-work-related activities (social clubs, etc.); \n",
    "- 14- Exercise/sports; \n",
    "- 15- Volunteer work/activities, \n",
    "- 16- All other work- related activities at work; \n",
    "\n",
    "[These look like activities at school]\n",
    "\n",
    "- 17- School/classroom/ laboratory; \n",
    "- 18- Meals at school/college; \n",
    "- 19- After-school or non-class-related sports/physical activities; \n",
    "- 20- All other after-school or non-class-related activities (library, music rehearsal, clubs, etc.); \n",
    "\n",
    "[These look like transport-related]\n",
    "\n",
    "- 21- Change type of transportation/transfer (walk to bus, walk to/from parked car); \n",
    "- 22- pick up/drop off passenger(s); \n",
    "\n",
    "[These look like activities at non-home, non-work, non-school locations]\n",
    "\n",
    "- 23- Drive-through meals (snacks, coffee, etc.) (show if PTYPE <> 1 [Home]); \n",
    "- 24- Drive-through other (ATM, bank, etc.) (show if PTYPE <> 1); \n",
    "- 25- Work-related (meetings, sales calls, deliveries); \n",
    "- 26- Service private vehicle (gas, oil, lubes, repairs), \n",
    "- 27- Routine shopping (groceries, clothing, convenience store, household maintenance, etc.); \n",
    "- 28- Shopping for major purchases or specialty items (appliance, electronics, new vehicles, major household repairs, etc.); \n",
    "- 29- Household errands (bank, dry cleaning, etc.); \n",
    "- 30- Personal business (visit government office, attorney, accountant, etc.); \n",
    "- 31- Eat meal at restaurant/diner; \n",
    "- 32- Health care (doctor, dentist, eye care, chiropractor, veterinarian, etc.); \n",
    "- 33- Civic/ religious activities; \n",
    "- 34- Outdoor exercise (outdoor sports, jogging, bicycling, walking the dog, etc.); \n",
    "- 35- Indoor exercise (gym, yoga, etc.); \n",
    "- 36- Entertainment (movies, sporting events, etc.); \n",
    "- 37- Social/visiting friends and relatives; \n",
    "- 38- Other (specify), \n",
    "\n",
    "[Misc]\n",
    "\n",
    "- 39- Loop trip (for interviewer only- not listed on diary), \n",
    "- 99- DK/RF"
   ]
  },
  {
   "cell_type": "code",
   "execution_count": null,
   "metadata": {
    "collapsed": true
   },
   "outputs": [],
   "source": []
  },
  {
   "cell_type": "code",
   "execution_count": null,
   "metadata": {
    "collapsed": true
   },
   "outputs": [],
   "source": []
  },
  {
   "cell_type": "code",
   "execution_count": null,
   "metadata": {
    "collapsed": true
   },
   "outputs": [],
   "source": []
  }
 ],
 "metadata": {
  "kernelspec": {
   "display_name": "Python 3",
   "language": "python",
   "name": "python3"
  },
  "language_info": {
   "codemirror_mode": {
    "name": "ipython",
    "version": 3
   },
   "file_extension": ".py",
   "mimetype": "text/x-python",
   "name": "python",
   "nbconvert_exporter": "python",
   "pygments_lexer": "ipython3",
   "version": "3.6.0"
  }
 },
 "nbformat": 4,
 "nbformat_minor": 2
}
