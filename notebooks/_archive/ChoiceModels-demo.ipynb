{
 "cells": [
  {
   "cell_type": "markdown",
   "metadata": {},
   "source": [
    "## ChoiceModels usage demo\n",
    "\n",
    "Sam Maurer, October 10, 2016"
   ]
  },
  {
   "cell_type": "code",
   "execution_count": 2,
   "metadata": {
    "collapsed": true
   },
   "outputs": [],
   "source": [
    "%load_ext autoreload\n",
    "%aimport choicemodels\n",
    "%autoreload 1"
   ]
  },
  {
   "cell_type": "code",
   "execution_count": 3,
   "metadata": {
    "collapsed": false
   },
   "outputs": [],
   "source": [
    "import choicemodels\n",
    "import numpy as np\n",
    "import pandas as pd\n",
    "from collections import OrderedDict"
   ]
  },
  {
   "cell_type": "markdown",
   "metadata": {},
   "source": [
    "### Binary Logit"
   ]
  },
  {
   "cell_type": "code",
   "execution_count": 3,
   "metadata": {
    "collapsed": true
   },
   "outputs": [],
   "source": [
    "# Set up estimation data\n",
    "\n",
    "endog = np.random.randint(2, size=50)  # 50x1 vector of random 0's and 1's\n",
    "exog = np.random.rand(50, 5)  # 50x5 matrix of random floats"
   ]
  },
  {
   "cell_type": "code",
   "execution_count": 4,
   "metadata": {
    "collapsed": false
   },
   "outputs": [
    {
     "name": "stdout",
     "output_type": "stream",
     "text": [
      "Optimization terminated successfully.\n",
      "         Current function value: 0.635509\n",
      "         Iterations 5\n"
     ]
    }
   ],
   "source": [
    "# Estimate a model\n",
    "\n",
    "m = choicemodels.Logit(endog, exog)\n",
    "results = m.fit()"
   ]
  },
  {
   "cell_type": "code",
   "execution_count": 5,
   "metadata": {
    "collapsed": false
   },
   "outputs": [
    {
     "name": "stdout",
     "output_type": "stream",
     "text": [
      "                           Logit Regression Results                           \n",
      "==============================================================================\n",
      "Dep. Variable:                      y   No. Observations:                   50\n",
      "Model:                          Logit   Df Residuals:                       45\n",
      "Method:                           MLE   Df Model:                            4\n",
      "Date:                Fri, 07 Oct 2016   Pseudo R-squ.:                 0.07890\n",
      "Time:                        16:31:07   Log-Likelihood:                -31.775\n",
      "converged:                       True   LL-Null:                       -34.497\n",
      "                                        LLR p-value:                    0.2447\n",
      "==============================================================================\n",
      "                 coef    std err          z      P>|z|      [95.0% Conf. Int.]\n",
      "------------------------------------------------------------------------------\n",
      "x1             0.0305      0.899      0.034      0.973        -1.731     1.792\n",
      "x2             1.4040      0.977      1.436      0.151        -0.512     3.320\n",
      "x3            -2.2294      1.034     -2.156      0.031        -4.256    -0.202\n",
      "x4             0.0607      0.996      0.061      0.951        -1.892     2.013\n",
      "x5             0.5010      0.995      0.503      0.615        -1.450     2.452\n",
      "==============================================================================\n"
     ]
    }
   ],
   "source": [
    "# Show estimation results\n",
    "\n",
    "print(results.summary())"
   ]
  },
  {
   "cell_type": "code",
   "execution_count": null,
   "metadata": {
    "collapsed": true
   },
   "outputs": [],
   "source": []
  },
  {
   "cell_type": "markdown",
   "metadata": {},
   "source": [
    "### Multinomial Logit"
   ]
  },
  {
   "cell_type": "code",
   "execution_count": 4,
   "metadata": {
    "collapsed": false
   },
   "outputs": [],
   "source": [
    "# Load some real data\n",
    "\n",
    "path = '../../timothyb0912/pylogit/examples/data/swissmetro.dat'\n",
    "swissmetro = pd.read_table(path, sep='\\t')\n",
    "\n",
    "include = (swissmetro.PURPOSE.isin([1, 3]) & (swissmetro.CHOICE != 0))\n",
    "swissmetro = swissmetro.loc[include]"
   ]
  },
  {
   "cell_type": "code",
   "execution_count": null,
   "metadata": {
    "collapsed": false
   },
   "outputs": [],
   "source": [
    "swissmetro.describe()"
   ]
  },
  {
   "cell_type": "code",
   "execution_count": 5,
   "metadata": {
    "collapsed": false
   },
   "outputs": [
    {
     "name": "stderr",
     "output_type": "stream",
     "text": [
      "/Users/smmaurer/Dropbox/Git-rMBP/timothyb0912/pylogit/pylogit/choice_tools.py:431: UserWarning: Note, there are 29 variables in wide_data but the inputs ind_vars, alt_specific_vars, and subset_specific_vars only account for 28 variables.\n",
      "  msg_2 + msg_3.format(num_vars_accounted_for))\n"
     ]
    }
   ],
   "source": [
    "# Convert to long format\n",
    "\n",
    "ind_vars = swissmetro.columns.tolist()[:15]\n",
    "\n",
    "alt_varying_vars = {'travel_time': dict([(1, 'TRAIN_TT'), (2, 'SM_TT'), (3, 'CAR_TT')]),\n",
    "                    'travel_cost': dict([(1, 'TRAIN_CO'), (2, 'SM_CO'), (3, 'CAR_CO')]),\n",
    "                    'headway': dict([(1, 'TRAIN_HE'), (2, 'SM_HE')])}\n",
    "\n",
    "availability_vars = {1: 'TRAIN_AV', 2: 'SM_AV', 3: 'CAR_AV'}\n",
    "\n",
    "alt_id_col = 'mode_id'\n",
    "\n",
    "swissmetro['custom_id'] = np.arange(swissmetro.shape[0], dtype=int) + 1\n",
    "obs_id_col = 'custom_id'\n",
    "\n",
    "choice_col = 'CHOICE'\n",
    "\n",
    "data = choicemodels.convert_wide_to_long(swissmetro, ind_vars, alt_varying_vars, \n",
    "                availability_vars, obs_id_col, choice_col, new_alt_id_name=alt_id_col)"
   ]
  },
  {
   "cell_type": "code",
   "execution_count": null,
   "metadata": {
    "collapsed": false
   },
   "outputs": [],
   "source": [
    "data.describe()"
   ]
  },
  {
   "cell_type": "code",
   "execution_count": 8,
   "metadata": {
    "collapsed": false
   },
   "outputs": [],
   "source": [
    "# Rescale variables\n",
    "\n",
    "data[\"travel_time_hrs\"] = data[\"travel_time\"] / 60.0\n",
    "data[\"headway_hrs\"] = data[\"headway\"] / 60.0\n",
    "data[\"travel_cost_scaled\"] = data[\"travel_cost\"] / 100.0"
   ]
  },
  {
   "cell_type": "code",
   "execution_count": 9,
   "metadata": {
    "collapsed": false
   },
   "outputs": [],
   "source": [
    "# Set up specification\n",
    "\n",
    "spec = OrderedDict()\n",
    "labels = OrderedDict()\n",
    "\n",
    "spec[\"intercept\"] = [1, 2]\n",
    "labels[\"intercept\"] = ['ASC Train', 'ASC Swissmetro']\n",
    "\n",
    "spec[\"travel_time_hrs\"] = [[1, 2,], 3]\n",
    "labels[\"travel_time_hrs\"] = ['Travel Time (Train/SM)', 'Travel Time (Car)']\n",
    "\n",
    "spec[\"travel_cost_scaled\"] = [1, 2, 3]\n",
    "labels[\"travel_cost_scaled\"] = ['Travel Cost (Train)', 'Travel Cost (Swissmetro)', \n",
    "                                'Travel Cost (Car)']\n",
    "\n",
    "spec[\"headway_hrs\"] = [1, 2]\n",
    "labels[\"headway_hrs\"] = [\"Headway (Train)\", \"Headway (Swissmetro)\"]"
   ]
  },
  {
   "cell_type": "code",
   "execution_count": 10,
   "metadata": {
    "collapsed": false
   },
   "outputs": [
    {
     "name": "stdout",
     "output_type": "stream",
     "text": [
      "Log-likelihood at zero: -6,964.6630\n",
      "Initial Log-likelihood: -6,964.6630\n",
      "Estimation Time: 0.09 seconds.\n",
      "Final log-likelihood: -5,359.1984\n"
     ]
    },
    {
     "name": "stderr",
     "output_type": "stream",
     "text": [
      "/Users/smmaurer/anaconda/lib/python2.7/site-packages/scipy/optimize/_minimize.py:385: RuntimeWarning: Method BFGS does not use Hessian information (hess).\n",
      "  RuntimeWarning)\n"
     ]
    }
   ],
   "source": [
    "# Set up and estimate the model\n",
    "\n",
    "m = choicemodels.MNLogit(data, alt_id_col, obs_id_col, choice_col, spec, names=labels)\n",
    "\n",
    "results = m.fit_mle(np.zeros(9))"
   ]
  },
  {
   "cell_type": "code",
   "execution_count": 11,
   "metadata": {
    "collapsed": false
   },
   "outputs": [
    {
     "name": "stdout",
     "output_type": "stream",
     "text": [
      "                     Multinomial Logit Model Regression Results                    \n",
      "===================================================================================\n",
      "Dep. Variable:                      CHOICE   No. Observations:                6,768\n",
      "Model:             Multinomial Logit Model   Df Residuals:                    6,759\n",
      "Method:                                MLE   Df Model:                            9\n",
      "Date:                     Fri, 07 Oct 2016   Pseudo R-squ.:                   0.231\n",
      "Time:                             16:31:26   Pseudo R-bar-squ.:               0.229\n",
      "converged:                           False   Log-Likelihood:             -5,359.198\n",
      "                                             LL-Null:                    -6,964.663\n",
      "============================================================================================\n",
      "                               coef    std err          z      P>|z|      [95.0% Conf. Int.]\n",
      "--------------------------------------------------------------------------------------------\n",
      "ASC Train                   -0.4710      0.128     -3.674      0.000        -0.722    -0.220\n",
      "ASC Swissmetro               0.2597      0.104      2.504      0.012         0.056     0.463\n",
      "Travel Time (Train/SM)      -0.7459      0.041    -18.011      0.000        -0.827    -0.665\n",
      "Travel Time (Car)           -0.5572      0.043    -13.065      0.000        -0.641    -0.474\n",
      "Travel Cost (Train)          0.0637      0.004     14.386      0.000         0.055     0.072\n",
      "Travel Cost (Swissmetro)     0.0096      0.003      2.969      0.003         0.003     0.016\n",
      "Travel Cost (Car)           -0.2327      0.091     -2.546      0.011        -0.412    -0.054\n",
      "Headway (Train)             -0.3592      0.064     -5.590      0.000        -0.485    -0.233\n",
      "Headway (Swissmetro)        -0.4353      0.192     -2.265      0.023        -0.812    -0.059\n",
      "============================================================================================\n"
     ]
    }
   ],
   "source": [
    "# Show results\n",
    "\n",
    "print(results.summary())"
   ]
  },
  {
   "cell_type": "code",
   "execution_count": null,
   "metadata": {
    "collapsed": true
   },
   "outputs": [],
   "source": []
  },
  {
   "cell_type": "markdown",
   "metadata": {
    "collapsed": true
   },
   "source": [
    "### Alternate syntax for setting up a multinomial specification\n",
    "\n",
    "This section is speculative -- not yet implemented!"
   ]
  },
  {
   "cell_type": "code",
   "execution_count": null,
   "metadata": {
    "collapsed": true
   },
   "outputs": [],
   "source": [
    "# StatsModels allows the following syntax:\n",
    "\n",
    "spec = 'outcome ~ const + var1 + np.log(var2)'\n",
    "\n",
    "m = choicemodels.Logit.from_formula(spec, data)\n",
    "results = m.fit_mle()"
   ]
  },
  {
   "cell_type": "code",
   "execution_count": null,
   "metadata": {
    "collapsed": true
   },
   "outputs": [],
   "source": [
    "# It would be nice to enable something similar for multinomial models,\n",
    "# so that the user interface follows the utility functions more closely\n",
    "\n",
    "spec = {\n",
    "    '1': 'choice ~ ASC_t + btt * time_t/60 + bct * cost_t/100 + bht * headway_t/60',\n",
    "    \n",
    "    '2': 'choice ~ ASC_sm + btt * time_sm/60 + bcs * cost_sm/100 + bhs * headway_sm/60',\n",
    "    \n",
    "    '3': 'choice ~ btc * time_c/60 + bcc * cost_c/100' }\n",
    "\n",
    "labels: {\n",
    "    'ASC_t': \"ASC Train\",\n",
    "    'ASC_sm': \"ASC Swissmetro\", \n",
    "    'btt': \"Travel Time (Train/SM)\", \n",
    "    'btc': \"Travel Time (Car)\", \n",
    "    'bct': \"Travel Cost (Train)\", \n",
    "    'bcs': \"Travel Cost (Swissmetro)\", \n",
    "    'bht': \"Headway (Train)\", \n",
    "    'bhs': \"Headway (Swissmetro)\", }\n",
    "\n",
    "m = choicemodels.MNL.from_formula(spec, data, alt_id_col)\n",
    "results = m.fit_mle()"
   ]
  },
  {
   "cell_type": "code",
   "execution_count": null,
   "metadata": {
    "collapsed": true
   },
   "outputs": [],
   "source": []
  },
  {
   "cell_type": "code",
   "execution_count": null,
   "metadata": {
    "collapsed": true
   },
   "outputs": [],
   "source": []
  },
  {
   "cell_type": "code",
   "execution_count": null,
   "metadata": {
    "collapsed": true
   },
   "outputs": [],
   "source": []
  },
  {
   "cell_type": "code",
   "execution_count": null,
   "metadata": {
    "collapsed": true
   },
   "outputs": [],
   "source": []
  },
  {
   "cell_type": "code",
   "execution_count": null,
   "metadata": {
    "collapsed": true
   },
   "outputs": [],
   "source": []
  }
 ],
 "metadata": {
  "kernelspec": {
   "display_name": "Python 2",
   "language": "python",
   "name": "python2"
  },
  "language_info": {
   "codemirror_mode": {
    "name": "ipython",
    "version": 2
   },
   "file_extension": ".py",
   "mimetype": "text/x-python",
   "name": "python",
   "nbconvert_exporter": "python",
   "pygments_lexer": "ipython2",
   "version": "2.7.11"
  }
 },
 "nbformat": 4,
 "nbformat_minor": 0
}
