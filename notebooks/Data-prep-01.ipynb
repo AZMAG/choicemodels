{
 "cells": [
  {
   "cell_type": "markdown",
   "metadata": {},
   "source": [
    "# Data prep for estimating models\n",
    "\n",
    "Sam Maurer, June 2017\n",
    "\n",
    "Python 3.6"
   ]
  },
  {
   "cell_type": "code",
   "execution_count": 4,
   "metadata": {
    "collapsed": true
   },
   "outputs": [],
   "source": [
    "%matplotlib inline\n",
    "\n",
    "import matplotlib\n",
    "import pandas as pd\n",
    "import zipfile"
   ]
  },
  {
   "cell_type": "code",
   "execution_count": null,
   "metadata": {
    "collapsed": true
   },
   "outputs": [],
   "source": []
  },
  {
   "cell_type": "markdown",
   "metadata": {},
   "source": [
    "## Load raw CHTS tables\n",
    "\n",
    "This requires the file named caltrans_full_survey.zip. You can download it by following the instructions in the \"data\" directory."
   ]
  },
  {
   "cell_type": "code",
   "execution_count": 5,
   "metadata": {
    "collapsed": true
   },
   "outputs": [],
   "source": [
    "z = zipfile.ZipFile('../data/caltrans_full_survey.zip')"
   ]
  },
  {
   "cell_type": "code",
   "execution_count": 6,
   "metadata": {
    "collapsed": false
   },
   "outputs": [
    {
     "data": {
      "text/plain": [
       "42426"
      ]
     },
     "execution_count": 6,
     "metadata": {},
     "output_type": "execute_result"
    }
   ],
   "source": [
    "households = pd.read_csv(z.open('caltrans_full_survey/survey_households.csv'), low_memory=False)\n",
    "len(households)"
   ]
  },
  {
   "cell_type": "code",
   "execution_count": 7,
   "metadata": {
    "collapsed": false
   },
   "outputs": [
    {
     "data": {
      "text/plain": [
       "9715"
      ]
     },
     "execution_count": 7,
     "metadata": {},
     "output_type": "execute_result"
    }
   ],
   "source": [
    "# Limit to the Bay Area\n",
    "\n",
    "households_ba = households[households.home_county_id.isin([1, 13, 41, 55, 75, 81, 85, 95, 97])]\n",
    "len(households_ba)"
   ]
  },
  {
   "cell_type": "code",
   "execution_count": 8,
   "metadata": {
    "collapsed": false
   },
   "outputs": [
    {
     "data": {
      "text/plain": [
       "109113"
      ]
     },
     "execution_count": 8,
     "metadata": {},
     "output_type": "execute_result"
    }
   ],
   "source": [
    "persons = pd.read_csv(z.open('caltrans_full_survey/survey_person.csv'), low_memory=False)\n",
    "len(persons)"
   ]
  },
  {
   "cell_type": "code",
   "execution_count": 9,
   "metadata": {
    "collapsed": false
   },
   "outputs": [
    {
     "data": {
      "text/plain": [
       "460524"
      ]
     },
     "execution_count": 9,
     "metadata": {},
     "output_type": "execute_result"
    }
   ],
   "source": [
    "places = pd.read_csv(z.open('caltrans_full_survey/survey_place.csv'), low_memory=False)\n",
    "len(places)"
   ]
  },
  {
   "cell_type": "code",
   "execution_count": 10,
   "metadata": {
    "collapsed": false
   },
   "outputs": [
    {
     "data": {
      "text/plain": [
       "604711"
      ]
     },
     "execution_count": 10,
     "metadata": {},
     "output_type": "execute_result"
    }
   ],
   "source": [
    "activities = pd.read_csv(z.open('caltrans_full_survey/survey_activity.csv'), low_memory=False)\n",
    "len(activities)"
   ]
  },
  {
   "cell_type": "code",
   "execution_count": null,
   "metadata": {
    "collapsed": true
   },
   "outputs": [],
   "source": []
  },
  {
   "cell_type": "markdown",
   "metadata": {},
   "source": [
    "## Build table of census tracts\n",
    "\n",
    "Generate a table of census tracts in the 9-county Bay Area, for use in destination choice models.\n",
    "\n",
    "Calculate some covariates: residential density, school/employment density."
   ]
  },
  {
   "cell_type": "code",
   "execution_count": 33,
   "metadata": {
    "collapsed": false
   },
   "outputs": [],
   "source": [
    "# PROBLEM - this isn't going to work because all the tracts are about the same size\n",
    "\n",
    "# Residential density: number of CHTS respondents living in each census tract, weighted\n",
    "# by each household's sampling correction\n",
    "\n",
    "\n",
    "_count = households.groupby('home_tract_id').persons_count.sum()\n",
    "res_density = _count.rename('res_density').to_frame()"
   ]
  },
  {
   "cell_type": "code",
   "execution_count": 70,
   "metadata": {
    "collapsed": false
   },
   "outputs": [],
   "source": [
    "# Calculate the weighted persons count\n",
    "households['_weighted_persons_count'] = households.persons_count * households.hhwgt\n",
    "\n",
    "# Sum by census tract\n",
    "_sum = households.groupby('home_tract_id')._weighted_persons_count.sum()\n",
    "res_density = _sum.rename('res_density').to_frame()"
   ]
  },
  {
   "cell_type": "code",
   "execution_count": null,
   "metadata": {
    "collapsed": true
   },
   "outputs": [],
   "source": []
  },
  {
   "cell_type": "code",
   "execution_count": 64,
   "metadata": {
    "collapsed": false
   },
   "outputs": [
    {
     "data": {
      "text/plain": [
       "count    42421.000000\n",
       "mean         0.999955\n",
       "std          0.704667\n",
       "min          0.003498\n",
       "25%          0.447392\n",
       "50%          0.915924\n",
       "75%          1.376790\n",
       "max          5.400840\n",
       "Name: hhwgt, dtype: float64"
      ]
     },
     "execution_count": 64,
     "metadata": {},
     "output_type": "execute_result"
    }
   ],
   "source": [
    "households.hhwgt.describe()"
   ]
  },
  {
   "cell_type": "code",
   "execution_count": null,
   "metadata": {
    "collapsed": true
   },
   "outputs": [],
   "source": []
  },
  {
   "cell_type": "code",
   "execution_count": 59,
   "metadata": {
    "collapsed": false
   },
   "outputs": [],
   "source": [
    "city_key = households[['home_tract_id', 'home_city']].drop_duplicates().set_index('home_tract_id')"
   ]
  },
  {
   "cell_type": "code",
   "execution_count": 71,
   "metadata": {
    "collapsed": false
   },
   "outputs": [
    {
     "name": "stdout",
     "output_type": "stream",
     "text": [
      "               res_density         home_city\n",
      "home_tract_id                               \n",
      "6.065046e+09     92.550705           THERMAL\n",
      "6.065046e+09     92.550705             MECCA\n",
      "6.073017e+09     85.857617         SAN DIEGO\n",
      "6.073015e+09     85.855156           LA MESA\n",
      "6.019006e+09     82.998200         MIRAMONTE\n",
      "6.019006e+09     82.998200           REEDLEY\n",
      "6.019006e+09     82.998200      SQUAW VALLEY\n",
      "6.019006e+09     82.998200            SANGER\n",
      "6.019006e+09     82.998200            DUNLAP\n",
      "6.019006e+09     82.998200            FRESNO\n",
      "6.073010e+09     78.033191         SAN DIEGO\n",
      "6.073019e+09     77.991605             VISTA\n",
      "6.073020e+09     75.716906          CARLSBAD\n",
      "6.073012e+09     75.047587     NATIONAL CITY\n",
      "6.073020e+09     73.330748        SAN MARCOS\n",
      "6.073020e+09     73.330748          CARLSBAD\n",
      "6.037431e+09     69.550365      SIERRA MADRE\n",
      "6.037460e+09     67.705812          PASADENA\n",
      "6.037460e+09     67.705812          ALTADENA\n",
      "6.073020e+09     67.665465        SAN MARCOS\n",
      "6.099004e+09     66.843366            DENAIR\n",
      "6.099004e+09     66.843366           TURLOCK\n",
      "6.071009e+09     66.056206       VICTORVILLE\n",
      "6.071009e+09     65.632108       VICTORVILLE\n",
      "6.037199e+09     65.289049       LOS ANGELES\n",
      "6.073003e+09     64.838106         SAN DIEGO\n",
      "6.037920e+09     64.021379     SANTA CLARITA\n",
      "6.037920e+09     64.021379          VALENCIA\n",
      "6.067006e+09     63.487397        SACRAMENTO\n",
      "6.037600e+09     63.102620       LOS ANGELES\n",
      "6.059052e+09     62.893346    TRABUCO CANYON\n",
      "6.059052e+09     62.893346       LAKE FOREST\n",
      "6.073019e+09     61.666656         OCEANSIDE\n",
      "6.059052e+09     61.212101            IRVINE\n",
      "6.019006e+09     61.179482            SANGER\n",
      "6.071002e+09     60.625565  RANCHO CUCAMONGA\n",
      "6.037501e+09     59.927040          WHITTIER\n",
      "6.037402e+09     59.471540         CLAREMONT\n",
      "6.067009e+09     59.329140         ELK GROVE\n",
      "6.065031e+09     59.299968         RIVERSIDE\n",
      "6.059053e+09     59.233688            IRVINE\n",
      "6.067007e+09     59.109329         RIO LINDA\n",
      "6.067007e+09     59.109329           ELVERTA\n",
      "6.073003e+09     58.430681          MID-CITY\n",
      "6.073003e+09     58.430681         SAN DIEGO\n",
      "6.025011e+09     58.017284          IMPERIAL\n",
      "6.073012e+09     57.754670     NATIONAL CITY\n",
      "6.073021e+09     57.613236             CAMPO\n",
      "6.073021e+09     57.613236           DULZURA\n",
      "6.073021e+09     57.613236         BOULEVARD\n"
     ]
    }
   ],
   "source": [
    "# What does the ranking look like?\n",
    "\n",
    "_t = pd.merge(res_density, city_key, left_index=True, right_index=True)\n",
    "print(_t.sort_values('res_density', ascending=False).head(50))"
   ]
  },
  {
   "cell_type": "code",
   "execution_count": null,
   "metadata": {
    "collapsed": true
   },
   "outputs": [],
   "source": [
    "# Employment density: number of CHTS respondents with primary work location in each tract\n",
    "\n",
    "work_density = persons."
   ]
  },
  {
   "cell_type": "code",
   "execution_count": null,
   "metadata": {
    "collapsed": true
   },
   "outputs": [],
   "source": []
  },
  {
   "cell_type": "code",
   "execution_count": null,
   "metadata": {
    "collapsed": true
   },
   "outputs": [],
   "source": []
  },
  {
   "cell_type": "code",
   "execution_count": null,
   "metadata": {
    "collapsed": true
   },
   "outputs": [],
   "source": []
  },
  {
   "cell_type": "code",
   "execution_count": null,
   "metadata": {
    "collapsed": true
   },
   "outputs": [],
   "source": []
  },
  {
   "cell_type": "code",
   "execution_count": null,
   "metadata": {
    "collapsed": true
   },
   "outputs": [],
   "source": []
  }
 ],
 "metadata": {
  "kernelspec": {
   "display_name": "Python 3",
   "language": "python",
   "name": "python3"
  },
  "language_info": {
   "codemirror_mode": {
    "name": "ipython",
    "version": 3
   },
   "file_extension": ".py",
   "mimetype": "text/x-python",
   "name": "python",
   "nbconvert_exporter": "python",
   "pygments_lexer": "ipython3",
   "version": "3.6.0"
  }
 },
 "nbformat": 4,
 "nbformat_minor": 2
}
