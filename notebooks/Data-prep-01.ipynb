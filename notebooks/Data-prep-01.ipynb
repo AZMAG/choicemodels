{
 "cells": [
  {
   "cell_type": "markdown",
   "metadata": {},
   "source": [
    "# Data prep for estimating models\n",
    "\n",
    "Sam Maurer, June 2017\n",
    "\n",
    "Python 3.6"
   ]
  },
  {
   "cell_type": "code",
   "execution_count": 77,
   "metadata": {
    "collapsed": true
   },
   "outputs": [],
   "source": [
    "%matplotlib inline\n",
    "\n",
    "import matplotlib\n",
    "import numpy as np\n",
    "import pandas as pd\n",
    "import zipfile"
   ]
  },
  {
   "cell_type": "code",
   "execution_count": null,
   "metadata": {
    "collapsed": true
   },
   "outputs": [],
   "source": []
  },
  {
   "cell_type": "markdown",
   "metadata": {},
   "source": [
    "## Load raw CHTS tables\n",
    "\n",
    "This requires the file named caltrans_full_survey.zip. You can download it by following the instructions in the \"data\" directory."
   ]
  },
  {
   "cell_type": "code",
   "execution_count": 5,
   "metadata": {
    "collapsed": true
   },
   "outputs": [],
   "source": [
    "z = zipfile.ZipFile('../data/caltrans_full_survey.zip')"
   ]
  },
  {
   "cell_type": "code",
   "execution_count": 6,
   "metadata": {
    "collapsed": false
   },
   "outputs": [
    {
     "data": {
      "text/plain": [
       "42426"
      ]
     },
     "execution_count": 6,
     "metadata": {},
     "output_type": "execute_result"
    }
   ],
   "source": [
    "households = pd.read_csv(z.open('caltrans_full_survey/survey_households.csv'), low_memory=False)\n",
    "len(households)"
   ]
  },
  {
   "cell_type": "code",
   "execution_count": 7,
   "metadata": {
    "collapsed": false
   },
   "outputs": [
    {
     "data": {
      "text/plain": [
       "9715"
      ]
     },
     "execution_count": 7,
     "metadata": {},
     "output_type": "execute_result"
    }
   ],
   "source": [
    "# Limit to the Bay Area\n",
    "\n",
    "households_ba = households[households.home_county_id.isin([1, 13, 41, 55, 75, 81, 85, 95, 97])]\n",
    "len(households_ba)"
   ]
  },
  {
   "cell_type": "code",
   "execution_count": 8,
   "metadata": {
    "collapsed": false
   },
   "outputs": [
    {
     "data": {
      "text/plain": [
       "109113"
      ]
     },
     "execution_count": 8,
     "metadata": {},
     "output_type": "execute_result"
    }
   ],
   "source": [
    "persons = pd.read_csv(z.open('caltrans_full_survey/survey_person.csv'), low_memory=False)\n",
    "len(persons)"
   ]
  },
  {
   "cell_type": "code",
   "execution_count": 9,
   "metadata": {
    "collapsed": false
   },
   "outputs": [
    {
     "data": {
      "text/plain": [
       "460524"
      ]
     },
     "execution_count": 9,
     "metadata": {},
     "output_type": "execute_result"
    }
   ],
   "source": [
    "places = pd.read_csv(z.open('caltrans_full_survey/survey_place.csv'), low_memory=False)\n",
    "len(places)"
   ]
  },
  {
   "cell_type": "code",
   "execution_count": 10,
   "metadata": {
    "collapsed": false
   },
   "outputs": [
    {
     "data": {
      "text/plain": [
       "604711"
      ]
     },
     "execution_count": 10,
     "metadata": {},
     "output_type": "execute_result"
    }
   ],
   "source": [
    "activities = pd.read_csv(z.open('caltrans_full_survey/survey_activity.csv'), low_memory=False)\n",
    "len(activities)"
   ]
  },
  {
   "cell_type": "code",
   "execution_count": null,
   "metadata": {
    "collapsed": true
   },
   "outputs": [],
   "source": []
  },
  {
   "cell_type": "markdown",
   "metadata": {},
   "source": [
    "## Build table of census tracts\n",
    "\n",
    "Generate a table of census tracts in the 9-county Bay Area, for use in destination choice models.\n",
    "\n",
    "Calculate some covariates: residential density, school/employment density."
   ]
  },
  {
   "cell_type": "code",
   "execution_count": 76,
   "metadata": {
    "collapsed": false
   },
   "outputs": [],
   "source": [
    "def full_tract_id(state_id, county_id, tract_id):\n",
    "    \"\"\"\n",
    "    Generates a full tract ID from its components\n",
    "    \"\"\"\n",
    "    return state_id * 1e9 + county_id * 1e6 + tract_id"
   ]
  },
  {
   "cell_type": "code",
   "execution_count": 79,
   "metadata": {
    "collapsed": true
   },
   "outputs": [],
   "source": [
    "# Suppress scientific notation in the display output\n",
    "\n",
    "pd.set_option('display.float_format', lambda x: '%.0f' % x)"
   ]
  },
  {
   "cell_type": "code",
   "execution_count": 78,
   "metadata": {
    "collapsed": true
   },
   "outputs": [],
   "source": [
    "# Generate full tract identifiers for the `places` table\n",
    "\n",
    "places['full_tract_id'] = full_tract_id(places.state_id, places.county_id, places.tract_id)\n",
    "\n",
    "# Replace missing identifiers with NaN's\n",
    "\n",
    "places.ix[(places.tract_id == 999999) |\n",
    "          (places.county_id == 999) |\n",
    "          (places.state_id == 99), 'full_tract_id'] = np.nan"
   ]
  },
  {
   "cell_type": "code",
   "execution_count": 84,
   "metadata": {
    "collapsed": false
   },
   "outputs": [
    {
     "name": "stdout",
     "output_type": "stream",
     "text": [
      "9097\n",
      "                     city\n",
      "full_tract_id            \n",
      "1015000800       ANNISTON\n",
      "1101001500     MONTGOMERY\n",
      "1161400100        SEVILLA\n",
      "2020001000      ANCHORAGE\n",
      "2020001100      ANCHORAGE\n"
     ]
    }
   ],
   "source": [
    "# Generate a master list of census tracts from the `places` table, keeping the\n",
    "# city name most commonly associated with each tract\n",
    "\n",
    "tracts = places[['full_tract_id', 'city']].groupby('full_tract_id').\\\n",
    "        agg(lambda x:x.value_counts().index[0])\n",
    "\n",
    "print(tracts.shape[0])\n",
    "print(tracts.head())"
   ]
  },
  {
   "cell_type": "code",
   "execution_count": null,
   "metadata": {
    "collapsed": true
   },
   "outputs": [],
   "source": []
  },
  {
   "cell_type": "code",
   "execution_count": 70,
   "metadata": {
    "collapsed": false
   },
   "outputs": [],
   "source": [
    "# Calculate the weighted persons count\n",
    "households['_weighted_persons_count'] = households.persons_count * households.hhwgt\n",
    "\n",
    "# Sum by census tract\n",
    "_sum = households.groupby('home_tract_id')._weighted_persons_count.sum()\n",
    "res_density = _sum.rename('res_density').to_frame()"
   ]
  },
  {
   "cell_type": "code",
   "execution_count": 59,
   "metadata": {
    "collapsed": false
   },
   "outputs": [],
   "source": [
    "# Map tracts to city names\n",
    "city_key = households[['home_tract_id', 'home_city']].drop_duplicates().set_index('home_tract_id')"
   ]
  },
  {
   "cell_type": "code",
   "execution_count": 72,
   "metadata": {
    "collapsed": false
   },
   "outputs": [
    {
     "name": "stdout",
     "output_type": "stream",
     "text": [
      "               res_density     home_city\n",
      "home_tract_id                           \n",
      "6.065046e+09     92.550705       THERMAL\n",
      "6.065046e+09     92.550705         MECCA\n",
      "6.073017e+09     85.857617     SAN DIEGO\n",
      "6.073015e+09     85.855156       LA MESA\n",
      "6.019006e+09     82.998200     MIRAMONTE\n",
      "6.019006e+09     82.998200       REEDLEY\n",
      "6.019006e+09     82.998200  SQUAW VALLEY\n",
      "6.019006e+09     82.998200        SANGER\n",
      "6.019006e+09     82.998200        DUNLAP\n",
      "6.019006e+09     82.998200        FRESNO\n"
     ]
    }
   ],
   "source": [
    "# What does the ranking look like? -- it's pretty arbitrary, because the tracts\n",
    "# themselves have a similar population to each other... is this a problem?\n",
    "\n",
    "_t = pd.merge(res_density, city_key, left_index=True, right_index=True)\n",
    "print(_t.sort_values('res_density', ascending=False).head(10))"
   ]
  },
  {
   "cell_type": "code",
   "execution_count": null,
   "metadata": {
    "collapsed": true
   },
   "outputs": [],
   "source": []
  },
  {
   "cell_type": "code",
   "execution_count": 73,
   "metadata": {
    "collapsed": true
   },
   "outputs": [],
   "source": [
    "# Employment density = sum of person weights by census tract of work location\n",
    "\n",
    "_sum = persons.groupby('empl_tract_id').perwgt.sum()\n",
    "work_density = _sum.rename('work_density').to_frame()"
   ]
  },
  {
   "cell_type": "code",
   "execution_count": null,
   "metadata": {
    "collapsed": true
   },
   "outputs": [],
   "source": []
  },
  {
   "cell_type": "code",
   "execution_count": null,
   "metadata": {
    "collapsed": true
   },
   "outputs": [],
   "source": []
  },
  {
   "cell_type": "code",
   "execution_count": null,
   "metadata": {
    "collapsed": true
   },
   "outputs": [],
   "source": []
  },
  {
   "cell_type": "code",
   "execution_count": null,
   "metadata": {
    "collapsed": true
   },
   "outputs": [],
   "source": []
  }
 ],
 "metadata": {
  "kernelspec": {
   "display_name": "Python 3",
   "language": "python",
   "name": "python3"
  },
  "language_info": {
   "codemirror_mode": {
    "name": "ipython",
    "version": 3
   },
   "file_extension": ".py",
   "mimetype": "text/x-python",
   "name": "python",
   "nbconvert_exporter": "python",
   "pygments_lexer": "ipython3",
   "version": "3.6.0"
  }
 },
 "nbformat": 4,
 "nbformat_minor": 2
}
