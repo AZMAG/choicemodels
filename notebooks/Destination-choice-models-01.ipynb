{
 "cells": [
  {
   "cell_type": "markdown",
   "metadata": {},
   "source": [
    "# Exploring destination choice models\n",
    "\n",
    "Sam Maurer, June 2017\n",
    "\n",
    "Python 3.6\n",
    "\n",
    "## Plan\n",
    "\n",
    "- Set up a simple MNL destination choice model using the `urbansim.urbanchoice` interface\n",
    "\n",
    "- Refactor the code, using this notebook for ad-hoc testing\n",
    "\n",
    "- Set up more complex models as needed\n",
    "\n",
    "- Add support for PyLogit MNL through an alternate constructor (class method)"
   ]
  },
  {
   "cell_type": "code",
   "execution_count": 1,
   "metadata": {
    "collapsed": false
   },
   "outputs": [],
   "source": [
    "import numpy as np\n",
    "import pandas as pd\n",
    "\n",
    "from patsy import dmatrix\n",
    "from urbansim.urbanchoice import interaction, mnl\n",
    "\n",
    "from choicemodels import MultinomialLogit"
   ]
  },
  {
   "cell_type": "code",
   "execution_count": null,
   "metadata": {
    "collapsed": false
   },
   "outputs": [],
   "source": []
  },
  {
   "cell_type": "markdown",
   "metadata": {},
   "source": [
    "## Load estimation data from disk"
   ]
  },
  {
   "cell_type": "code",
   "execution_count": 2,
   "metadata": {
    "collapsed": true
   },
   "outputs": [],
   "source": [
    "# Suppress scientific notation in the Pandas display output\n",
    "\n",
    "pd.set_option('display.float_format', lambda x: '%.3f' % x)"
   ]
  },
  {
   "cell_type": "code",
   "execution_count": 3,
   "metadata": {
    "collapsed": false
   },
   "outputs": [
    {
     "name": "stdout",
     "output_type": "stream",
     "text": [
      "1583\n",
      "                    city  home_density  work_density  school_density\n",
      "full_tract_id                                                       \n",
      "6001008309.000   TIJUANA         0.000         0.000           0.000\n",
      "6001400100.000  BERKELEY        13.438        13.131          13.512\n",
      "6001400200.000   OAKLAND        11.090         4.249           0.895\n",
      "6001400300.000   OAKLAND        28.878         7.672           0.000\n",
      "6001400400.000   OAKLAND        16.885         4.064           8.150\n"
     ]
    }
   ],
   "source": [
    "tracts = pd.read_csv('../data/tracts.csv').set_index('full_tract_id')\n",
    "\n",
    "print(tracts.shape[0])\n",
    "print(tracts.head())"
   ]
  },
  {
   "cell_type": "code",
   "execution_count": 4,
   "metadata": {
    "collapsed": false
   },
   "outputs": [
    {
     "name": "stdout",
     "output_type": "stream",
     "text": [
      "36765\n",
      "                 full_tract_id  mode  trip_distance_miles\n",
      "place_id                                                 \n",
      "10319850102.000 6095252108.000 6.000               13.428\n",
      "10319850202.000 6095251902.000 5.000                5.126\n",
      "10335860102.000 6085511915.000 6.000              156.371\n",
      "10335860103.000 6085512027.000 6.000                1.616\n",
      "10335860104.000 6085512027.000 6.000                0.376\n"
     ]
    }
   ],
   "source": [
    "trips = pd.read_csv('../data/trips.csv').set_index('place_id')\n",
    "\n",
    "print(trips.shape[0])\n",
    "print(trips.head())"
   ]
  },
  {
   "cell_type": "code",
   "execution_count": null,
   "metadata": {
    "collapsed": true
   },
   "outputs": [],
   "source": []
  },
  {
   "cell_type": "markdown",
   "metadata": {},
   "source": [
    "## MNL destination choice using urbansim.urbanchoice"
   ]
  },
  {
   "cell_type": "code",
   "execution_count": 5,
   "metadata": {
    "collapsed": true
   },
   "outputs": [],
   "source": [
    "# - each trip is a realized choice of a particular census tract\n",
    "# - we can randomly sample alternative census tracts and build a model\n",
    "#   of destination choice"
   ]
  },
  {
   "cell_type": "code",
   "execution_count": 6,
   "metadata": {
    "collapsed": true
   },
   "outputs": [],
   "source": [
    "# `interaction.mnl_interaction_dataset()` is not documented very well, but \n",
    "# this is how it seems to work\n",
    "\n",
    "# Takes following input:\n",
    "# - choosers: pandas.DataFrame with unique index\n",
    "# - alternatives: pandas.DataFrame with unique index\n",
    "# - SAMPLE_SIZE: number of alternatives for each choice scenario\n",
    "# - chosenalts: list containing the alternative id chosen by each chooser?\n",
    "\n",
    "# Returns following output:\n",
    "# - full list of alternatives that were sampled\n",
    "# - long-format DataFrame merging the two tables\n",
    "# - numchoosers X SAMPLE_SIZE matrix representing chosen alternatives"
   ]
  },
  {
   "cell_type": "code",
   "execution_count": 7,
   "metadata": {
    "collapsed": false
   },
   "outputs": [
    {
     "name": "stdout",
     "output_type": "stream",
     "text": [
      "481\n",
      "                 full_tract_id  mode  trip_distance_miles\n",
      "place_id                                                 \n",
      "19290320102.000 6095250601.000 5.000              362.468\n",
      "14703250204.000 6013339001.000 5.000                0.232\n",
      "15349130404.000 6001440333.000 6.000               14.164\n",
      "14953360103.000 6095252605.000 5.000                2.027\n",
      "18199710308.000 6097153401.000 1.000                0.055\n"
     ]
    }
   ],
   "source": [
    "# Start with a sample of 500 trips for easier computation\n",
    "\n",
    "choosers = trips.loc[np.random.choice(trips.index, 500, replace=False)]\n",
    "choosers = choosers.loc[choosers.trip_distance_miles.notnull()]\n",
    "\n",
    "print(choosers.shape[0])\n",
    "print(choosers.head())"
   ]
  },
  {
   "cell_type": "code",
   "execution_count": 8,
   "metadata": {
    "collapsed": false
   },
   "outputs": [
    {
     "name": "stdout",
     "output_type": "stream",
     "text": [
      "4810\n",
      "(481, 10)\n"
     ]
    },
    {
     "name": "stderr",
     "output_type": "stream",
     "text": [
      "/Users/maurer/Dropbox/Git-imac/udst/urbansim/urbansim/urbanchoice/interaction.py:83: SettingWithCopyWarning: \n",
      "A value is trying to be set on a copy of a slice from a DataFrame.\n",
      "Try using .loc[row_indexer,col_indexer] = value instead\n",
      "\n",
      "See the caveats in the documentation: http://pandas.pydata.org/pandas-docs/stable/indexing.html#indexing-view-versus-copy\n",
      "  alts_sample['join_index'] = np.repeat(choosers.index.values, SAMPLE_SIZE)\n"
     ]
    }
   ],
   "source": [
    "# Sample alternatives and set up long-format data table\n",
    "\n",
    "numalts = 10\n",
    "\n",
    "_, merged, chosen = interaction.mnl_interaction_dataset(\n",
    "    choosers=choosers, alternatives=tracts, SAMPLE_SIZE=numalts, \n",
    "    chosenalts=choosers.full_tract_id)\n",
    "\n",
    "print(merged.shape[0])\n",
    "print(chosen.shape)"
   ]
  },
  {
   "cell_type": "code",
   "execution_count": 9,
   "metadata": {
    "collapsed": false
   },
   "outputs": [
    {
     "data": {
      "text/html": [
       "<div>\n",
       "<table border=\"1\" class=\"dataframe\">\n",
       "  <thead>\n",
       "    <tr style=\"text-align: right;\">\n",
       "      <th></th>\n",
       "      <th>Intercept</th>\n",
       "      <th>home_density</th>\n",
       "      <th>work_density</th>\n",
       "      <th>school_density</th>\n",
       "    </tr>\n",
       "    <tr>\n",
       "      <th>full_tract_id</th>\n",
       "      <th></th>\n",
       "      <th></th>\n",
       "      <th></th>\n",
       "      <th></th>\n",
       "    </tr>\n",
       "  </thead>\n",
       "  <tbody>\n",
       "    <tr>\n",
       "      <th>6095250601.000</th>\n",
       "      <td>1.000</td>\n",
       "      <td>10.833</td>\n",
       "      <td>0.904</td>\n",
       "      <td>7.123</td>\n",
       "    </tr>\n",
       "    <tr>\n",
       "      <th>6085511707.000</th>\n",
       "      <td>1.000</td>\n",
       "      <td>21.619</td>\n",
       "      <td>3.419</td>\n",
       "      <td>3.363</td>\n",
       "    </tr>\n",
       "    <tr>\n",
       "      <th>6075042601.000</th>\n",
       "      <td>1.000</td>\n",
       "      <td>11.582</td>\n",
       "      <td>4.309</td>\n",
       "      <td>4.809</td>\n",
       "    </tr>\n",
       "    <tr>\n",
       "      <th>6085500800.000</th>\n",
       "      <td>1.000</td>\n",
       "      <td>29.530</td>\n",
       "      <td>41.694</td>\n",
       "      <td>0.917</td>\n",
       "    </tr>\n",
       "    <tr>\n",
       "      <th>6013337100.000</th>\n",
       "      <td>1.000</td>\n",
       "      <td>8.080</td>\n",
       "      <td>0.000</td>\n",
       "      <td>0.000</td>\n",
       "    </tr>\n",
       "  </tbody>\n",
       "</table>\n",
       "</div>"
      ],
      "text/plain": [
       "                Intercept  home_density  work_density  school_density\n",
       "full_tract_id                                                        \n",
       "6095250601.000      1.000        10.833         0.904           7.123\n",
       "6085511707.000      1.000        21.619         3.419           3.363\n",
       "6075042601.000      1.000        11.582         4.309           4.809\n",
       "6085500800.000      1.000        29.530        41.694           0.917\n",
       "6013337100.000      1.000         8.080         0.000           0.000"
      ]
     },
     "execution_count": 9,
     "metadata": {},
     "output_type": "execute_result"
    }
   ],
   "source": [
    "# Use patsy to generate the design matrix\n",
    "\n",
    "model_expression = \"home_density + work_density + school_density\"\n",
    "\n",
    "model_design = dmatrix(model_expression, data=merged, return_type='dataframe')\n",
    "\n",
    "model_design.head()"
   ]
  },
  {
   "cell_type": "code",
   "execution_count": 10,
   "metadata": {
    "collapsed": false
   },
   "outputs": [
    {
     "name": "stdout",
     "output_type": "stream",
     "text": [
      "{'null': -1107.5434297301363, 'convergence': -1045.6140951619575, 'ratio': 0.055915942351144166}\n",
      "   Coefficient  Std. Error  T-Score\n",
      "0        0.000       0.092    0.000\n",
      "1        0.012       0.005    2.504\n",
      "2        0.022       0.002   13.496\n",
      "3        0.014       0.005    2.782\n"
     ]
    },
    {
     "name": "stderr",
     "output_type": "stream",
     "text": [
      "/Users/maurer/Dropbox/Git-imac/udst/urbansim/urbansim/urbanchoice/pmat.py:48: RuntimeWarning: overflow encountered in exp\n",
      "  return PMAT(np.exp(self.mat))\n"
     ]
    }
   ],
   "source": [
    "log_likelihoods, fit_parameters = mnl.mnl_estimate(\n",
    "    model_design.as_matrix(), chosen, numalts=10)\n",
    "\n",
    "print(log_likelihoods)\n",
    "print(fit_parameters)"
   ]
  },
  {
   "cell_type": "code",
   "execution_count": null,
   "metadata": {
    "collapsed": true
   },
   "outputs": [],
   "source": []
  },
  {
   "cell_type": "markdown",
   "metadata": {},
   "source": [
    "## Same thing using in ChoiceModels\n",
    "\n",
    "This is a work in progress!"
   ]
  },
  {
   "cell_type": "code",
   "execution_count": 11,
   "metadata": {
    "collapsed": false
   },
   "outputs": [
    {
     "name": "stdout",
     "output_type": "stream",
     "text": [
      "<class 'choicemodels.mnl.MultinomialLogitResults'>\n",
      "{'null': -1107.5434297301363, 'convergence': -1045.6140951619575, 'ratio': 0.055915942351144166}   Coefficient  Std. Error  T-Score\n",
      "0        0.000       0.092    0.000\n",
      "1        0.012       0.005    2.504\n",
      "2        0.022       0.002   13.496\n",
      "3        0.014       0.005    2.782\n"
     ]
    },
    {
     "name": "stderr",
     "output_type": "stream",
     "text": [
      "/Users/maurer/Dropbox/Git-imac/ual/choicemodels/choicemodels/urbanchoice/pmat.py:48: RuntimeWarning: overflow encountered in exp\n",
      "  return PMAT(np.exp(self.mat))\n"
     ]
    }
   ],
   "source": [
    "# Using the merged dataset and model expression from above, \n",
    "# we can run the estimation in ChoiceModels now\n",
    "\n",
    "model = MultinomialLogit(merged, chosen, numalts, model_expression)\n",
    "results = model.fit()\n",
    "\n",
    "print(type(results))\n",
    "print(results)"
   ]
  },
  {
   "cell_type": "code",
   "execution_count": null,
   "metadata": {
    "collapsed": true
   },
   "outputs": [],
   "source": []
  },
  {
   "cell_type": "code",
   "execution_count": null,
   "metadata": {
    "collapsed": true
   },
   "outputs": [],
   "source": []
  },
  {
   "cell_type": "code",
   "execution_count": 1,
   "metadata": {
    "collapsed": true
   },
   "outputs": [],
   "source": [
    "from statsmodels.iolib.table import SimpleTable, Row\n",
    "from statsmodels.iolib.tableformatting import (gen_fmt, fmt_2,\n",
    "                                                fmt_params, fmt_base, fmt_2cols)"
   ]
  },
  {
   "cell_type": "code",
   "execution_count": 2,
   "metadata": {
    "collapsed": false
   },
   "outputs": [
    {
     "data": {
      "text/plain": [
       "'0.8.0'"
      ]
     },
     "execution_count": 2,
     "metadata": {},
     "output_type": "execute_result"
    }
   ],
   "source": [
    "import statsmodels\n",
    "statsmodels.__version__"
   ]
  },
  {
   "cell_type": "code",
   "execution_count": 3,
   "metadata": {
    "collapsed": false
   },
   "outputs": [
    {
     "name": "stdout",
     "output_type": "stream",
     "text": [
      "     yes      \n",
      "==============\n",
      "     col1 col2\n",
      "--------------\n",
      "row1  11   12 \n",
      "row2  21   22 \n",
      "--------------\n"
     ]
    }
   ],
   "source": [
    "table1 = SimpleTable([[11,12],[21,22]], [\"col1\", \"col2\"], [\"row1\", \"row2\"], title=\"yes\")\n",
    "\n",
    "print(table1)"
   ]
  },
  {
   "cell_type": "code",
   "execution_count": 5,
   "metadata": {
    "collapsed": false
   },
   "outputs": [
    {
     "name": "stdout",
     "output_type": "stream",
     "text": [
      "     Title!    \n",
      "===============\n",
      "key 1    left  \n",
      "key 2 left-long\n",
      "---------------\n",
      "================\n",
      "key 1   right   \n",
      "key 2 right-long\n",
      "----------------\n",
      "     Title!    \n",
      "===============\n",
      "key 1    left  \n",
      "key 2 left-long\n",
      "---------------\n"
     ]
    }
   ],
   "source": [
    "left = SimpleTable([['left'],['left-long']], \n",
    "                   stubs=['key 1', 'key 2'],\n",
    "                   title=\"Title!\")\n",
    "\n",
    "print(left)\n",
    "\n",
    "right = SimpleTable([['right'],['right-long']], \n",
    "                    stubs=('key 1', 'key 2'))\n",
    "\n",
    "print (right)\n",
    "\n",
    "left.extend_right(table=right)\n",
    "\n",
    "print(left)"
   ]
  },
  {
   "cell_type": "code",
   "execution_count": 19,
   "metadata": {
    "collapsed": false
   },
   "outputs": [
    {
     "name": "stdout",
     "output_type": "stream",
     "text": [
      "                         Title                         \n",
      "=======================================================\n",
      "key          value-long-long    key-longer       value \n",
      "key                      val    key                  v \n",
      "                                                        \n",
      "========================================================\n",
      "                 coef   std err   z   P>|z|   Conf. Int.\n",
      "--------------------------------------------------------\n",
      "home_density        0         0   0       0            0\n",
      "work_density        0         0   0       0            0\n",
      "school_density      0         0   0       0            0\n",
      "========================================================\n",
      "[14, 4, 7, 1, 5, 10]\n"
     ]
    }
   ],
   "source": [
    "# Figure out:\n",
    "# - decoration lines\n",
    "# - alignment\n",
    "# - double-column headers\n",
    "\n",
    "head = SimpleTable([[\"key\", \"value-long-long \", \"key-longer\", \"value \"],['key','val ','key','v ']], \n",
    "                   title=\"Title\", txt_fmt=dict(table_dec_below='',\n",
    "                                               header_align='r',\n",
    "                                               data_aligns='lrlr',\n",
    "                                               colwidths=10,\n",
    "                                               colsep='   '))\n",
    "\n",
    "print(head)\n",
    "\n",
    "\n",
    "params = SimpleTable([[0,0,0,0,0],[0,0,0,0,0],[0,0,0,0,0]], \n",
    "                     headers=['coef','std err','z','P>|z|','Conf. Int.'],\n",
    "                     stubs = ['home_density','work_density','school_density'],\n",
    "                     title=\" \",\n",
    "                     txt_fmt=dict(table_dec_below='=',\n",
    "                                               data_aligns='r',\n",
    "                                               colsep='   '))\n",
    "\n",
    "print(params)\n",
    "params[1].get_aligns('txt')\n",
    "\n",
    "print(params.get_colwidths('txt'))\n",
    "\n"
   ]
  },
  {
   "cell_type": "code",
   "execution_count": 50,
   "metadata": {
    "collapsed": false
   },
   "outputs": [
    {
     "name": "stdout",
     "output_type": "stream",
     "text": [
      "                  Title                  \n",
      "=========================================\n",
      "     test     \n",
      "--------------\n",
      "     test     \n",
      "--------------\n",
      "     test     \n",
      "     test     \n",
      "     test     \n",
      "--------------\n",
      "     key       value   key   value\n",
      "     key        val    key     v  \n",
      "               coef std err z conf1 conf2\n",
      "-----------------------------------------\n",
      "home_density    0      0    0   0     0  \n",
      "work_density    0      0    0   0     0  \n",
      "school_density  0      0    0   0     0  \n",
      "-----------------------------------------\n"
     ]
    }
   ],
   "source": [
    "head.insert_header_row(0,['test'],dec_below='header_dec_below')\n",
    "print(head)"
   ]
  },
  {
   "cell_type": "code",
   "execution_count": 17,
   "metadata": {
    "collapsed": false
   },
   "outputs": [
    {
     "data": {
      "text/plain": [
       "'500'"
      ]
     },
     "execution_count": 17,
     "metadata": {},
     "output_type": "execute_result"
    }
   ],
   "source": [
    "\"{:,}\".format(500)"
   ]
  },
  {
   "cell_type": "code",
   "execution_count": 24,
   "metadata": {
    "collapsed": false
   },
   "outputs": [
    {
     "data": {
      "text/plain": [
       "[[1, 2, 5, 6], [3, 4, 7, 8]]"
      ]
     },
     "execution_count": 24,
     "metadata": {},
     "output_type": "execute_result"
    }
   ],
   "source": [
    "a = [[1, 2],[3,4]]\n",
    "b = [[5,6], [7,8]]\n",
    "\n",
    "[a[i] + b[i] for i in range(len(a))]"
   ]
  },
  {
   "cell_type": "code",
   "execution_count": null,
   "metadata": {
    "collapsed": true
   },
   "outputs": [],
   "source": []
  }
 ],
 "metadata": {
  "kernelspec": {
   "display_name": "Python 3",
   "language": "python",
   "name": "python3"
  },
  "language_info": {
   "codemirror_mode": {
    "name": "ipython",
    "version": 3
   },
   "file_extension": ".py",
   "mimetype": "text/x-python",
   "name": "python",
   "nbconvert_exporter": "python",
   "pygments_lexer": "ipython3",
   "version": "3.6.0"
  }
 },
 "nbformat": 4,
 "nbformat_minor": 2
}
