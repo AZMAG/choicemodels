{
 "cells": [
  {
   "cell_type": "markdown",
   "metadata": {},
   "source": [
    "# Exploring destination choice models\n",
    "\n",
    "Sam Maurer, June 2017\n",
    "\n",
    "Python 3.6\n",
    "\n",
    "## Plan\n",
    "\n",
    "- Set up a simple MNL destination choice model using the `urbansim.urbanchoice` interface\n",
    "\n",
    "- Refactor the code, using this notebook for ad-hoc testing\n",
    "\n",
    "- Set up more complex models as needed"
   ]
  },
  {
   "cell_type": "code",
   "execution_count": 1,
   "metadata": {
    "collapsed": false
   },
   "outputs": [],
   "source": [
    "import numpy as np\n",
    "import pandas as pd\n",
    "\n",
    "from patsy import dmatrix\n",
    "from urbansim.urbanchoice import interaction, mnl\n",
    "\n",
    "from choicemodels import MultinomialLogit"
   ]
  },
  {
   "cell_type": "code",
   "execution_count": 2,
   "metadata": {
    "collapsed": true
   },
   "outputs": [],
   "source": [
    "# Suppress deprecation warnings\n",
    "\n",
    "import warnings; warnings.simplefilter('ignore')"
   ]
  },
  {
   "cell_type": "code",
   "execution_count": null,
   "metadata": {
    "collapsed": false
   },
   "outputs": [],
   "source": []
  },
  {
   "cell_type": "markdown",
   "metadata": {},
   "source": [
    "## Load estimation data from disk"
   ]
  },
  {
   "cell_type": "code",
   "execution_count": 3,
   "metadata": {
    "collapsed": true
   },
   "outputs": [],
   "source": [
    "# Suppress scientific notation in the Pandas display output\n",
    "\n",
    "pd.set_option('display.float_format', lambda x: '%.3f' % x)"
   ]
  },
  {
   "cell_type": "code",
   "execution_count": 4,
   "metadata": {
    "collapsed": false
   },
   "outputs": [
    {
     "name": "stdout",
     "output_type": "stream",
     "text": [
      "1583\n",
      "                    city  home_density  work_density  school_density\n",
      "full_tract_id                                                       \n",
      "6001008309.000   TIJUANA         0.000         0.000           0.000\n",
      "6001400100.000  BERKELEY        13.438        13.131          13.512\n",
      "6001400200.000   OAKLAND        11.090         4.249           0.895\n",
      "6001400300.000   OAKLAND        28.878         7.672           0.000\n",
      "6001400400.000   OAKLAND        16.885         4.064           8.150\n"
     ]
    }
   ],
   "source": [
    "tracts = pd.read_csv('../data/tracts.csv').set_index('full_tract_id')\n",
    "\n",
    "print(tracts.shape[0])\n",
    "print(tracts.head())"
   ]
  },
  {
   "cell_type": "code",
   "execution_count": 5,
   "metadata": {
    "collapsed": false
   },
   "outputs": [
    {
     "name": "stdout",
     "output_type": "stream",
     "text": [
      "36765\n",
      "                 full_tract_id  mode  trip_distance_miles\n",
      "place_id                                                 \n",
      "10319850102.000 6095252108.000 6.000               13.428\n",
      "10319850202.000 6095251902.000 5.000                5.126\n",
      "10335860102.000 6085511915.000 6.000              156.371\n",
      "10335860103.000 6085512027.000 6.000                1.616\n",
      "10335860104.000 6085512027.000 6.000                0.376\n"
     ]
    }
   ],
   "source": [
    "trips = pd.read_csv('../data/trips.csv').set_index('place_id')\n",
    "\n",
    "print(trips.shape[0])\n",
    "print(trips.head())"
   ]
  },
  {
   "cell_type": "code",
   "execution_count": null,
   "metadata": {
    "collapsed": true
   },
   "outputs": [],
   "source": []
  },
  {
   "cell_type": "markdown",
   "metadata": {},
   "source": [
    "## MNL destination choice using urbansim.urbanchoice"
   ]
  },
  {
   "cell_type": "code",
   "execution_count": 6,
   "metadata": {
    "collapsed": true
   },
   "outputs": [],
   "source": [
    "# - each trip is a realized choice of a particular census tract\n",
    "# - we can randomly sample alternative census tracts and build a model\n",
    "#   of destination choice"
   ]
  },
  {
   "cell_type": "code",
   "execution_count": 7,
   "metadata": {
    "collapsed": true
   },
   "outputs": [],
   "source": [
    "# `interaction.mnl_interaction_dataset()` is not documented very well, but \n",
    "# this is how it seems to work\n",
    "\n",
    "# Takes following input:\n",
    "# - choosers: pandas.DataFrame with unique index\n",
    "# - alternatives: pandas.DataFrame with unique index\n",
    "# - SAMPLE_SIZE: number of alternatives for each choice scenario\n",
    "# - chosenalts: list containing the alternative id chosen by each chooser?\n",
    "\n",
    "# Returns following output:\n",
    "# - full list of alternatives that were sampled\n",
    "# - long-format DataFrame merging the two tables\n",
    "# - numchoosers X SAMPLE_SIZE matrix representing chosen alternatives"
   ]
  },
  {
   "cell_type": "markdown",
   "metadata": {},
   "source": [
    "### Start with a sample of ~500 trips for easier computation"
   ]
  },
  {
   "cell_type": "code",
   "execution_count": 6,
   "metadata": {
    "collapsed": false
   },
   "outputs": [
    {
     "name": "stdout",
     "output_type": "stream",
     "text": [
      "490\n",
      "                 full_tract_id  mode  trip_distance_miles\n",
      "place_id                                                 \n",
      "71720050203.000 6055201402.000 6.000                3.080\n",
      "19678330204.000 6095253404.000 6.000               15.400\n",
      "30057980204.000 6001408600.000 6.000                7.070\n",
      "30002610307.000 6001433400.000 5.000                1.371\n",
      "30208410103.000 6085503601.000 5.000                7.498\n"
     ]
    }
   ],
   "source": [
    "choosers = trips.loc[np.random.choice(trips.index, 500, replace=False)]\n",
    "choosers = choosers.loc[choosers.trip_distance_miles.notnull()]\n",
    "\n",
    "print(choosers.shape[0])\n",
    "print(choosers.head())"
   ]
  },
  {
   "cell_type": "markdown",
   "metadata": {},
   "source": [
    "### Sample 100 alternatives for each and set up a long-format data table"
   ]
  },
  {
   "cell_type": "code",
   "execution_count": 7,
   "metadata": {
    "collapsed": false
   },
   "outputs": [
    {
     "name": "stdout",
     "output_type": "stream",
     "text": [
      "49000\n",
      "(490, 100)\n"
     ]
    }
   ],
   "source": [
    "numalts = 100\n",
    "\n",
    "_, merged, chosen = interaction.mnl_interaction_dataset(\n",
    "    choosers=choosers, alternatives=tracts, SAMPLE_SIZE=numalts, \n",
    "    chosenalts=choosers.full_tract_id)\n",
    "\n",
    "print(merged.shape[0])\n",
    "print(chosen.shape)"
   ]
  },
  {
   "cell_type": "markdown",
   "metadata": {},
   "source": [
    "### Use Patsy to generate the design matrix"
   ]
  },
  {
   "cell_type": "code",
   "execution_count": 8,
   "metadata": {
    "collapsed": false
   },
   "outputs": [
    {
     "name": "stdout",
     "output_type": "stream",
     "text": [
      "                Intercept  home_density  work_density  school_density\n",
      "full_tract_id                                                        \n",
      "6055201402.000      1.000        13.406         1.692           0.000\n",
      "6013308001.000      1.000         8.448         0.828           2.252\n",
      "6085500901.000      1.000         6.060        32.747         110.417\n",
      "6085503712.000      1.000        16.097         6.792           0.000\n",
      "6097153801.000      1.000        48.146         3.061           8.313\n"
     ]
    }
   ],
   "source": [
    "model_expression = \"home_density + work_density + school_density\"\n",
    "\n",
    "model_design = dmatrix(model_expression, data=merged, return_type='dataframe')\n",
    "\n",
    "print(model_design.head())"
   ]
  },
  {
   "cell_type": "markdown",
   "metadata": {},
   "source": [
    "### Fit the model using mnl_estimate()"
   ]
  },
  {
   "cell_type": "code",
   "execution_count": 9,
   "metadata": {
    "collapsed": false
   },
   "outputs": [
    {
     "name": "stdout",
     "output_type": "stream",
     "text": [
      "{'convergence': -2209.5185606064615, 'null': -2256.5333911341672, 'ratio': 0.02083498108755011}\n",
      "   Coefficient  Std. Error  T-Score\n",
      "0       -0.000       0.084   -0.000\n",
      "1        0.013       0.004    3.049\n",
      "2        0.012       0.001    9.855\n",
      "3        0.011       0.005    2.170\n"
     ]
    }
   ],
   "source": [
    "log_likelihoods, fit_parameters = mnl.mnl_estimate(\n",
    "    model_design.as_matrix(), chosen, numalts=numalts)\n",
    "\n",
    "print(log_likelihoods)\n",
    "print(fit_parameters)"
   ]
  },
  {
   "cell_type": "code",
   "execution_count": null,
   "metadata": {
    "collapsed": true
   },
   "outputs": [],
   "source": []
  },
  {
   "cell_type": "markdown",
   "metadata": {},
   "source": [
    "## NEW -- Same process in ChoiceModels"
   ]
  },
  {
   "cell_type": "code",
   "execution_count": 10,
   "metadata": {
    "collapsed": true
   },
   "outputs": [],
   "source": [
    "from choicemodels import MultinomialLogit\n",
    "from choicemodels.tools import MergedChoiceTable"
   ]
  },
  {
   "cell_type": "code",
   "execution_count": 11,
   "metadata": {
    "collapsed": false
   },
   "outputs": [
    {
     "name": "stdout",
     "output_type": "stream",
     "text": [
      "490\n"
     ]
    }
   ],
   "source": [
    "# Start with the same sample of trips\n",
    "\n",
    "print(choosers.shape[0])"
   ]
  },
  {
   "cell_type": "markdown",
   "metadata": {},
   "source": [
    "### Merge choosers and alternatives using a new ChoiceModels interface"
   ]
  },
  {
   "cell_type": "code",
   "execution_count": 12,
   "metadata": {
    "collapsed": false
   },
   "outputs": [
    {
     "name": "stdout",
     "output_type": "stream",
     "text": [
      "<class 'choicemodels.tools.interaction.MergedChoiceTable'>\n",
      "49000\n"
     ]
    }
   ],
   "source": [
    "merged = MergedChoiceTable(observations = choosers, \n",
    "                           alternatives = tracts, \n",
    "                           chosen_alternatives = choosers.full_tract_id, \n",
    "                           sample_size = numalts)\n",
    "\n",
    "print(type(merged))\n",
    "print(merged.to_frame().shape[0])"
   ]
  },
  {
   "cell_type": "markdown",
   "metadata": {},
   "source": [
    "### Estimate a model using the ChoiceModels engine"
   ]
  },
  {
   "cell_type": "code",
   "execution_count": 17,
   "metadata": {
    "collapsed": false
   },
   "outputs": [
    {
     "name": "stdout",
     "output_type": "stream",
     "text": [
      "                  CHOICEMODELS ESTIMATION RESULTS                  \n",
      "===================================================================\n",
      "Dep. Var.:                chosen   No. Observations:               \n",
      "Model:         Multinomial Logit   Df Residuals:                   \n",
      "Method:       Maximum Likelihood   Df Model:                       \n",
      "Date:                              Pseudo R-squ.:                  \n",
      "Time:                              Pseudo R-bar-squ.:              \n",
      "AIC:                               Log-Likelihood:       -2,206.414\n",
      "BIC:                               LL-Null:              -2,256.533\n",
      "===================================================================\n",
      "                    coef   std err         z     P>|z|   Conf. Int.\n",
      "-------------------------------------------------------------------\n",
      "home_density      0.0123     0.003     4.574                       \n",
      "work_density      0.0128     0.001    10.993                       \n",
      "school_density    0.0097     0.005     2.018                       \n",
      "===================================================================\n",
      "CPU times: user 125 ms, sys: 34.8 ms, total: 160 ms\n",
      "Wall time: 110 ms\n"
     ]
    }
   ],
   "source": [
    "%%time\n",
    "model_expression = \"home_density + work_density + school_density - 1\"\n",
    "\n",
    "model = MultinomialLogit(data = merged.to_frame(), \n",
    "                         observation_id_col = merged.observation_id_col, \n",
    "                         choice_col = merged.choice_col,\n",
    "                         model_expression = model_expression)\n",
    "\n",
    "results = model.fit()\n",
    "print(results)"
   ]
  },
  {
   "cell_type": "code",
   "execution_count": 14,
   "metadata": {
    "collapsed": false
   },
   "outputs": [
    {
     "name": "stdout",
     "output_type": "stream",
     "text": [
      "<class 'choicemodels.mnl.MultinomialLogitResults'>\n"
     ]
    }
   ],
   "source": [
    "print(type(results))"
   ]
  },
  {
   "cell_type": "markdown",
   "metadata": {},
   "source": [
    "### Estimate a model using the PyLogit engine\n",
    "\n",
    "Usage is the same, but with an OrderedDict model expression"
   ]
  },
  {
   "cell_type": "code",
   "execution_count": 15,
   "metadata": {
    "collapsed": true
   },
   "outputs": [],
   "source": [
    "from collections import OrderedDict"
   ]
  },
  {
   "cell_type": "code",
   "execution_count": 16,
   "metadata": {
    "collapsed": false
   },
   "outputs": [
    {
     "name": "stdout",
     "output_type": "stream",
     "text": [
      "Log-likelihood at zero: -2,256.5334\n",
      "Initial Log-likelihood: -2,256.5334\n",
      "Estimation Time: 0.15 seconds.\n",
      "Final log-likelihood: -2,206.4141\n",
      "                     Multinomial Logit Model Regression Results                    \n",
      "===================================================================================\n",
      "Dep. Variable:                      chosen   No. Observations:                  490\n",
      "Model:             Multinomial Logit Model   Df Residuals:                      487\n",
      "Method:                                MLE   Df Model:                            3\n",
      "Date:                     Tue, 27 Jun 2017   Pseudo R-squ.:                   0.022\n",
      "Time:                             19:51:07   Pseudo R-bar-squ.:               0.021\n",
      "converged:                            True   Log-Likelihood:             -2,206.414\n",
      "                                             LL-Null:                    -2,256.533\n",
      "==================================================================================\n",
      "                     coef    std err          z      P>|z|      [0.025      0.975]\n",
      "----------------------------------------------------------------------------------\n",
      "home_density       0.0123      0.004      2.942      0.003       0.004       0.020\n",
      "work_density       0.0128      0.001     11.104      0.000       0.011       0.015\n",
      "school_density     0.0097      0.004      2.191      0.028       0.001       0.018\n",
      "==================================================================================\n",
      "CPU times: user 15.5 s, sys: 13.7 s, total: 29.2 s\n",
      "Wall time: 21 s\n"
     ]
    }
   ],
   "source": [
    "%%time\n",
    "model_expression = OrderedDict([('home_density', 'all_same'),\n",
    "                                ('work_density', 'all_same'),\n",
    "                                ('school_density', 'all_same')])\n",
    "\n",
    "model = MultinomialLogit(data = merged.to_frame(),\n",
    "                         observation_id_col = merged.observation_id_col,\n",
    "                         alternative_id_col = merged.alternative_id_col,\n",
    "                         choice_col = merged.choice_col,\n",
    "                         model_expression = model_expression)\n",
    "\n",
    "results = model.fit()\n",
    "print(results)"
   ]
  },
  {
   "cell_type": "code",
   "execution_count": null,
   "metadata": {
    "collapsed": true
   },
   "outputs": [],
   "source": []
  },
  {
   "cell_type": "code",
   "execution_count": null,
   "metadata": {
    "collapsed": true
   },
   "outputs": [],
   "source": []
  },
  {
   "cell_type": "code",
   "execution_count": null,
   "metadata": {
    "collapsed": true
   },
   "outputs": [],
   "source": []
  },
  {
   "cell_type": "code",
   "execution_count": null,
   "metadata": {
    "collapsed": true
   },
   "outputs": [],
   "source": []
  },
  {
   "cell_type": "code",
   "execution_count": null,
   "metadata": {
    "collapsed": true
   },
   "outputs": [],
   "source": []
  },
  {
   "cell_type": "code",
   "execution_count": null,
   "metadata": {
    "collapsed": true
   },
   "outputs": [],
   "source": []
  }
 ],
 "metadata": {
  "kernelspec": {
   "display_name": "Python 2",
   "language": "python",
   "name": "python2"
  },
  "language_info": {
   "codemirror_mode": {
    "name": "ipython",
    "version": 2
   },
   "file_extension": ".py",
   "mimetype": "text/x-python",
   "name": "python",
   "nbconvert_exporter": "python",
   "pygments_lexer": "ipython2",
   "version": "2.7.11"
  }
 },
 "nbformat": 4,
 "nbformat_minor": 2
}
