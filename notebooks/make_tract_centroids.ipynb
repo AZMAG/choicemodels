{
 "cells": [
  {
   "cell_type": "code",
   "execution_count": 1,
   "metadata": {
    "collapsed": true
   },
   "outputs": [],
   "source": [
    "import pandas as pd, geopandas as gpd"
   ]
  },
  {
   "cell_type": "code",
   "execution_count": 2,
   "metadata": {
    "collapsed": true
   },
   "outputs": [],
   "source": [
    "# specify location of census tracts shapefile and centroids output file\n",
    "cal_tracts_file = '../data/tl_2010_06_tract10/'\n",
    "tract_centroids_file = '../data/bay_tract_centroids.csv'\n",
    "\n",
    "# identify bay area counties by fips code\n",
    "counties = {'Alameda':'001',\n",
    "            'Contra Costa':'013',\n",
    "            'Marin':'041',\n",
    "            'Napa':'055',\n",
    "            'San Francisco':'075',\n",
    "            'San Mateo':'081',\n",
    "            'Santa Clara':'085',\n",
    "            'Solano':'095',\n",
    "            'Sonoma':'097'}"
   ]
  },
  {
   "cell_type": "code",
   "execution_count": 3,
   "metadata": {},
   "outputs": [
    {
     "data": {
      "text/plain": [
       "8057"
      ]
     },
     "execution_count": 3,
     "metadata": {},
     "output_type": "execute_result"
    }
   ],
   "source": [
    "# load the tracts shapefile\n",
    "gdf_cal = gpd.read_file(cal_tracts_file)\n",
    "len(gdf_cal)"
   ]
  },
  {
   "cell_type": "code",
   "execution_count": 4,
   "metadata": {},
   "outputs": [
    {
     "data": {
      "text/plain": [
       "1588"
      ]
     },
     "execution_count": 4,
     "metadata": {},
     "output_type": "execute_result"
    }
   ],
   "source": [
    "# retain only those tracts that are in the bay area counties\n",
    "gdf_cal['county_fips'] = gdf_cal['GEOID10'].str.slice(start=2, stop=5)\n",
    "gdf_bay = gdf_cal[gdf_cal['county_fips'].isin(counties.values())]\n",
    "len(gdf_bay)"
   ]
  },
  {
   "cell_type": "code",
   "execution_count": 5,
   "metadata": {
    "collapsed": true
   },
   "outputs": [],
   "source": [
    "# calculate the centroid of each tract polygon then extract lat and lng coordinates\n",
    "centroids = gdf_bay.centroid\n",
    "lng = centroids.apply(lambda point: point.x)\n",
    "lat = centroids.apply(lambda point: point.y)"
   ]
  },
  {
   "cell_type": "code",
   "execution_count": 6,
   "metadata": {},
   "outputs": [
    {
     "data": {
      "text/plain": [
       "1588"
      ]
     },
     "execution_count": 6,
     "metadata": {},
     "output_type": "execute_result"
    }
   ],
   "source": [
    "# assemble into a dataframe to save\n",
    "df_save = pd.DataFrame({'GEOID10':gdf_bay['GEOID10'],\n",
    "                        'lat':lat,\n",
    "                        'lng':lng})\n",
    "len(df_save)"
   ]
  },
  {
   "cell_type": "code",
   "execution_count": 7,
   "metadata": {
    "collapsed": true
   },
   "outputs": [],
   "source": [
    "# save to disk\n",
    "df_save.to_csv(tract_centroids_file, index=False, encoding='utf-8')"
   ]
  }
 ],
 "metadata": {
  "kernelspec": {
   "display_name": "Python 3",
   "language": "python",
   "name": "python3"
  },
  "language_info": {
   "codemirror_mode": {
    "name": "ipython",
    "version": 3
   },
   "file_extension": ".py",
   "mimetype": "text/x-python",
   "name": "python",
   "nbconvert_exporter": "python",
   "pygments_lexer": "ipython3",
   "version": "3.6.1"
  }
 },
 "nbformat": 4,
 "nbformat_minor": 2
}
