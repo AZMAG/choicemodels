{
 "cells": [
  {
   "cell_type": "code",
   "execution_count": 1,
   "metadata": {},
   "outputs": [
    {
     "name": "stderr",
     "output_type": "stream",
     "text": [
      "C:\\Anaconda\\envs\\py2\\lib\\site-packages\\statsmodels\\compat\\pandas.py:56: FutureWarning: The pandas.core.datetools module is deprecated and will be removed in a future version. Please use the pandas.tseries module instead.\n",
      "  from pandas.core import datetools\n"
     ]
    }
   ],
   "source": [
    "import pandas as pd, numpy as np\n",
    "from choicemodels.tools import distancematrix as dm\n",
    "\n",
    "tract_centroids_file = '../data/bay_tract_centroids.csv'\n",
    "distance_matrix_file = '../data/bay_tracts_distance_matrix.csv'"
   ]
  },
  {
   "cell_type": "markdown",
   "metadata": {},
   "source": [
    "## Load the data"
   ]
  },
  {
   "cell_type": "code",
   "execution_count": 2,
   "metadata": {},
   "outputs": [
    {
     "data": {
      "text/plain": [
       "1588"
      ]
     },
     "execution_count": 2,
     "metadata": {},
     "output_type": "execute_result"
    }
   ],
   "source": [
    "# use double-precision floating points to ensure sufficient significant digits\n",
    "dtypes = {'GEOID10':str, 'lat':np.float64, 'lng':np.float64}\n",
    "df = pd.read_csv(tract_centroids_file, dtype=dtypes).sort_values(by='GEOID10')\n",
    "len(df)"
   ]
  },
  {
   "cell_type": "code",
   "execution_count": 3,
   "metadata": {
    "collapsed": true
   },
   "outputs": [],
   "source": [
    "# alternatively, create a randomized dataframe of length n to test performance relative to size\n",
    "#n = 10000\n",
    "#df = pd.DataFrame({'GEOID10':range(n), 'lng':np.random.random(n), 'lat':np.random.random(n)})"
   ]
  },
  {
   "cell_type": "code",
   "execution_count": 4,
   "metadata": {
    "collapsed": true
   },
   "outputs": [],
   "source": [
    "# index the dataframe by place identifier (i.e., census tract ID)\n",
    "df = df.set_index('GEOID10')"
   ]
  },
  {
   "cell_type": "markdown",
   "metadata": {},
   "source": [
    "## Calculate distance matrices\n",
    "\n",
    "First, the euclidean distance matrix in units of degrees"
   ]
  },
  {
   "cell_type": "code",
   "execution_count": 5,
   "metadata": {},
   "outputs": [
    {
     "name": "stdout",
     "output_type": "stream",
     "text": [
      "Wall time: 34 ms\n"
     ]
    }
   ],
   "source": [
    "%%time\n",
    "df_eu_dm = dm.distance_matrix(df, method='euclidean')"
   ]
  },
  {
   "cell_type": "code",
   "execution_count": 6,
   "metadata": {},
   "outputs": [
    {
     "name": "stdout",
     "output_type": "stream",
     "text": [
      "(1588, 1588)\n",
      "2521744\n"
     ]
    },
    {
     "data": {
      "text/html": [
       "<div>\n",
       "<style>\n",
       "    .dataframe thead tr:only-child th {\n",
       "        text-align: right;\n",
       "    }\n",
       "\n",
       "    .dataframe thead th {\n",
       "        text-align: left;\n",
       "    }\n",
       "\n",
       "    .dataframe tbody tr th {\n",
       "        vertical-align: top;\n",
       "    }\n",
       "</style>\n",
       "<table border=\"1\" class=\"dataframe\">\n",
       "  <thead>\n",
       "    <tr style=\"text-align: right;\">\n",
       "      <th></th>\n",
       "      <th>06001400100</th>\n",
       "      <th>06001400200</th>\n",
       "      <th>06001400300</th>\n",
       "      <th>06001400400</th>\n",
       "      <th>06001400500</th>\n",
       "    </tr>\n",
       "  </thead>\n",
       "  <tbody>\n",
       "    <tr>\n",
       "      <th>06001400100</th>\n",
       "      <td>0.000000</td>\n",
       "      <td>0.026261</td>\n",
       "      <td>0.035165</td>\n",
       "      <td>0.032078</td>\n",
       "      <td>0.037980</td>\n",
       "    </tr>\n",
       "    <tr>\n",
       "      <th>06001400200</th>\n",
       "      <td>0.026261</td>\n",
       "      <td>0.000000</td>\n",
       "      <td>0.008998</td>\n",
       "      <td>0.007887</td>\n",
       "      <td>0.015172</td>\n",
       "    </tr>\n",
       "    <tr>\n",
       "      <th>06001400300</th>\n",
       "      <td>0.035165</td>\n",
       "      <td>0.008998</td>\n",
       "      <td>0.000000</td>\n",
       "      <td>0.008192</td>\n",
       "      <td>0.012998</td>\n",
       "    </tr>\n",
       "    <tr>\n",
       "      <th>06001400400</th>\n",
       "      <td>0.032078</td>\n",
       "      <td>0.007887</td>\n",
       "      <td>0.008192</td>\n",
       "      <td>0.000000</td>\n",
       "      <td>0.007288</td>\n",
       "    </tr>\n",
       "    <tr>\n",
       "      <th>06001400500</th>\n",
       "      <td>0.037980</td>\n",
       "      <td>0.015172</td>\n",
       "      <td>0.012998</td>\n",
       "      <td>0.007288</td>\n",
       "      <td>0.000000</td>\n",
       "    </tr>\n",
       "  </tbody>\n",
       "</table>\n",
       "</div>"
      ],
      "text/plain": [
       "             06001400100  06001400200  06001400300  06001400400  06001400500\n",
       "06001400100     0.000000     0.026261     0.035165     0.032078     0.037980\n",
       "06001400200     0.026261     0.000000     0.008998     0.007887     0.015172\n",
       "06001400300     0.035165     0.008998     0.000000     0.008192     0.012998\n",
       "06001400400     0.032078     0.007887     0.008192     0.000000     0.007288\n",
       "06001400500     0.037980     0.015172     0.012998     0.007288     0.000000"
      ]
     },
     "execution_count": 6,
     "metadata": {},
     "output_type": "execute_result"
    }
   ],
   "source": [
    "print(df_eu_dm.shape)\n",
    "print(df_eu_dm.size)\n",
    "df_eu_dm.iloc[:5, :5]"
   ]
  },
  {
   "cell_type": "markdown",
   "metadata": {},
   "source": [
    "Next, the great circle distance matrix in units of meters"
   ]
  },
  {
   "cell_type": "code",
   "execution_count": 7,
   "metadata": {},
   "outputs": [
    {
     "name": "stderr",
     "output_type": "stream",
     "text": [
      "g:\\geoff\\dropbox\\documents\\school\\phd\\work\\2017-summer\\paul\\code\\choicemodels\\choicemodels\\tools\\distancematrix.py:43: RuntimeWarning: invalid value encountered in arccos\n",
      "  arc = np.arccos(cos)\n"
     ]
    },
    {
     "name": "stdout",
     "output_type": "stream",
     "text": [
      "Wall time: 1.47 s\n"
     ]
    }
   ],
   "source": [
    "%%time\n",
    "df_gc_dm = dm.distance_matrix(df, method='greatcircle')"
   ]
  },
  {
   "cell_type": "code",
   "execution_count": 8,
   "metadata": {},
   "outputs": [
    {
     "name": "stdout",
     "output_type": "stream",
     "text": [
      "(1588, 1588)\n",
      "2521744\n"
     ]
    },
    {
     "data": {
      "text/html": [
       "<div>\n",
       "<style>\n",
       "    .dataframe thead tr:only-child th {\n",
       "        text-align: right;\n",
       "    }\n",
       "\n",
       "    .dataframe thead th {\n",
       "        text-align: left;\n",
       "    }\n",
       "\n",
       "    .dataframe tbody tr th {\n",
       "        vertical-align: top;\n",
       "    }\n",
       "</style>\n",
       "<table border=\"1\" class=\"dataframe\">\n",
       "  <thead>\n",
       "    <tr style=\"text-align: right;\">\n",
       "      <th></th>\n",
       "      <th>06001400100</th>\n",
       "      <th>06001400200</th>\n",
       "      <th>06001400300</th>\n",
       "      <th>06001400400</th>\n",
       "      <th>06001400500</th>\n",
       "    </tr>\n",
       "  </thead>\n",
       "  <tbody>\n",
       "    <tr>\n",
       "      <th>06001400100</th>\n",
       "      <td>0</td>\n",
       "      <td>2659</td>\n",
       "      <td>3595</td>\n",
       "      <td>3111</td>\n",
       "      <td>3579</td>\n",
       "    </tr>\n",
       "    <tr>\n",
       "      <th>06001400200</th>\n",
       "      <td>2659</td>\n",
       "      <td>0</td>\n",
       "      <td>944</td>\n",
       "      <td>692</td>\n",
       "      <td>1332</td>\n",
       "    </tr>\n",
       "    <tr>\n",
       "      <th>06001400300</th>\n",
       "      <td>3595</td>\n",
       "      <td>944</td>\n",
       "      <td>0</td>\n",
       "      <td>887</td>\n",
       "      <td>1262</td>\n",
       "    </tr>\n",
       "    <tr>\n",
       "      <th>06001400400</th>\n",
       "      <td>3111</td>\n",
       "      <td>692</td>\n",
       "      <td>887</td>\n",
       "      <td>0</td>\n",
       "      <td>640</td>\n",
       "    </tr>\n",
       "    <tr>\n",
       "      <th>06001400500</th>\n",
       "      <td>3579</td>\n",
       "      <td>1332</td>\n",
       "      <td>1262</td>\n",
       "      <td>640</td>\n",
       "      <td>0</td>\n",
       "    </tr>\n",
       "  </tbody>\n",
       "</table>\n",
       "</div>"
      ],
      "text/plain": [
       "             06001400100  06001400200  06001400300  06001400400  06001400500\n",
       "06001400100            0         2659         3595         3111         3579\n",
       "06001400200         2659            0          944          692         1332\n",
       "06001400300         3595          944            0          887         1262\n",
       "06001400400         3111          692          887            0          640\n",
       "06001400500         3579         1332         1262          640            0"
      ]
     },
     "execution_count": 8,
     "metadata": {},
     "output_type": "execute_result"
    }
   ],
   "source": [
    "print(df_gc_dm.shape)\n",
    "print(df_gc_dm.size)\n",
    "df_gc_dm.iloc[:5, :5]"
   ]
  },
  {
   "cell_type": "code",
   "execution_count": 9,
   "metadata": {
    "collapsed": true
   },
   "outputs": [],
   "source": [
    "# save distance matrix to disk\n",
    "df_gc_dm.to_csv(distance_matrix_file, index=True, encoding='utf_8')"
   ]
  },
  {
   "cell_type": "code",
   "execution_count": null,
   "metadata": {
    "collapsed": true
   },
   "outputs": [],
   "source": []
  }
 ],
 "metadata": {
  "kernelspec": {
   "display_name": "Python 2",
   "language": "python",
   "name": "python2"
  },
  "language_info": {
   "codemirror_mode": {
    "name": "ipython",
    "version": 2
   },
   "file_extension": ".py",
   "mimetype": "text/x-python",
   "name": "python",
   "nbconvert_exporter": "python",
   "pygments_lexer": "ipython2",
   "version": "2.7.13"
  }
 },
 "nbformat": 4,
 "nbformat_minor": 2
}
