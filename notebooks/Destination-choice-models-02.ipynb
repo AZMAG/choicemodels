{
 "cells": [
  {
   "cell_type": "markdown",
   "metadata": {},
   "source": [
    "# Exploring destination choice models\n",
    "\n",
    "Sam Maurer, August 2017 | Python 3.6\n",
    "\n",
    "Original version June 2017  \n",
    "Updated Aug 2017 to use new version of the estimation data (see \"Data-prep-02\" notebook)"
   ]
  },
  {
   "cell_type": "code",
   "execution_count": 1,
   "metadata": {
    "collapsed": false
   },
   "outputs": [
    {
     "name": "stderr",
     "output_type": "stream",
     "text": [
      "/Users/maurer/anaconda/lib/python3.6/site-packages/statsmodels/compat/pandas.py:56: FutureWarning: The pandas.core.datetools module is deprecated and will be removed in a future version. Please use the pandas.tseries module instead.\n",
      "  from pandas.core import datetools\n"
     ]
    }
   ],
   "source": [
    "import numpy as np\n",
    "import pandas as pd\n",
    "\n",
    "from patsy import dmatrix\n",
    "from urbansim.urbanchoice import interaction, mnl\n",
    "\n",
    "from choicemodels import MultinomialLogit"
   ]
  },
  {
   "cell_type": "code",
   "execution_count": null,
   "metadata": {
    "collapsed": false
   },
   "outputs": [],
   "source": []
  },
  {
   "cell_type": "markdown",
   "metadata": {},
   "source": [
    "## Load estimation data from disk"
   ]
  },
  {
   "cell_type": "code",
   "execution_count": 3,
   "metadata": {
    "collapsed": true
   },
   "outputs": [],
   "source": [
    "# Suppress scientific notation in the Pandas display output\n",
    "\n",
    "# pd.set_option('display.float_format', lambda x: '%.3f' % x)"
   ]
  },
  {
   "cell_type": "code",
   "execution_count": 2,
   "metadata": {
    "collapsed": false
   },
   "outputs": [
    {
     "name": "stdout",
     "output_type": "stream",
     "text": [
      "1583\n",
      "                   city  home_density  work_density  school_density\n",
      "full_tract_id                                                      \n",
      "6001008309      TIJUANA      0.000000      0.000000        0.000000\n",
      "6001400100     BERKELEY     13.437961     13.130867       13.511570\n",
      "6001400200      OAKLAND     11.089638      4.248928        0.894794\n",
      "6001400300      OAKLAND     28.878399      7.671554        0.000000\n",
      "6001400400      OAKLAND     16.884910      4.063805        8.150402\n"
     ]
    }
   ],
   "source": [
    "tracts = pd.read_csv('../data/tracts_v02.csv').set_index('full_tract_id')\n",
    "\n",
    "print(tracts.shape[0])\n",
    "print(tracts.head())"
   ]
  },
  {
   "cell_type": "code",
   "execution_count": 3,
   "metadata": {
    "collapsed": false
   },
   "outputs": [
    {
     "name": "stdout",
     "output_type": "stream",
     "text": [
      "36764\n",
      "             full_tract_id  mode  trip_distance_miles\n",
      "place_id                                             \n",
      "10319850202     6095251902     5             5.125960\n",
      "10335860102     6085511915     6           156.370628\n",
      "10335860103     6085512027     6             1.615535\n",
      "10335860104     6085512027     6             0.375708\n",
      "10335860105     6085511915     6             0.894730\n"
     ]
    }
   ],
   "source": [
    "trips = pd.read_csv('../data/trips_v02.csv').set_index('place_id')\n",
    "\n",
    "print(trips.shape[0])\n",
    "print(trips.head())"
   ]
  },
  {
   "cell_type": "code",
   "execution_count": null,
   "metadata": {
    "collapsed": true
   },
   "outputs": [],
   "source": []
  },
  {
   "cell_type": "markdown",
   "metadata": {},
   "source": [
    "## MNL destination choice using urbansim.urbanchoice"
   ]
  },
  {
   "cell_type": "code",
   "execution_count": 6,
   "metadata": {
    "collapsed": true
   },
   "outputs": [],
   "source": [
    "# - each trip is a realized choice of a particular census tract\n",
    "# - we can randomly sample alternative census tracts and build a model\n",
    "#   of destination choice"
   ]
  },
  {
   "cell_type": "code",
   "execution_count": 7,
   "metadata": {
    "collapsed": true
   },
   "outputs": [],
   "source": [
    "# `interaction.mnl_interaction_dataset()` is not documented very well, but \n",
    "# this is how it seems to work\n",
    "\n",
    "# Takes following input:\n",
    "# - choosers: pandas.DataFrame with unique index\n",
    "# - alternatives: pandas.DataFrame with unique index\n",
    "# - SAMPLE_SIZE: number of alternatives for each choice scenario\n",
    "# - chosenalts: list containing the alternative id chosen by each chooser?\n",
    "\n",
    "# Returns following output:\n",
    "# - full list of alternatives that were sampled\n",
    "# - long-format DataFrame merging the two tables\n",
    "# - numchoosers X SAMPLE_SIZE matrix representing chosen alternatives"
   ]
  },
  {
   "cell_type": "markdown",
   "metadata": {},
   "source": [
    "### Start with a sample of ~500 trips for easier computation"
   ]
  },
  {
   "cell_type": "code",
   "execution_count": 4,
   "metadata": {
    "collapsed": false
   },
   "outputs": [
    {
     "name": "stdout",
     "output_type": "stream",
     "text": [
      "487\n",
      "             full_tract_id  mode  trip_distance_miles\n",
      "place_id                                             \n",
      "25870990106     6097153902     6             1.538361\n",
      "25255000203     6085505402     5             3.051930\n",
      "23645200205     6081613700     6             3.040237\n",
      "71638550104     6075013300     5             2.607826\n",
      "13820900103     6075017000     5             2.906653\n"
     ]
    }
   ],
   "source": [
    "choosers = trips.loc[np.random.choice(trips.index, 500, replace=False)]\n",
    "choosers = choosers.loc[choosers.trip_distance_miles.notnull()]\n",
    "\n",
    "print(choosers.shape[0])\n",
    "print(choosers.head())"
   ]
  },
  {
   "cell_type": "markdown",
   "metadata": {},
   "source": [
    "### Sample 100 alternatives for each and set up a long-format data table"
   ]
  },
  {
   "cell_type": "code",
   "execution_count": 5,
   "metadata": {
    "collapsed": false
   },
   "outputs": [
    {
     "name": "stdout",
     "output_type": "stream",
     "text": [
      "48700\n",
      "(487, 100)\n"
     ]
    },
    {
     "name": "stderr",
     "output_type": "stream",
     "text": [
      "/Users/maurer/Dropbox/Git-imac/udst/urbansim/urbansim/urbanchoice/interaction.py:83: SettingWithCopyWarning: \n",
      "A value is trying to be set on a copy of a slice from a DataFrame.\n",
      "Try using .loc[row_indexer,col_indexer] = value instead\n",
      "\n",
      "See the caveats in the documentation: http://pandas.pydata.org/pandas-docs/stable/indexing.html#indexing-view-versus-copy\n",
      "  alts_sample['join_index'] = np.repeat(choosers.index.values, SAMPLE_SIZE)\n"
     ]
    }
   ],
   "source": [
    "numalts = 100\n",
    "\n",
    "_, merged, chosen = interaction.mnl_interaction_dataset(\n",
    "    choosers=choosers, alternatives=tracts, SAMPLE_SIZE=numalts, \n",
    "    chosenalts=choosers.full_tract_id)\n",
    "\n",
    "print(merged.shape[0])\n",
    "print(chosen.shape)"
   ]
  },
  {
   "cell_type": "markdown",
   "metadata": {},
   "source": [
    "### Use Patsy to generate the design matrix"
   ]
  },
  {
   "cell_type": "code",
   "execution_count": 6,
   "metadata": {
    "collapsed": false
   },
   "outputs": [
    {
     "name": "stdout",
     "output_type": "stream",
     "text": [
      "               Intercept  home_density  work_density  school_density\n",
      "full_tract_id                                                       \n",
      "6097153902           1.0     26.727745     14.451364        6.962221\n",
      "6081609800           1.0     23.900920      6.500372        0.000000\n",
      "6001407101           1.0     30.019729      0.000000        0.000000\n",
      "6001433700           1.0      0.487064      5.110116        3.144844\n",
      "6085504001           1.0      5.083191      0.724509        0.000000\n"
     ]
    }
   ],
   "source": [
    "model_expression = \"home_density + work_density + school_density\"\n",
    "\n",
    "model_design = dmatrix(model_expression, data=merged, return_type='dataframe')\n",
    "\n",
    "print(model_design.head())"
   ]
  },
  {
   "cell_type": "markdown",
   "metadata": {},
   "source": [
    "### Fit the model using mnl_estimate()"
   ]
  },
  {
   "cell_type": "code",
   "execution_count": 7,
   "metadata": {
    "collapsed": false
   },
   "outputs": [
    {
     "name": "stdout",
     "output_type": "stream",
     "text": [
      "{'null': -2242.7178805762023, 'convergence': -2182.299404558532, 'ratio': 0.026939846755111074}\n",
      "    Coefficient  Std. Error       T-Score\n",
      "0 -3.816825e-18    0.088074 -4.333652e-17\n",
      "1  1.934374e-02    0.004179  4.629110e+00\n",
      "2  1.107013e-02    0.001238  8.939178e+00\n",
      "3  1.658034e-02    0.004241  3.909594e+00\n"
     ]
    },
    {
     "name": "stderr",
     "output_type": "stream",
     "text": [
      "/Users/maurer/Dropbox/Git-imac/udst/urbansim/urbansim/urbanchoice/pmat.py:48: RuntimeWarning: overflow encountered in exp\n",
      "  return PMAT(np.exp(self.mat))\n"
     ]
    }
   ],
   "source": [
    "log_likelihoods, fit_parameters = mnl.mnl_estimate(\n",
    "    model_design.as_matrix(), chosen, numalts=numalts)\n",
    "\n",
    "print(log_likelihoods)\n",
    "print(fit_parameters)"
   ]
  },
  {
   "cell_type": "code",
   "execution_count": null,
   "metadata": {
    "collapsed": true
   },
   "outputs": [],
   "source": []
  },
  {
   "cell_type": "markdown",
   "metadata": {},
   "source": [
    "## NEW -- Same process in ChoiceModels"
   ]
  },
  {
   "cell_type": "code",
   "execution_count": 8,
   "metadata": {
    "collapsed": true
   },
   "outputs": [],
   "source": [
    "from choicemodels import MultinomialLogit\n",
    "from choicemodels.tools import MergedChoiceTable"
   ]
  },
  {
   "cell_type": "code",
   "execution_count": 9,
   "metadata": {
    "collapsed": false
   },
   "outputs": [
    {
     "name": "stdout",
     "output_type": "stream",
     "text": [
      "487\n"
     ]
    }
   ],
   "source": [
    "# Start with the same sample of trips\n",
    "\n",
    "print(choosers.shape[0])"
   ]
  },
  {
   "cell_type": "markdown",
   "metadata": {},
   "source": [
    "### Merge choosers and alternatives using a new ChoiceModels interface"
   ]
  },
  {
   "cell_type": "code",
   "execution_count": 10,
   "metadata": {
    "collapsed": false
   },
   "outputs": [
    {
     "name": "stdout",
     "output_type": "stream",
     "text": [
      "<class 'choicemodels.tools.interaction.MergedChoiceTable'>\n",
      "48700\n"
     ]
    },
    {
     "name": "stderr",
     "output_type": "stream",
     "text": [
      "/Users/maurer/Dropbox/Git-imac/udst/choicemodels/choicemodels/tools/interaction.py:221: SettingWithCopyWarning: \n",
      "A value is trying to be set on a copy of a slice from a DataFrame.\n",
      "Try using .loc[row_indexer,col_indexer] = value instead\n",
      "\n",
      "See the caveats in the documentation: http://pandas.pydata.org/pandas-docs/stable/indexing.html#indexing-view-versus-copy\n",
      "  alts_sample['join_index'] = np.repeat(choosers.index.values, SAMPLE_SIZE)\n"
     ]
    }
   ],
   "source": [
    "merged = MergedChoiceTable(observations = choosers, \n",
    "                           alternatives = tracts, \n",
    "                           chosen_alternatives = choosers.full_tract_id, \n",
    "                           sample_size = numalts)\n",
    "\n",
    "print(type(merged))\n",
    "print(merged.to_frame().shape[0])"
   ]
  },
  {
   "cell_type": "markdown",
   "metadata": {},
   "source": [
    "### Estimate a model using the ChoiceModels engine"
   ]
  },
  {
   "cell_type": "code",
   "execution_count": 11,
   "metadata": {
    "collapsed": false
   },
   "outputs": [
    {
     "name": "stdout",
     "output_type": "stream",
     "text": [
      "                  CHOICEMODELS ESTIMATION RESULTS                  \n",
      "===================================================================\n",
      "Dep. Var.:                chosen   No. Observations:               \n",
      "Model:         Multinomial Logit   Df Residuals:                   \n",
      "Method:       Maximum Likelihood   Df Model:                       \n",
      "Date:                              Pseudo R-squ.:                  \n",
      "Time:                              Pseudo R-bar-squ.:              \n",
      "AIC:                               Log-Likelihood:       -2,183.890\n",
      "BIC:                               LL-Null:              -2,242.718\n",
      "===================================================================\n",
      "                    coef   std err         z     P>|z|   Conf. Int.\n",
      "-------------------------------------------------------------------\n",
      "home_density      0.0196     0.003     7.675                       \n",
      "work_density      0.0111     0.001     8.993                       \n",
      "school_density    0.0158     0.004     3.826                       \n",
      "===================================================================\n",
      "CPU times: user 146 ms, sys: 4.39 ms, total: 151 ms\n",
      "Wall time: 48.6 ms\n"
     ]
    },
    {
     "name": "stderr",
     "output_type": "stream",
     "text": [
      "/Users/maurer/Dropbox/Git-imac/udst/choicemodels/choicemodels/tools/pmat.py:48: RuntimeWarning: overflow encountered in exp\n",
      "  return PMAT(np.exp(self.mat))\n"
     ]
    }
   ],
   "source": [
    "%%time\n",
    "model_expression = \"home_density + work_density + school_density - 1\"\n",
    "\n",
    "model = MultinomialLogit(data = merged.to_frame(), \n",
    "                         observation_id_col = merged.observation_id_col, \n",
    "                         choice_col = merged.choice_col,\n",
    "                         model_expression = model_expression)\n",
    "\n",
    "results = model.fit()\n",
    "print(results)"
   ]
  },
  {
   "cell_type": "code",
   "execution_count": 12,
   "metadata": {
    "collapsed": false
   },
   "outputs": [
    {
     "name": "stdout",
     "output_type": "stream",
     "text": [
      "<class 'choicemodels.mnl.MultinomialLogitResults'>\n"
     ]
    }
   ],
   "source": [
    "print(type(results))"
   ]
  },
  {
   "cell_type": "markdown",
   "metadata": {},
   "source": [
    "### Estimate a model using the PyLogit engine\n",
    "\n",
    "Usage is the same, but with an OrderedDict model expression"
   ]
  },
  {
   "cell_type": "code",
   "execution_count": 13,
   "metadata": {
    "collapsed": true
   },
   "outputs": [],
   "source": [
    "from collections import OrderedDict"
   ]
  },
  {
   "cell_type": "code",
   "execution_count": 14,
   "metadata": {
    "collapsed": false
   },
   "outputs": [
    {
     "name": "stdout",
     "output_type": "stream",
     "text": [
      "Log-likelihood at zero: -2,242.7179\n",
      "Initial Log-likelihood: -2,242.7179\n",
      "Estimation Time: 0.06 seconds.\n",
      "Final log-likelihood: -2,183.8902\n"
     ]
    },
    {
     "name": "stderr",
     "output_type": "stream",
     "text": [
      "/Users/maurer/anaconda/lib/python3.6/site-packages/scipy/optimize/_minimize.py:385: RuntimeWarning: Method BFGS does not use Hessian information (hess).\n",
      "  RuntimeWarning)\n"
     ]
    },
    {
     "name": "stdout",
     "output_type": "stream",
     "text": [
      "                     Multinomial Logit Model Regression Results                    \n",
      "===================================================================================\n",
      "Dep. Variable:                      chosen   No. Observations:                  487\n",
      "Model:             Multinomial Logit Model   Df Residuals:                      484\n",
      "Method:                                MLE   Df Model:                            3\n",
      "Date:                     Thu, 10 Aug 2017   Pseudo R-squ.:                   0.026\n",
      "Time:                             11:14:28   Pseudo R-bar-squ.:               0.025\n",
      "AIC:                             4,373.780   Log-Likelihood:             -2,183.890\n",
      "BIC:                             4,386.345   LL-Null:                    -2,242.718\n",
      "==================================================================================\n",
      "                     coef    std err          z      P>|z|      [0.025      0.975]\n",
      "----------------------------------------------------------------------------------\n",
      "home_density       0.0196      0.004      4.820      0.000       0.012       0.028\n",
      "work_density       0.0111      0.001      9.964      0.000       0.009       0.013\n",
      "school_density     0.0158      0.004      4.037      0.000       0.008       0.023\n",
      "==================================================================================\n",
      "CPU times: user 13.3 s, sys: 14 s, total: 27.3 s\n",
      "Wall time: 12.8 s\n"
     ]
    }
   ],
   "source": [
    "%%time\n",
    "model_expression = OrderedDict([('home_density', 'all_same'),\n",
    "                                ('work_density', 'all_same'),\n",
    "                                ('school_density', 'all_same')])\n",
    "\n",
    "model = MultinomialLogit(data = merged.to_frame(),\n",
    "                         observation_id_col = merged.observation_id_col,\n",
    "                         alternative_id_col = merged.alternative_id_col,\n",
    "                         choice_col = merged.choice_col,\n",
    "                         model_expression = model_expression)\n",
    "\n",
    "results = model.fit()\n",
    "print(results)"
   ]
  },
  {
   "cell_type": "code",
   "execution_count": null,
   "metadata": {
    "collapsed": true
   },
   "outputs": [],
   "source": []
  },
  {
   "cell_type": "code",
   "execution_count": null,
   "metadata": {
    "collapsed": true
   },
   "outputs": [],
   "source": []
  },
  {
   "cell_type": "code",
   "execution_count": null,
   "metadata": {
    "collapsed": true
   },
   "outputs": [],
   "source": []
  },
  {
   "cell_type": "code",
   "execution_count": null,
   "metadata": {
    "collapsed": true
   },
   "outputs": [],
   "source": []
  },
  {
   "cell_type": "code",
   "execution_count": null,
   "metadata": {
    "collapsed": true
   },
   "outputs": [],
   "source": []
  },
  {
   "cell_type": "code",
   "execution_count": null,
   "metadata": {
    "collapsed": true
   },
   "outputs": [],
   "source": []
  }
 ],
 "metadata": {
  "kernelspec": {
   "display_name": "Python 3",
   "language": "python",
   "name": "python3"
  },
  "language_info": {
   "codemirror_mode": {
    "name": "ipython",
    "version": 3
   },
   "file_extension": ".py",
   "mimetype": "text/x-python",
   "name": "python",
   "nbconvert_exporter": "python",
   "pygments_lexer": "ipython3",
   "version": "3.6.0"
  }
 },
 "nbformat": 4,
 "nbformat_minor": 2
}
