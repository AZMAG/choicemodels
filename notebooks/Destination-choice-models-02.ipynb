{
 "cells": [
  {
   "cell_type": "markdown",
   "metadata": {},
   "source": [
    "# Exploring destination choice models\n",
    "\n",
    "Sam Maurer, August 2017 | Python 3.6\n",
    "\n",
    "Original version June 2017 (v01)  \n",
    "Updated Aug 2017 (v02) to use new version of the estimation data (see \"Data-prep-02\" notebook)"
   ]
  },
  {
   "cell_type": "code",
   "execution_count": 1,
   "metadata": {
    "collapsed": false
   },
   "outputs": [
    {
     "name": "stderr",
     "output_type": "stream",
     "text": [
      "/Users/maurer/anaconda/lib/python3.6/site-packages/statsmodels/compat/pandas.py:56: FutureWarning: The pandas.core.datetools module is deprecated and will be removed in a future version. Please use the pandas.tseries module instead.\n",
      "  from pandas.core import datetools\n"
     ]
    }
   ],
   "source": [
    "import numpy as np\n",
    "import pandas as pd\n",
    "\n",
    "from patsy import dmatrix\n",
    "from urbansim.urbanchoice import interaction, mnl\n",
    "\n",
    "from choicemodels import MultinomialLogit"
   ]
  },
  {
   "cell_type": "code",
   "execution_count": null,
   "metadata": {
    "collapsed": false
   },
   "outputs": [],
   "source": []
  },
  {
   "cell_type": "markdown",
   "metadata": {},
   "source": [
    "## Load estimation data from disk"
   ]
  },
  {
   "cell_type": "code",
   "execution_count": 2,
   "metadata": {
    "collapsed": false
   },
   "outputs": [
    {
     "name": "stdout",
     "output_type": "stream",
     "text": [
      "1583\n",
      "                   city  home_density  work_density  school_density\n",
      "full_tract_id                                                      \n",
      "6001008309      TIJUANA      0.000000      0.000000        0.000000\n",
      "6001400100     BERKELEY     13.437961     13.130867       13.511570\n",
      "6001400200      OAKLAND     11.089638      4.248928        0.894794\n",
      "6001400300      OAKLAND     28.878399      7.671554        0.000000\n",
      "6001400400      OAKLAND     16.884910      4.063805        8.150402\n"
     ]
    }
   ],
   "source": [
    "tracts = pd.read_csv('../data/tracts_v02.csv').set_index('full_tract_id')\n",
    "\n",
    "print(tracts.shape[0])\n",
    "print(tracts.head())"
   ]
  },
  {
   "cell_type": "code",
   "execution_count": 3,
   "metadata": {
    "collapsed": false
   },
   "outputs": [
    {
     "name": "stdout",
     "output_type": "stream",
     "text": [
      "36764\n",
      "             full_tract_id  mode  trip_distance_miles\n",
      "place_id                                             \n",
      "10319850202     6095251902     5             5.125960\n",
      "10335860102     6085511915     6           156.370628\n",
      "10335860103     6085512027     6             1.615535\n",
      "10335860104     6085512027     6             0.375708\n",
      "10335860105     6085511915     6             0.894730\n"
     ]
    }
   ],
   "source": [
    "trips = pd.read_csv('../data/trips_v02.csv').set_index('place_id')\n",
    "\n",
    "print(trips.shape[0])\n",
    "print(trips.head())"
   ]
  },
  {
   "cell_type": "code",
   "execution_count": null,
   "metadata": {
    "collapsed": true
   },
   "outputs": [],
   "source": []
  },
  {
   "cell_type": "markdown",
   "metadata": {},
   "source": [
    "## MNL destination choice using urbansim.urbanchoice"
   ]
  },
  {
   "cell_type": "code",
   "execution_count": 4,
   "metadata": {
    "collapsed": true
   },
   "outputs": [],
   "source": [
    "# - each trip is a realized choice of a particular census tract\n",
    "# - we can randomly sample alternative census tracts and build a model\n",
    "#   of destination choice"
   ]
  },
  {
   "cell_type": "code",
   "execution_count": 5,
   "metadata": {
    "collapsed": true
   },
   "outputs": [],
   "source": [
    "# `interaction.mnl_interaction_dataset()` is not documented very well, but \n",
    "# this is how it seems to work\n",
    "\n",
    "# Takes following input:\n",
    "# - choosers: pandas.DataFrame with unique index\n",
    "# - alternatives: pandas.DataFrame with unique index\n",
    "# - SAMPLE_SIZE: number of alternatives for each choice scenario\n",
    "# - chosenalts: list containing the alternative id chosen by each chooser?\n",
    "\n",
    "# Returns following output:\n",
    "# - full list of alternatives that were sampled\n",
    "# - long-format DataFrame merging the two tables\n",
    "# - numchoosers X SAMPLE_SIZE matrix representing chosen alternatives"
   ]
  },
  {
   "cell_type": "markdown",
   "metadata": {},
   "source": [
    "### Start with a sample of ~500 trips for easier computation"
   ]
  },
  {
   "cell_type": "code",
   "execution_count": 6,
   "metadata": {
    "collapsed": false
   },
   "outputs": [
    {
     "name": "stdout",
     "output_type": "stream",
     "text": [
      "490\n",
      "             full_tract_id  mode  trip_distance_miles\n",
      "place_id                                             \n",
      "19752330105     6085504307     1             0.180822\n",
      "29323050204     6013353002     5            98.121255\n",
      "22399690108     6085511301     1             0.439090\n",
      "71966460103     6013364002     6             2.981047\n",
      "13433100102     6013369001     5             1.989993\n"
     ]
    }
   ],
   "source": [
    "choosers = trips.loc[np.random.choice(trips.index, 500, replace=False)]\n",
    "choosers = choosers.loc[choosers.trip_distance_miles.notnull()]\n",
    "\n",
    "print(choosers.shape[0])\n",
    "print(choosers.head())"
   ]
  },
  {
   "cell_type": "markdown",
   "metadata": {},
   "source": [
    "### Sample 100 alternatives for each and set up a long-format data table"
   ]
  },
  {
   "cell_type": "code",
   "execution_count": 7,
   "metadata": {
    "collapsed": false
   },
   "outputs": [
    {
     "name": "stdout",
     "output_type": "stream",
     "text": [
      "49000\n",
      "(490, 100)\n"
     ]
    },
    {
     "name": "stderr",
     "output_type": "stream",
     "text": [
      "/Users/maurer/Dropbox/Git-imac/udst/urbansim/urbansim/urbanchoice/interaction.py:83: SettingWithCopyWarning: \n",
      "A value is trying to be set on a copy of a slice from a DataFrame.\n",
      "Try using .loc[row_indexer,col_indexer] = value instead\n",
      "\n",
      "See the caveats in the documentation: http://pandas.pydata.org/pandas-docs/stable/indexing.html#indexing-view-versus-copy\n",
      "  alts_sample['join_index'] = np.repeat(choosers.index.values, SAMPLE_SIZE)\n"
     ]
    }
   ],
   "source": [
    "numalts = 100\n",
    "\n",
    "_, merged, chosen = interaction.mnl_interaction_dataset(\n",
    "    choosers=choosers, alternatives=tracts, SAMPLE_SIZE=numalts, \n",
    "    chosenalts=choosers.full_tract_id)\n",
    "\n",
    "print(merged.shape[0])\n",
    "print(chosen.shape)"
   ]
  },
  {
   "cell_type": "markdown",
   "metadata": {},
   "source": [
    "### Use Patsy to generate the design matrix"
   ]
  },
  {
   "cell_type": "code",
   "execution_count": 8,
   "metadata": {
    "collapsed": false
   },
   "outputs": [
    {
     "name": "stdout",
     "output_type": "stream",
     "text": [
      "               Intercept  home_density  work_density  school_density\n",
      "full_tract_id                                                       \n",
      "6085504307           1.0     24.146421      0.000000        3.920454\n",
      "6001436300           1.0     12.043594      2.008506        2.059304\n",
      "6075011800           1.0      0.000000      5.268535        0.000000\n",
      "6097151203           1.0     12.129010      0.321506        0.000000\n",
      "6013312000           1.0     16.447524      5.608611        0.000000\n"
     ]
    }
   ],
   "source": [
    "model_expression = \"home_density + work_density + school_density\"\n",
    "\n",
    "model_design = dmatrix(model_expression, data=merged, return_type='dataframe')\n",
    "\n",
    "print(model_design.head())"
   ]
  },
  {
   "cell_type": "markdown",
   "metadata": {},
   "source": [
    "### Fit the model using mnl_estimate()"
   ]
  },
  {
   "cell_type": "code",
   "execution_count": 9,
   "metadata": {
    "collapsed": false
   },
   "outputs": [
    {
     "name": "stdout",
     "output_type": "stream",
     "text": [
      "{'null': -2256.5333911341672, 'convergence': -2204.0167766232917, 'ratio': 0.023273138663585158}\n",
      "    Coefficient  Std. Error       T-Score\n",
      "0 -2.783576e-16    0.085960 -3.238205e-15\n",
      "1  1.294233e-02    0.004293  3.014600e+00\n",
      "2  1.105461e-02    0.001206  9.165657e+00\n",
      "3  1.325068e-02    0.004052  3.270132e+00\n"
     ]
    },
    {
     "name": "stderr",
     "output_type": "stream",
     "text": [
      "/Users/maurer/Dropbox/Git-imac/udst/urbansim/urbansim/urbanchoice/pmat.py:48: RuntimeWarning: overflow encountered in exp\n",
      "  return PMAT(np.exp(self.mat))\n"
     ]
    }
   ],
   "source": [
    "log_likelihoods, fit_parameters = mnl.mnl_estimate(\n",
    "    model_design.as_matrix(), chosen, numalts=numalts)\n",
    "\n",
    "print(log_likelihoods)\n",
    "print(fit_parameters)"
   ]
  },
  {
   "cell_type": "code",
   "execution_count": null,
   "metadata": {
    "collapsed": true
   },
   "outputs": [],
   "source": []
  },
  {
   "cell_type": "markdown",
   "metadata": {},
   "source": [
    "## NEW -- Same process in ChoiceModels"
   ]
  },
  {
   "cell_type": "code",
   "execution_count": 10,
   "metadata": {
    "collapsed": true
   },
   "outputs": [],
   "source": [
    "from choicemodels import MultinomialLogit\n",
    "from choicemodels.tools import MergedChoiceTable"
   ]
  },
  {
   "cell_type": "code",
   "execution_count": 11,
   "metadata": {
    "collapsed": false
   },
   "outputs": [
    {
     "name": "stdout",
     "output_type": "stream",
     "text": [
      "490\n"
     ]
    }
   ],
   "source": [
    "# Start with the same sample of trips\n",
    "\n",
    "print(choosers.shape[0])"
   ]
  },
  {
   "cell_type": "markdown",
   "metadata": {},
   "source": [
    "### Merge choosers and alternatives using a new ChoiceModels interface"
   ]
  },
  {
   "cell_type": "code",
   "execution_count": 12,
   "metadata": {
    "collapsed": false
   },
   "outputs": [
    {
     "name": "stdout",
     "output_type": "stream",
     "text": [
      "<class 'choicemodels.tools.interaction.MergedChoiceTable'>\n",
      "49000\n"
     ]
    }
   ],
   "source": [
    "merged = MergedChoiceTable(observations = choosers, \n",
    "                           alternatives = tracts, \n",
    "                           chosen_alternatives = choosers.full_tract_id, \n",
    "                           sample_size = numalts)\n",
    "\n",
    "print(type(merged))\n",
    "print(merged.to_frame().shape[0])"
   ]
  },
  {
   "cell_type": "markdown",
   "metadata": {},
   "source": [
    "### Estimate a model using the ChoiceModels engine"
   ]
  },
  {
   "cell_type": "code",
   "execution_count": 13,
   "metadata": {
    "collapsed": false
   },
   "outputs": [
    {
     "name": "stderr",
     "output_type": "stream",
     "text": [
      "/Users/maurer/Dropbox/Git-imac/udst/choicemodels/choicemodels/tools/pmat.py:48: RuntimeWarning: overflow encountered in exp\n",
      "  return PMAT(np.exp(self.mat))\n"
     ]
    },
    {
     "name": "stdout",
     "output_type": "stream",
     "text": [
      "                  CHOICEMODELS ESTIMATION RESULTS                  \n",
      "===================================================================\n",
      "Dep. Var.:                chosen   No. Observations:               \n",
      "Model:         Multinomial Logit   Df Residuals:                   \n",
      "Method:       Maximum Likelihood   Df Model:                       \n",
      "Date:                              Pseudo R-squ.:                  \n",
      "Time:                              Pseudo R-bar-squ.:              \n",
      "AIC:                               Log-Likelihood:       -2,200.702\n",
      "BIC:                               LL-Null:              -2,256.533\n",
      "===================================================================\n",
      "                    coef   std err         z     P>|z|   Conf. Int.\n",
      "-------------------------------------------------------------------\n",
      "home_density      0.0136     0.003     5.154                       \n",
      "work_density      0.0119     0.001     9.987                       \n",
      "school_density    0.0129     0.004     3.251                       \n",
      "===================================================================\n",
      "CPU times: user 248 ms, sys: 8.24 ms, total: 256 ms\n",
      "Wall time: 65.5 ms\n"
     ]
    }
   ],
   "source": [
    "%%time\n",
    "model_expression = \"home_density + work_density + school_density - 1\"\n",
    "\n",
    "model = MultinomialLogit(data = merged.to_frame(), \n",
    "                         observation_id_col = merged.observation_id_col, \n",
    "                         choice_col = merged.choice_col,\n",
    "                         model_expression = model_expression)\n",
    "\n",
    "results = model.fit()\n",
    "print(results)"
   ]
  },
  {
   "cell_type": "code",
   "execution_count": 14,
   "metadata": {
    "collapsed": false
   },
   "outputs": [
    {
     "name": "stdout",
     "output_type": "stream",
     "text": [
      "<class 'choicemodels.mnl.MultinomialLogitResults'>\n"
     ]
    }
   ],
   "source": [
    "print(type(results))"
   ]
  },
  {
   "cell_type": "markdown",
   "metadata": {},
   "source": [
    "### Estimate a model using the PyLogit engine\n",
    "\n",
    "Usage is the same, but with an OrderedDict model expression"
   ]
  },
  {
   "cell_type": "code",
   "execution_count": 15,
   "metadata": {
    "collapsed": true
   },
   "outputs": [],
   "source": [
    "from collections import OrderedDict"
   ]
  },
  {
   "cell_type": "code",
   "execution_count": 16,
   "metadata": {
    "collapsed": false
   },
   "outputs": [
    {
     "name": "stdout",
     "output_type": "stream",
     "text": [
      "Log-likelihood at zero: -2,256.5334\n",
      "Initial Log-likelihood: -2,256.5334\n",
      "Estimation Time: 0.09 seconds.\n",
      "Final log-likelihood: -2,200.7021\n"
     ]
    },
    {
     "name": "stderr",
     "output_type": "stream",
     "text": [
      "/Users/maurer/anaconda/lib/python3.6/site-packages/scipy/optimize/_minimize.py:385: RuntimeWarning: Method BFGS does not use Hessian information (hess).\n",
      "  RuntimeWarning)\n"
     ]
    },
    {
     "name": "stdout",
     "output_type": "stream",
     "text": [
      "                     Multinomial Logit Model Regression Results                    \n",
      "===================================================================================\n",
      "Dep. Variable:                      chosen   No. Observations:                  490\n",
      "Model:             Multinomial Logit Model   Df Residuals:                      487\n",
      "Method:                                MLE   Df Model:                            3\n",
      "Date:                     Thu, 10 Aug 2017   Pseudo R-squ.:                   0.025\n",
      "Time:                             12:50:46   Pseudo R-bar-squ.:               0.023\n",
      "AIC:                             4,407.404   Log-Likelihood:             -2,200.702\n",
      "BIC:                             4,419.987   LL-Null:                    -2,256.533\n",
      "==================================================================================\n",
      "                     coef    std err          z      P>|z|      [0.025      0.975]\n",
      "----------------------------------------------------------------------------------\n",
      "home_density       0.0136      0.004      3.295      0.001       0.006       0.022\n",
      "work_density       0.0119      0.001     11.001      0.000       0.010       0.014\n",
      "school_density     0.0129      0.004      3.231      0.001       0.005       0.021\n",
      "==================================================================================\n",
      "CPU times: user 13 s, sys: 12.9 s, total: 25.9 s\n",
      "Wall time: 11.5 s\n"
     ]
    }
   ],
   "source": [
    "%%time\n",
    "model_expression = OrderedDict([('home_density', 'all_same'),\n",
    "                                ('work_density', 'all_same'),\n",
    "                                ('school_density', 'all_same')])\n",
    "\n",
    "model = MultinomialLogit(data = merged.to_frame(),\n",
    "                         observation_id_col = merged.observation_id_col,\n",
    "                         alternative_id_col = merged.alternative_id_col,\n",
    "                         choice_col = merged.choice_col,\n",
    "                         model_expression = model_expression)\n",
    "\n",
    "results = model.fit()\n",
    "print(results)"
   ]
  },
  {
   "cell_type": "code",
   "execution_count": null,
   "metadata": {
    "collapsed": true
   },
   "outputs": [],
   "source": []
  },
  {
   "cell_type": "code",
   "execution_count": null,
   "metadata": {
    "collapsed": true
   },
   "outputs": [],
   "source": []
  },
  {
   "cell_type": "code",
   "execution_count": null,
   "metadata": {
    "collapsed": true
   },
   "outputs": [],
   "source": []
  },
  {
   "cell_type": "code",
   "execution_count": null,
   "metadata": {
    "collapsed": true
   },
   "outputs": [],
   "source": []
  },
  {
   "cell_type": "code",
   "execution_count": null,
   "metadata": {
    "collapsed": true
   },
   "outputs": [],
   "source": []
  },
  {
   "cell_type": "code",
   "execution_count": null,
   "metadata": {
    "collapsed": true
   },
   "outputs": [],
   "source": []
  }
 ],
 "metadata": {
  "kernelspec": {
   "display_name": "Python 3",
   "language": "python",
   "name": "python3"
  },
  "language_info": {
   "codemirror_mode": {
    "name": "ipython",
    "version": 3
   },
   "file_extension": ".py",
   "mimetype": "text/x-python",
   "name": "python",
   "nbconvert_exporter": "python",
   "pygments_lexer": "ipython3",
   "version": "3.6.0"
  }
 },
 "nbformat": 4,
 "nbformat_minor": 2
}
