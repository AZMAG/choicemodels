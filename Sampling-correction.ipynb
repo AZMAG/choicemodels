{
 "cells": [
  {
   "cell_type": "markdown",
   "metadata": {},
   "source": [
    "# Sampling correction for large choice sets"
   ]
  },
  {
   "cell_type": "markdown",
   "metadata": {},
   "source": [
    "1. Replicate synthetic data from Guevara & Ben-Akiva 2013\n",
    "2. Do MNL with and without sampling correction\n",
    "3. Check whether parameter estimates deviate from true values\n",
    "4. Extend to Mixed Logit"
   ]
  },
  {
   "cell_type": "code",
   "execution_count": null,
   "metadata": {
    "collapsed": true
   },
   "outputs": [],
   "source": []
  },
  {
   "cell_type": "markdown",
   "metadata": {
    "collapsed": true
   },
   "source": [
    "## 1. Generate synthetic data set"
   ]
  },
  {
   "cell_type": "markdown",
   "metadata": {},
   "source": [
    "- N = 1000 observations\n",
    "- J = 1000 alternatives for all observations (C_n = C)\n",
    "- X = single attribute distributed Uniform(-2,1) for the first 500 alternatives and Uniform(-1,2) for the second half\n",
    "- beta = generic linear taste coefficient, distributed Normal(mu=1.5, sigma=0.8) across the 1000 observations\n",
    "- systematic utility = beta * X\n",
    "- epsilon = error term distributed ExtremeValue(0,1)\n",
    "- random utility = beta * X + epsilon\n",
    "\n",
    "Utility of alternative i for agent n:\n",
    "$$ U_{in} = V_{in} + \\varepsilon_{in} = \\beta_n x_{i} + \\varepsilon_{in} $$\n",
    "\n",
    "Probability that agent n will choose alternative i:\n",
    "$$ L_n(i \\mid \\beta_n, x_n,C_n) = \\frac {e^{V_{in}}} {\\sum_{j \\epsilon C_n} e^{V_{jn}}} $$"
   ]
  },
  {
   "cell_type": "code",
   "execution_count": null,
   "metadata": {
    "collapsed": true
   },
   "outputs": [],
   "source": []
  },
  {
   "cell_type": "code",
   "execution_count": 2,
   "metadata": {
    "collapsed": true
   },
   "outputs": [],
   "source": [
    "import numpy as np\n",
    "import pandas as pd"
   ]
  },
  {
   "cell_type": "code",
   "execution_count": 3,
   "metadata": {
    "collapsed": false
   },
   "outputs": [
    {
     "name": "stdout",
     "output_type": "stream",
     "text": [
      "50\n",
      "[-1.53751147  0.22014909 -1.21005495 -0.39878182 -1.95627511]\n"
     ]
    }
   ],
   "source": [
    "# Generate attribute x for each of J alternatives\n",
    "\n",
    "# Set a seed for reproducibility\n",
    "np.random.seed(12)\n",
    "\n",
    "# Start with J << 1000 to speed up runtimes\n",
    "\n",
    "J = 50  # alternatives\n",
    "\n",
    "Xa = 3 * np.random.rand(J/2) - 2  # uniform distribution over [-2, 1]\n",
    "Xb = 3 * np.random.rand(J/2) - 1  # uniform distribution over [-1, 2]\n",
    "\n",
    "X = np.concatenate((Xa, Xb))\n",
    "\n",
    "print len(X)\n",
    "print X[:5]"
   ]
  },
  {
   "cell_type": "code",
   "execution_count": 4,
   "metadata": {
    "collapsed": false
   },
   "outputs": [
    {
     "name": "stdout",
     "output_type": "stream",
     "text": [
      "1000\n",
      "[ 1.5  1.5  1.5  1.5  1.5]\n"
     ]
    }
   ],
   "source": [
    "# Generate taste coefficient beta for each of N agents \n",
    "\n",
    "# For regular MNL, i think we need to use a single value, instead of a \n",
    "# distribution as Guevara & Ben-Akiva used for the mixture model\n",
    "\n",
    "N = 1000  # agents/observations\n",
    "\n",
    "beta = np.zeros(1000) + 1.5\n",
    "# beta = 0.8 * np.random.randn(N) + 1.5\n",
    "\n",
    "print len(beta)\n",
    "print beta[:5]"
   ]
  },
  {
   "cell_type": "code",
   "execution_count": null,
   "metadata": {
    "collapsed": false
   },
   "outputs": [],
   "source": [
    "print pd.DataFrame(beta).describe()"
   ]
  },
  {
   "cell_type": "code",
   "execution_count": 5,
   "metadata": {
    "collapsed": false
   },
   "outputs": [
    {
     "name": "stdout",
     "output_type": "stream",
     "text": [
      "(1000, 50)\n"
     ]
    }
   ],
   "source": [
    "# Generate probability matrix for N agents choosing among J alternatives\n",
    "\n",
    "def probs(n):\n",
    "    ''' \n",
    "    Return list of J probabilities for agent n\n",
    "    '''\n",
    "    b = beta[n]\n",
    "    exps = [np.exp(b*x) for x in X]\n",
    "    sum_exps = np.sum(exps)\n",
    "    return [exp/sum_exps for exp in exps]\n",
    "\n",
    "P = np.array([probs(n) for n in range(N)])\n",
    "    \n",
    "print P.shape"
   ]
  },
  {
   "cell_type": "code",
   "execution_count": 6,
   "metadata": {
    "collapsed": false
   },
   "outputs": [
    {
     "name": "stdout",
     "output_type": "stream",
     "text": [
      "[ 1.  1.  1.  1.  1.  1.  1.  1.  1.  1.]\n"
     ]
    }
   ],
   "source": [
    "# Check that each row sums to 1\n",
    "\n",
    "print np.sum(P, axis=1)[:10]"
   ]
  },
  {
   "cell_type": "code",
   "execution_count": 7,
   "metadata": {
    "collapsed": false
   },
   "outputs": [
    {
     "name": "stdout",
     "output_type": "stream",
     "text": [
      "1000\n",
      "[12, 41, 37, 5, 30, 27, 8, 35, 33, 6]\n"
     ]
    }
   ],
   "source": [
    "# Simulate a choice from J alternatives for each of N agents\n",
    "\n",
    "C = [np.random.choice(range(J), p=p) for p in P]\n",
    "\n",
    "print len(C)\n",
    "print C[:10]"
   ]
  },
  {
   "cell_type": "markdown",
   "metadata": {
    "collapsed": true
   },
   "source": [
    "#### Now we have data:\n",
    "\n",
    "- N agents/observations with true taste coefficients in array \"beta\"\n",
    "- J alternatives with single attributes in array \"X\"\n",
    "- N choice outcomes in array \"C\""
   ]
  },
  {
   "cell_type": "code",
   "execution_count": null,
   "metadata": {
    "collapsed": false
   },
   "outputs": [],
   "source": []
  },
  {
   "cell_type": "markdown",
   "metadata": {},
   "source": [
    "## 2. Estimate beta without sampling, using PyLogit MNL"
   ]
  },
  {
   "cell_type": "code",
   "execution_count": 8,
   "metadata": {
    "collapsed": true
   },
   "outputs": [],
   "source": [
    "import pylogit\n",
    "from collections import OrderedDict"
   ]
  },
  {
   "cell_type": "code",
   "execution_count": 9,
   "metadata": {
    "collapsed": false
   },
   "outputs": [
    {
     "name": "stdout",
     "output_type": "stream",
     "text": [
      "50000\n"
     ]
    }
   ],
   "source": [
    "# Set up an estimation dataset in long format\n",
    "\n",
    "d = [[n, i, int(C[n]==i), X[i]] for n in range(N) for i in range(J)]\n",
    "\n",
    "print len(d)"
   ]
  },
  {
   "cell_type": "code",
   "execution_count": 10,
   "metadata": {
    "collapsed": false
   },
   "outputs": [
    {
     "name": "stdout",
     "output_type": "stream",
     "text": [
      "             obs_id        alt_id        choice             x\n",
      "count  50000.000000  50000.000000  50000.000000  50000.000000\n",
      "mean     499.500000     24.500000      0.020000      0.014570\n",
      "std      288.677877     14.431014      0.140001      1.116965\n",
      "min        0.000000      0.000000      0.000000     -1.993222\n",
      "25%      249.750000     12.000000      0.000000     -0.894495\n",
      "50%      499.500000     24.500000      0.000000      0.220035\n",
      "75%      749.250000     37.000000      0.000000      0.832675\n",
      "max      999.000000     49.000000      1.000000      1.985414\n"
     ]
    }
   ],
   "source": [
    "df = pd.DataFrame(d, columns=['obs_id', 'alt_id', 'choice', 'x'])\n",
    "\n",
    "print df.describe()"
   ]
  },
  {
   "cell_type": "code",
   "execution_count": 11,
   "metadata": {
    "collapsed": false
   },
   "outputs": [],
   "source": [
    "# Set up model spec\n",
    "\n",
    "spec = OrderedDict([\n",
    "        ('x', [range(J)])\n",
    "    ])\n",
    "\n",
    "labels = OrderedDict([\n",
    "        ('x', ['beta_x'])\n",
    "    ])"
   ]
  },
  {
   "cell_type": "code",
   "execution_count": 20,
   "metadata": {
    "collapsed": false
   },
   "outputs": [
    {
     "name": "stdout",
     "output_type": "stream",
     "text": [
      "Log-likelihood at zero: -3,912.0230\n",
      "Initial Log-likelihood: -3,912.0230\n",
      "Estimation Time: 0.06 seconds.\n",
      "Final log-likelihood: -3,065.1983\n",
      "                     Multinomial Logit Model Regression Results                    \n",
      "===================================================================================\n",
      "Dep. Variable:                      choice   No. Observations:                1,000\n",
      "Model:             Multinomial Logit Model   Df Residuals:                      999\n",
      "Method:                                MLE   Df Model:                            1\n",
      "Date:                     Sun, 20 Nov 2016   Pseudo R-squ.:                   0.216\n",
      "Time:                             10:57:48   Pseudo R-bar-squ.:               0.216\n",
      "converged:                            True   Log-Likelihood:             -3,065.198\n",
      "                                             LL-Null:                    -3,912.023\n",
      "==============================================================================\n",
      "                 coef    std err          z      P>|z|      [95.0% Conf. Int.]\n",
      "------------------------------------------------------------------------------\n",
      "beta_x         1.5324      0.046     33.649      0.000         1.443     1.622\n",
      "==============================================================================\n",
      "CPU times: user 7.9 s, sys: 14.3 s, total: 22.2 s\n",
      "Wall time: 14.8 s\n"
     ]
    }
   ],
   "source": [
    "%%time\n",
    "m = pylogit.create_choice_model(data = df, \n",
    "                                alt_id_col = 'alt_id', \n",
    "                                obs_id_col = 'obs_id', \n",
    "                                choice_col = 'choice', \n",
    "                                specification = spec, \n",
    "                                model_type = \"MNL\", \n",
    "                                names = labels)\n",
    "\n",
    "m.fit_mle(init_vals = np.array([0]))\n",
    "print m.get_statsmodels_summary()"
   ]
  },
  {
   "cell_type": "code",
   "execution_count": null,
   "metadata": {
    "collapsed": true
   },
   "outputs": [],
   "source": []
  },
  {
   "cell_type": "code",
   "execution_count": null,
   "metadata": {
    "collapsed": false
   },
   "outputs": [],
   "source": []
  },
  {
   "cell_type": "markdown",
   "metadata": {},
   "source": [
    "## 3. Try with UrbanSim MNL instead of PyLogit\n",
    "\n",
    "Model class: https://github.com/UDST/urbansim/blob/master/urbansim/models/dcm.py\n",
    "\n",
    "Estimation algorithms: https://github.com/UDST/urbansim/blob/master/urbansim/urbanchoice/mnl.py"
   ]
  },
  {
   "cell_type": "code",
   "execution_count": 13,
   "metadata": {
    "collapsed": false
   },
   "outputs": [],
   "source": [
    "from urbansim.models import MNLDiscreteChoiceModel"
   ]
  },
  {
   "cell_type": "code",
   "execution_count": 43,
   "metadata": {
    "collapsed": false
   },
   "outputs": [
    {
     "name": "stdout",
     "output_type": "stream",
     "text": [
      "1000\n"
     ]
    }
   ],
   "source": [
    "# Choosers should be a DataFrame of characteristics, with index as identifier\n",
    "\n",
    "d = [[n, C[n]] for n in range(N)]\n",
    "\n",
    "choosers = pd.DataFrame(d, columns=['id', 'choice']).set_index('id')\n",
    "\n",
    "print len(choosers)"
   ]
  },
  {
   "cell_type": "code",
   "execution_count": 44,
   "metadata": {
    "collapsed": false
   },
   "outputs": [
    {
     "name": "stdout",
     "output_type": "stream",
     "text": [
      "50\n"
     ]
    }
   ],
   "source": [
    "# Alternatives should be a DataFrame of characteristics, with index as identifier\n",
    "\n",
    "d = [[i, X[i]] for i in range(J)]\n",
    "\n",
    "alts = pd.DataFrame(d, columns=['id', 'x']).set_index('id')\n",
    "\n",
    "print len(alts)"
   ]
  },
  {
   "cell_type": "code",
   "execution_count": 61,
   "metadata": {
    "collapsed": false
   },
   "outputs": [
    {
     "name": "stdout",
     "output_type": "stream",
     "text": [
      "Null Log-liklihood: -3891.820\n",
      "Log-liklihood at convergence: -3072.798\n",
      "Log-liklihood Ratio: 0.210\n",
      "\n",
      "+-----------+-------------+------------+---------+\n",
      "| Component | Coefficient | Std. Error | T-Score |\n",
      "+-----------+-------------+------------+---------+\n",
      "| x         |    1.528    |   0.022    |  69.281 |\n",
      "+-----------+-------------+------------+---------+\n"
     ]
    }
   ],
   "source": [
    "# It seems like this implementation *requires* us to sample the alternatives, \n",
    "# so here i'm estimating the model with J-1 alts\n",
    "\n",
    "m = MNLDiscreteChoiceModel(model_expression = 'x',\n",
    "                           sample_size = J-1)\n",
    "\n",
    "m.fit(choosers = choosers,\n",
    "      alternatives = alts,\n",
    "      current_choice = 'choice')\n",
    "\n",
    "m.report_fit()"
   ]
  },
  {
   "cell_type": "code",
   "execution_count": null,
   "metadata": {
    "collapsed": true
   },
   "outputs": [],
   "source": []
  },
  {
   "cell_type": "markdown",
   "metadata": {
    "collapsed": true
   },
   "source": [
    "## 4. MNL, sampling alternatives without correction"
   ]
  },
  {
   "cell_type": "code",
   "execution_count": null,
   "metadata": {
    "collapsed": true
   },
   "outputs": [],
   "source": [
    "# In the estimation dataset, for each observation include a row for the\n",
    "# chosen alternative, plus K-1 other alternatives sampled randomly\n",
    "# without replacement, where K < J."
   ]
  },
  {
   "cell_type": "code",
   "execution_count": 65,
   "metadata": {
    "collapsed": false
   },
   "outputs": [
    {
     "name": "stdout",
     "output_type": "stream",
     "text": [
      "[12, 46, 32, 47, 1, 43, 42, 11, 35, 9]\n"
     ]
    }
   ],
   "source": [
    "K = 10\n",
    "\n",
    "def alts(obs_id):\n",
    "    \"\"\"\n",
    "    Sample alternatives for observation `obs_id`. Expects `J` total\n",
    "    alts, `K` sampled alts, list `C` of choice outcomes. Returns list \n",
    "    of K alt id's including the chosen one.\n",
    "    \"\"\"\n",
    "    chosen = C[obs_id]  # id of chosen alternative\n",
    "    unchosen = [i for i in range(J) if chosen != i]  # id's of J-1 unchosen alts\n",
    "    sample_unchosen = np.random.choice(unchosen, size=K-1, replace=False)\n",
    "    return [chosen] + sample_unchosen.tolist()\n",
    "    \n",
    "print alts(0)"
   ]
  },
  {
   "cell_type": "code",
   "execution_count": 66,
   "metadata": {
    "collapsed": false
   },
   "outputs": [
    {
     "name": "stdout",
     "output_type": "stream",
     "text": [
      "10000\n"
     ]
    }
   ],
   "source": [
    "# Set up the estimation dataset\n",
    "\n",
    "d = [[n, i, int(C[n]==i), X[i]] for n in range(N) for i in alts(n)]\n",
    "\n",
    "print len(d)"
   ]
  },
  {
   "cell_type": "code",
   "execution_count": 67,
   "metadata": {
    "collapsed": false
   },
   "outputs": [
    {
     "name": "stdout",
     "output_type": "stream",
     "text": [
      "   obs_id  alt_id  choice         x\n",
      "0       0      12       1  0.832675\n",
      "1       0       4       0 -1.956275\n",
      "2       0      11       0 -0.181750\n",
      "3       0      35       0  1.850941\n",
      "4       0      30       0  1.107867 \n",
      "\n",
      "             obs_id        alt_id        choice             x\n",
      "count  10000.000000  10000.000000  10000.000000  10000.000000\n",
      "mean     499.500000     25.173500      0.100000      0.118479\n",
      "std      288.689425     14.329589      0.300015      1.154237\n",
      "min        0.000000      0.000000      0.000000     -1.993222\n",
      "25%      249.750000     13.000000      0.000000     -0.543868\n",
      "50%      499.500000     26.000000      0.000000      0.257751\n",
      "75%      749.250000     37.000000      0.000000      0.873746\n",
      "max      999.000000     49.000000      1.000000      1.985414\n"
     ]
    }
   ],
   "source": [
    "df = pd.DataFrame(d, columns=['obs_id', 'alt_id', 'choice', 'x'])\n",
    "\n",
    "print df.head(), '\\n'\n",
    "print df.describe()"
   ]
  },
  {
   "cell_type": "code",
   "execution_count": 68,
   "metadata": {
    "collapsed": true
   },
   "outputs": [],
   "source": [
    "# Same model spec as before\n",
    "\n",
    "spec = OrderedDict([\n",
    "        ('x', [range(J)])\n",
    "    ])\n",
    "\n",
    "labels = OrderedDict([\n",
    "        ('x', ['beta_x'])\n",
    "    ])"
   ]
  },
  {
   "cell_type": "code",
   "execution_count": 69,
   "metadata": {
    "collapsed": false
   },
   "outputs": [
    {
     "name": "stdout",
     "output_type": "stream",
     "text": [
      "Log-likelihood at zero: -2,302.5851\n",
      "Initial Log-likelihood: -2,302.5851\n",
      "Estimation Time: 0.02 seconds.\n",
      "Final log-likelihood: -1,566.8267\n",
      "                     Multinomial Logit Model Regression Results                    \n",
      "===================================================================================\n",
      "Dep. Variable:                      choice   No. Observations:                1,000\n",
      "Model:             Multinomial Logit Model   Df Residuals:                      999\n",
      "Method:                                MLE   Df Model:                            1\n",
      "Date:                     Sun, 20 Nov 2016   Pseudo R-squ.:                   0.320\n",
      "Time:                             12:00:38   Pseudo R-bar-squ.:               0.319\n",
      "converged:                            True   Log-Likelihood:             -1,566.827\n",
      "                                             LL-Null:                    -2,302.585\n",
      "==============================================================================\n",
      "                 coef    std err          z      P>|z|      [95.0% Conf. Int.]\n",
      "------------------------------------------------------------------------------\n",
      "beta_x         1.5100      0.051     29.667      0.000         1.410     1.610\n",
      "==============================================================================\n",
      "CPU times: user 642 ms, sys: 381 ms, total: 1.02 s\n",
      "Wall time: 658 ms\n"
     ]
    }
   ],
   "source": [
    "%%time\n",
    "m = pylogit.create_choice_model(data = df, \n",
    "                                alt_id_col = 'alt_id', \n",
    "                                obs_id_col = 'obs_id', \n",
    "                                choice_col = 'choice', \n",
    "                                specification = spec, \n",
    "                                model_type = \"MNL\", \n",
    "                                names = labels)\n",
    "\n",
    "m.fit_mle(init_vals = np.array([0]))\n",
    "print m.get_statsmodels_summary()"
   ]
  },
  {
   "cell_type": "markdown",
   "metadata": {},
   "source": [
    "### Run repeatedly and calculate average beta"
   ]
  },
  {
   "cell_type": "code",
   "execution_count": 78,
   "metadata": {
    "collapsed": false
   },
   "outputs": [],
   "source": [
    "def estimate_beta():\n",
    "    d = [[n, i, int(C[n]==i), X[i]] for n in range(N) for i in alts(n)]\n",
    "    df = pd.DataFrame(d, columns=['obs_id', 'alt_id', 'choice', 'x'])\n",
    "    m = pylogit.create_choice_model(df, 'alt_id', 'obs_id', 'choice', spec, 'MNL', names=labels)\n",
    "    m.fit_mle(init_vals = np.array([0]))\n",
    "    return m.params.beta_x"
   ]
  },
  {
   "cell_type": "code",
   "execution_count": 81,
   "metadata": {
    "collapsed": true
   },
   "outputs": [],
   "source": [
    "%%capture\n",
    "\n",
    "beta = []\n",
    "for i in range(50):\n",
    "    beta.append(estimate_beta())"
   ]
  },
  {
   "cell_type": "code",
   "execution_count": 82,
   "metadata": {
    "collapsed": false
   },
   "outputs": [
    {
     "name": "stdout",
     "output_type": "stream",
     "text": [
      "count    50.000000\n",
      "mean      1.522650\n",
      "std       0.023406\n",
      "min       1.480828\n",
      "25%       1.506538\n",
      "50%       1.523193\n",
      "75%       1.536155\n",
      "max       1.579116\n",
      "dtype: float64\n"
     ]
    }
   ],
   "source": [
    "print pd.Series(beta).describe()"
   ]
  },
  {
   "cell_type": "markdown",
   "metadata": {},
   "source": [
    "Appears biased downward from true coef of 1.532"
   ]
  },
  {
   "cell_type": "code",
   "execution_count": null,
   "metadata": {
    "collapsed": true
   },
   "outputs": [],
   "source": []
  },
  {
   "cell_type": "code",
   "execution_count": null,
   "metadata": {
    "collapsed": true
   },
   "outputs": [],
   "source": []
  },
  {
   "cell_type": "code",
   "execution_count": null,
   "metadata": {
    "collapsed": true
   },
   "outputs": [],
   "source": []
  },
  {
   "cell_type": "code",
   "execution_count": null,
   "metadata": {
    "collapsed": true
   },
   "outputs": [],
   "source": [
    "# To do \n",
    "# - look through PyLogit and LCCM code\n",
    "# - in many-alternative scenarios, attirbutes of the alternatives will \n",
    "#   usually be in a separate data table - what helper functions do we need?\n",
    "\n"
   ]
  },
  {
   "cell_type": "code",
   "execution_count": null,
   "metadata": {
    "collapsed": true
   },
   "outputs": [],
   "source": []
  }
 ],
 "metadata": {
  "kernelspec": {
   "display_name": "Python 2",
   "language": "python",
   "name": "python2"
  },
  "language_info": {
   "codemirror_mode": {
    "name": "ipython",
    "version": 2
   },
   "file_extension": ".py",
   "mimetype": "text/x-python",
   "name": "python",
   "nbconvert_exporter": "python",
   "pygments_lexer": "ipython2",
   "version": "2.7.11"
  }
 },
 "nbformat": 4,
 "nbformat_minor": 0
}
